{
  "nbformat": 4,
  "nbformat_minor": 0,
  "metadata": {
    "colab": {
      "name": "Getting_Started_With_Python_2.ipynb",
      "provenance": [],
      "collapsed_sections": [],
      "include_colab_link": true
    },
    "kernelspec": {
      "name": "python3",
      "display_name": "Python 3"
    }
  },
  "cells": [
    {
      "cell_type": "markdown",
      "metadata": {
        "id": "view-in-github",
        "colab_type": "text"
      },
      "source": [
        "<a href=\"https://colab.research.google.com/github/satheesheppalapelli/DataScience/blob/master/Getting_Started_With_Python_2.ipynb\" target=\"_parent\"><img src=\"https://colab.research.google.com/assets/colab-badge.svg\" alt=\"Open In Colab\"/></a>"
      ]
    },
    {
      "cell_type": "markdown",
      "metadata": {
        "id": "h_mpGYTQaLFs",
        "colab_type": "text"
      },
      "source": [
        "**Poem.txt**\n",
        "\n",
        "Unending Love by Rabindranath Tagore\n",
        "\n",
        "I seem to have loved you in numberless forms, numberless times\n",
        "In life after life, in age after age, forever.\n",
        "My spellbound heart has made and remade the necklace of songs,\n",
        "That you take as a gift, wear round your neck in your many forms,\n",
        "In life after life, in age after age, forever.\n",
        "\n",
        "Whenever I hear old chronicles of love, its age-old pain,\n",
        "Its ancient tale of being apart or together.\n",
        "As I stare on and on into the past, in the end you emerge,\n",
        "Clad in the light of a pole-star piercing the darkness of time:\n",
        "You become an image of what is remembered forever.\n",
        "\n",
        "You and I have floated here on the stream that brings from the fount.\n",
        "At the heart of time, love of one for another.\n",
        "We have played along side millions of lovers, shared in the same\n",
        "Shy sweetness of meeting, the same distressful tears of farewell-\n",
        "Old love but in shapes that renew and renew forever.\n",
        "\n",
        "Today it is heaped at your feet, it has found its end in you\n",
        "The love of all man’s days both past and forever:\n",
        "Universal joy, universal sorrow, universal life.\n",
        "The memories of all loves merging with this one love of ours –\n",
        "And the songs of every poet past and forever."
      ]
    },
    {
      "cell_type": "code",
      "metadata": {
        "colab_type": "code",
        "outputId": "9967a27c-6da2-482d-ef8d-4f39e9e1ceca",
        "id": "cV15cQDxqYdQ",
        "colab": {
          "base_uri": "https://localhost:8080/",
          "height": 54
        }
      },
      "source": [
        "f = open(\"/content/sample_data/poem.txt\", \"r\")\n",
        "out_lines = f.readlines()\n",
        "print(out_lines)\n",
        "f.close()"
      ],
      "execution_count": 19,
      "outputs": [
        {
          "output_type": "stream",
          "text": [
            "['Unending Love by Rabindranath Tagore\\n', '\\n', 'I seem to have loved you in numberless forms, numberless times\\n', 'In life after life, in age after age, forever.\\n', 'My spellbound heart has made and remade the necklace of songs,\\n', 'That you take as a gift, wear round your neck in your many forms,\\n', 'In life after life, in age after age, forever.\\n', '\\n', 'Whenever I hear old chronicles of love, its age-old pain,\\n', 'Its ancient tale of being apart or together.\\n', 'As I stare on and on into the past, in the end you emerge,\\n', 'Clad in the light of a pole-star piercing the darkness of time:\\n', 'You become an image of what is remembered forever.\\n', '\\n', 'You and I have floated here on the stream that brings from the fount.\\n', 'At the heart of time, love of one for another.\\n', 'We have played along side millions of lovers, shared in the same\\n', 'Shy sweetness of meeting, the same distressful tears of farewell-\\n', 'Old love but in shapes that renew and renew forever.\\n', '\\n', 'Today it is heaped at your feet, it has found its end in you\\n', 'The love of all man’s days both past and forever:\\n', 'Universal joy, universal sorrow, universal life.\\n', 'The memories of all loves merging with this one love of ours –\\n', 'And the songs of every poet past and forever.']\n"
          ],
          "name": "stdout"
        }
      ]
    },
    {
      "cell_type": "markdown",
      "metadata": {
        "id": "YPodBtxNI2uS",
        "colab_type": "text"
      },
      "source": [
        "# Documentation and Error Handling"
      ]
    },
    {
      "cell_type": "markdown",
      "metadata": {
        "id": "uBR5U473CLPr",
        "colab_type": "text"
      },
      "source": [
        "**Note to self about Fibonacci sequence**\n",
        "\n",
        "Start from *two* numbers $(f_0, f_1)$ and compute the $n$th value as \n",
        "$f_{n} \\leftarrow f_{n - 1} + f_{n - 2}$.\n",
        "\n",
        "It turns out that the ratio of consecutive numbers in the Fibonacci sequence approximates to the Golden ratio $\\phi$: \n",
        "$$ \\phi \\approx \\dfrac{f_n}{f_{n - 1}} $$"
      ]
    },
    {
      "cell_type": "code",
      "metadata": {
        "id": "fqC4mlzIBy36",
        "colab_type": "code",
        "colab": {}
      },
      "source": [
        "def fibonacci_sequence(n, a = 1, b = 1):\n",
        "    for i in range(n):\n",
        "        temp = a + b\n",
        "        a = b\n",
        "        b = temp\n",
        "    return temp"
      ],
      "execution_count": 0,
      "outputs": []
    },
    {
      "cell_type": "code",
      "metadata": {
        "id": "ILkL0PSiCRwE",
        "colab_type": "code",
        "colab": {}
      },
      "source": [
        "def input_single_float(prompt):\n",
        "    user_input = input(prompt)\n",
        "    output = float(user_input)\n",
        "    return output"
      ],
      "execution_count": 0,
      "outputs": []
    },
    {
      "cell_type": "code",
      "metadata": {
        "id": "9ft-ChR7Cba_",
        "colab_type": "code",
        "colab": {}
      },
      "source": [
        "def fibonacci_sequence(n, a =10, b = 1):\n",
        "    \"\"\"\n",
        "    This computes the nth number in the Fibonacci sequence\n",
        "    starting with a and b as the first two values.\n",
        "    \"\"\"\n",
        "    for i in range(n):\n",
        "        temp = a + b\n",
        "        a = b\n",
        "        b = temp\n",
        "    return temp"
      ],
      "execution_count": 0,
      "outputs": []
    },
    {
      "cell_type": "code",
      "metadata": {
        "id": "5tDaKoqmOQaM",
        "colab_type": "code",
        "colab": {}
      },
      "source": [
        "fibonacci_sequence?"
      ],
      "execution_count": 0,
      "outputs": []
    },
    {
      "cell_type": "code",
      "metadata": {
        "id": "kIjkQ0_0OVRg",
        "colab_type": "code",
        "colab": {}
      },
      "source": [
        "def input_single_float(prompt):\n",
        "    \"\"\"\n",
        "    This prompts user to input, and then converts this to a single float\n",
        "    \"\"\"\n",
        "    user_input = input(prompt)\n",
        "    output = float(user_input)\n",
        "    return output"
      ],
      "execution_count": 0,
      "outputs": []
    },
    {
      "cell_type": "code",
      "metadata": {
        "id": "VqIcwOflPMdi",
        "colab_type": "code",
        "outputId": "510dc60a-645b-40f5-dd3b-3f8c8c8b7259",
        "colab": {
          "base_uri": "https://localhost:8080/",
          "height": 34
        }
      },
      "source": [
        "val = input_single_float('Enter PI ')"
      ],
      "execution_count": 25,
      "outputs": [
        {
          "output_type": "stream",
          "text": [
            "Enter PI 3.14\n"
          ],
          "name": "stdout"
        }
      ]
    },
    {
      "cell_type": "code",
      "metadata": {
        "id": "OdONGuQLPTIW",
        "colab_type": "code",
        "colab": {}
      },
      "source": [
        "def input_single_float(prompt):\n",
        "    \"\"\"\n",
        "    This prompts user to input, and then converts this to a single float\n",
        "    \"\"\"\n",
        "    user_input = input(prompt)\n",
        "    try: \n",
        "        output = float(user_input)\n",
        "    except ValueError:\n",
        "        print(\"Input value must be a float\")\n",
        "        output = None\n",
        "    return output"
      ],
      "execution_count": 0,
      "outputs": []
    },
    {
      "cell_type": "code",
      "metadata": {
        "id": "UrJOrnHWP41g",
        "colab_type": "code",
        "outputId": "96cff9c9-6f5b-4bdd-e79e-c0cc624c2328",
        "colab": {
          "base_uri": "https://localhost:8080/",
          "height": 34
        }
      },
      "source": [
        "val = input_single_float('Enter PI ')"
      ],
      "execution_count": 27,
      "outputs": [
        {
          "output_type": "stream",
          "text": [
            "Enter PI 3.14\n"
          ],
          "name": "stdout"
        }
      ]
    },
    {
      "cell_type": "code",
      "metadata": {
        "id": "b5ERjMRdP66b",
        "colab_type": "code",
        "outputId": "1bab36cc-a5c6-47f9-d957-51ffe8a0b75a",
        "colab": {
          "base_uri": "https://localhost:8080/",
          "height": 34
        }
      },
      "source": [
        "print(val, type(val))"
      ],
      "execution_count": 28,
      "outputs": [
        {
          "output_type": "stream",
          "text": [
            "3.14 <class 'float'>\n"
          ],
          "name": "stdout"
        }
      ]
    },
    {
      "cell_type": "code",
      "metadata": {
        "id": "gvQoH-PdQPOt",
        "colab_type": "code",
        "colab": {}
      },
      "source": [
        "def input_single_float_inverse(prompt):\n",
        "    \"\"\"\n",
        "    This prompts user to input, and then converts this to a single float inverse\n",
        "    \"\"\"\n",
        "    user_input = input(prompt)\n",
        "    output = None\n",
        "    try: \n",
        "        output = 1/float(user_input)\n",
        "    except ValueError:\n",
        "        print(\"Input value must be a float\")\n",
        "    except ZeroDivisionError:\n",
        "        print(\"Input value must not be zero\")\n",
        "    return output"
      ],
      "execution_count": 0,
      "outputs": []
    },
    {
      "cell_type": "code",
      "metadata": {
        "id": "UHcwRqSyQfxj",
        "colab_type": "code",
        "outputId": "3e7115e1-239c-4dad-dec2-8314cf135c02",
        "colab": {
          "base_uri": "https://localhost:8080/",
          "height": 51
        }
      },
      "source": [
        "val = input_single_float_inverse('Enter number ')\n",
        "print(val)"
      ],
      "execution_count": 30,
      "outputs": [
        {
          "output_type": "stream",
          "text": [
            "Enter number 3.14\n",
            "0.3184713375796178\n"
          ],
          "name": "stdout"
        }
      ]
    },
    {
      "cell_type": "markdown",
      "metadata": {
        "id": "6Ut0mP550rvh",
        "colab_type": "text"
      },
      "source": [
        "# Lists"
      ]
    },
    {
      "cell_type": "code",
      "metadata": {
        "id": "2sCpl7IG0MCS",
        "colab_type": "code",
        "colab": {}
      },
      "source": [
        "course_name = \"Foundations of Data Science\""
      ],
      "execution_count": 0,
      "outputs": []
    },
    {
      "cell_type": "code",
      "metadata": {
        "id": "t22wYIzW0vvY",
        "colab_type": "code",
        "colab": {}
      },
      "source": [
        "words = course_name.split()"
      ],
      "execution_count": 0,
      "outputs": []
    },
    {
      "cell_type": "code",
      "metadata": {
        "id": "ooADbjda0yjN",
        "colab_type": "code",
        "outputId": "c4dddd7d-37ae-431b-aac8-f52b02e5b03b",
        "colab": {
          "base_uri": "https://localhost:8080/",
          "height": 34
        }
      },
      "source": [
        "print(words)"
      ],
      "execution_count": 33,
      "outputs": [
        {
          "output_type": "stream",
          "text": [
            "['Foundations', 'of', 'Data', 'Science']\n"
          ],
          "name": "stdout"
        }
      ]
    },
    {
      "cell_type": "code",
      "metadata": {
        "id": "_EpvJuLJ0znb",
        "colab_type": "code",
        "colab": {}
      },
      "source": [
        "str.split?"
      ],
      "execution_count": 0,
      "outputs": []
    },
    {
      "cell_type": "code",
      "metadata": {
        "id": "sumvsLzf08H6",
        "colab_type": "code",
        "outputId": "24c533f3-06e0-488b-8460-aae08d712ab3",
        "colab": {
          "base_uri": "https://localhost:8080/",
          "height": 34
        }
      },
      "source": [
        "print(type(words))"
      ],
      "execution_count": 35,
      "outputs": [
        {
          "output_type": "stream",
          "text": [
            "<class 'list'>\n"
          ],
          "name": "stdout"
        }
      ]
    },
    {
      "cell_type": "code",
      "metadata": {
        "id": "T0DrQ1rH1Fyq",
        "colab_type": "code",
        "outputId": "429f3f53-4af0-4c92-9d41-b890f58b9e9a",
        "colab": {
          "base_uri": "https://localhost:8080/",
          "height": 34
        }
      },
      "source": [
        "print(words[2])"
      ],
      "execution_count": 36,
      "outputs": [
        {
          "output_type": "stream",
          "text": [
            "Data\n"
          ],
          "name": "stdout"
        }
      ]
    },
    {
      "cell_type": "code",
      "metadata": {
        "id": "tqYdpiaK1MEF",
        "colab_type": "code",
        "outputId": "ebb178cf-1735-420a-bf8a-0a010e5eb3b6",
        "colab": {
          "base_uri": "https://localhost:8080/",
          "height": 34
        }
      },
      "source": [
        "print(type(words[-2]))"
      ],
      "execution_count": 37,
      "outputs": [
        {
          "output_type": "stream",
          "text": [
            "<class 'str'>\n"
          ],
          "name": "stdout"
        }
      ]
    },
    {
      "cell_type": "code",
      "metadata": {
        "id": "T4Tmfhax1Ywi",
        "colab_type": "code",
        "outputId": "565e53ff-55ed-45bf-da0e-166fc32e7edb",
        "colab": {
          "base_uri": "https://localhost:8080/",
          "height": 34
        }
      },
      "source": [
        "print(words[-2].lower())"
      ],
      "execution_count": 38,
      "outputs": [
        {
          "output_type": "stream",
          "text": [
            "data\n"
          ],
          "name": "stdout"
        }
      ]
    },
    {
      "cell_type": "code",
      "metadata": {
        "id": "x6hTL0KR1fMc",
        "colab_type": "code",
        "outputId": "a50e02bf-e3d8-44f7-db29-9df548c8e22a",
        "colab": {
          "base_uri": "https://localhost:8080/",
          "height": 34
        }
      },
      "source": [
        "print(words[0:2])"
      ],
      "execution_count": 39,
      "outputs": [
        {
          "output_type": "stream",
          "text": [
            "['Foundations', 'of']\n"
          ],
          "name": "stdout"
        }
      ]
    },
    {
      "cell_type": "code",
      "metadata": {
        "id": "ObnsuU-I1qN8",
        "colab_type": "code",
        "outputId": "6243b6c4-b4d9-4f05-e03a-27e60e6289b6",
        "colab": {
          "base_uri": "https://localhost:8080/",
          "height": 34
        }
      },
      "source": [
        "print(words[:2])"
      ],
      "execution_count": 40,
      "outputs": [
        {
          "output_type": "stream",
          "text": [
            "['Foundations', 'of']\n"
          ],
          "name": "stdout"
        }
      ]
    },
    {
      "cell_type": "code",
      "metadata": {
        "id": "TwYJRQ2K10SO",
        "colab_type": "code",
        "outputId": "e8303d1f-5143-4c8a-dc29-be6ea628ed27",
        "colab": {
          "base_uri": "https://localhost:8080/",
          "height": 34
        }
      },
      "source": [
        "print(type(words[1:]))"
      ],
      "execution_count": 41,
      "outputs": [
        {
          "output_type": "stream",
          "text": [
            "<class 'list'>\n"
          ],
          "name": "stdout"
        }
      ]
    },
    {
      "cell_type": "code",
      "metadata": {
        "id": "wkKVVYK2130R",
        "colab_type": "code",
        "colab": {}
      },
      "source": [
        "new_words = [\"Machine\", \"Learning\"]"
      ],
      "execution_count": 0,
      "outputs": []
    },
    {
      "cell_type": "code",
      "metadata": {
        "id": "A6dHEz1v2BwZ",
        "colab_type": "code",
        "outputId": "738ba2ca-c3e4-45af-8253-093c9ae499e6",
        "colab": {
          "base_uri": "https://localhost:8080/",
          "height": 34
        }
      },
      "source": [
        "print(type(new_words))"
      ],
      "execution_count": 43,
      "outputs": [
        {
          "output_type": "stream",
          "text": [
            "<class 'list'>\n"
          ],
          "name": "stdout"
        }
      ]
    },
    {
      "cell_type": "code",
      "metadata": {
        "id": "U6W2YM7O2DDd",
        "colab_type": "code",
        "outputId": "d78e011d-0660-4d66-f1b1-16b3dbc19298",
        "colab": {
          "base_uri": "https://localhost:8080/",
          "height": 34
        }
      },
      "source": [
        "print(new_words[0])"
      ],
      "execution_count": 44,
      "outputs": [
        {
          "output_type": "stream",
          "text": [
            "Machine\n"
          ],
          "name": "stdout"
        }
      ]
    },
    {
      "cell_type": "code",
      "metadata": {
        "id": "CLPct_dn2FjV",
        "colab_type": "code",
        "colab": {}
      },
      "source": [
        "fibonacci_list = [1, 1, 2, 3, 5, 8, 13, 21]"
      ],
      "execution_count": 0,
      "outputs": []
    },
    {
      "cell_type": "code",
      "metadata": {
        "id": "EINXgpEX2K2l",
        "colab_type": "code",
        "outputId": "8dec9864-7614-4c4c-9422-b0b23a6cb7d8",
        "colab": {
          "base_uri": "https://localhost:8080/",
          "height": 34
        }
      },
      "source": [
        "print(type(fibonacci_list[0]))"
      ],
      "execution_count": 46,
      "outputs": [
        {
          "output_type": "stream",
          "text": [
            "<class 'int'>\n"
          ],
          "name": "stdout"
        }
      ]
    },
    {
      "cell_type": "code",
      "metadata": {
        "id": "FureZr8r2MQR",
        "colab_type": "code",
        "outputId": "d7eeaa85-1151-47bc-9529-a76832ac9768",
        "colab": {
          "base_uri": "https://localhost:8080/",
          "height": 34
        }
      },
      "source": [
        "print(fibonacci_list[0] + 10)"
      ],
      "execution_count": 47,
      "outputs": [
        {
          "output_type": "stream",
          "text": [
            "11\n"
          ],
          "name": "stdout"
        }
      ]
    },
    {
      "cell_type": "code",
      "metadata": {
        "id": "wHCWmqiU2RYh",
        "colab_type": "code",
        "outputId": "3b6dab56-3078-4558-b8d2-6f849eb544cd",
        "colab": {
          "base_uri": "https://localhost:8080/",
          "height": 153
        }
      },
      "source": [
        "for num in fibonacci_list:\n",
        "    print(num + 10)"
      ],
      "execution_count": 48,
      "outputs": [
        {
          "output_type": "stream",
          "text": [
            "11\n",
            "11\n",
            "12\n",
            "13\n",
            "15\n",
            "18\n",
            "23\n",
            "31\n"
          ],
          "name": "stdout"
        }
      ]
    },
    {
      "cell_type": "code",
      "metadata": {
        "id": "OmGFOHv52c-Q",
        "colab_type": "code",
        "outputId": "2c0c96e3-e46f-46f4-8e5c-9db02aa39c64",
        "colab": {
          "base_uri": "https://localhost:8080/",
          "height": 34
        }
      },
      "source": [
        "length = len(fibonacci_list)\n",
        "print(length)"
      ],
      "execution_count": 49,
      "outputs": [
        {
          "output_type": "stream",
          "text": [
            "8\n"
          ],
          "name": "stdout"
        }
      ]
    },
    {
      "cell_type": "code",
      "metadata": {
        "id": "R7wnHSMH2sPE",
        "colab_type": "code",
        "outputId": "4faa79ea-5d57-4ac1-b4df-fe344ce58d4a",
        "colab": {
          "base_uri": "https://localhost:8080/",
          "height": 153
        }
      },
      "source": [
        "for i in range(length):\n",
        "    print(i, fibonacci_list[i])"
      ],
      "execution_count": 50,
      "outputs": [
        {
          "output_type": "stream",
          "text": [
            "0 1\n",
            "1 1\n",
            "2 2\n",
            "3 3\n",
            "4 5\n",
            "5 8\n",
            "6 13\n",
            "7 21\n"
          ],
          "name": "stdout"
        }
      ]
    },
    {
      "cell_type": "code",
      "metadata": {
        "id": "MjWqDjLF2xk_",
        "colab_type": "code",
        "colab": {}
      },
      "source": [
        "bmi_record = [\"Satheesh\", 75, 1.73, False]"
      ],
      "execution_count": 0,
      "outputs": []
    },
    {
      "cell_type": "code",
      "metadata": {
        "id": "nNLZS8m43HjW",
        "colab_type": "code",
        "outputId": "db091dac-8485-442b-ea0e-12a6edb03cd2",
        "colab": {
          "base_uri": "https://localhost:8080/",
          "height": 34
        }
      },
      "source": [
        "print(type(bmi_record))"
      ],
      "execution_count": 52,
      "outputs": [
        {
          "output_type": "stream",
          "text": [
            "<class 'list'>\n"
          ],
          "name": "stdout"
        }
      ]
    },
    {
      "cell_type": "code",
      "metadata": {
        "id": "xgTlXkEf3JUL",
        "colab_type": "code",
        "outputId": "38ff4a94-0b13-461a-add2-2bc33dae75cc",
        "colab": {
          "base_uri": "https://localhost:8080/",
          "height": 85
        }
      },
      "source": [
        "for item in bmi_record:\n",
        "    print(item, type(item))"
      ],
      "execution_count": 53,
      "outputs": [
        {
          "output_type": "stream",
          "text": [
            "Satheesh <class 'str'>\n",
            "75 <class 'int'>\n",
            "1.73 <class 'float'>\n",
            "False <class 'bool'>\n"
          ],
          "name": "stdout"
        }
      ]
    },
    {
      "cell_type": "code",
      "metadata": {
        "id": "5zQYms0i3OWy",
        "colab_type": "code",
        "colab": {}
      },
      "source": [
        "bmi_record[0] = \"satheesh E\""
      ],
      "execution_count": 0,
      "outputs": []
    },
    {
      "cell_type": "code",
      "metadata": {
        "id": "TUwm9fjg3Whh",
        "colab_type": "code",
        "colab": {}
      },
      "source": [
        "bmi_record.append(\"satheeshe@idontknow.com\")"
      ],
      "execution_count": 0,
      "outputs": []
    },
    {
      "cell_type": "code",
      "metadata": {
        "id": "8ZmQL12t3fiK",
        "colab_type": "code",
        "outputId": "fc2cbd22-95df-475b-a93a-2532449ecc50",
        "colab": {
          "base_uri": "https://localhost:8080/",
          "height": 102
        }
      },
      "source": [
        "for item in bmi_record:\n",
        "    print(item, type(item))"
      ],
      "execution_count": 56,
      "outputs": [
        {
          "output_type": "stream",
          "text": [
            "satheesh E <class 'str'>\n",
            "75 <class 'int'>\n",
            "1.73 <class 'float'>\n",
            "False <class 'bool'>\n",
            "satheeshe@idontknow.com <class 'str'>\n"
          ],
          "name": "stdout"
        }
      ]
    },
    {
      "cell_type": "markdown",
      "metadata": {
        "id": "-ziDAeaFJQRR",
        "colab_type": "text"
      },
      "source": [
        "# Lists - continued"
      ]
    },
    {
      "cell_type": "code",
      "metadata": {
        "id": "EQkc3mMy3hD-",
        "colab_type": "code",
        "colab": {}
      },
      "source": [
        "bmi_dataset = [\n",
        "               [\"Krishna\", 75, 1.73, False],\n",
        "               [\"Bheem\", 120, 1.78, True]\n",
        "]"
      ],
      "execution_count": 0,
      "outputs": []
    },
    {
      "cell_type": "code",
      "metadata": {
        "id": "xEvdr535Jg3d",
        "colab_type": "code",
        "outputId": "68b37a7c-5a92-4498-a7b4-b089e86ce9ac",
        "colab": {
          "base_uri": "https://localhost:8080/",
          "height": 34
        }
      },
      "source": [
        "print(type(bmi_dataset[1]))"
      ],
      "execution_count": 58,
      "outputs": [
        {
          "output_type": "stream",
          "text": [
            "<class 'list'>\n"
          ],
          "name": "stdout"
        }
      ]
    },
    {
      "cell_type": "code",
      "metadata": {
        "id": "r3NEcEflJjuA",
        "colab_type": "code",
        "outputId": "50153ecd-7e30-4b3b-86ae-95efd6f9c3d5",
        "colab": {
          "base_uri": "https://localhost:8080/",
          "height": 34
        }
      },
      "source": [
        "print(bmi_dataset[0])"
      ],
      "execution_count": 59,
      "outputs": [
        {
          "output_type": "stream",
          "text": [
            "['Krishna', 75, 1.73, False]\n"
          ],
          "name": "stdout"
        }
      ]
    },
    {
      "cell_type": "code",
      "metadata": {
        "id": "GSkr_XjBJtrP",
        "colab_type": "code",
        "outputId": "d42c9c5e-d261-4ab1-83b4-c28e897193e5",
        "colab": {
          "base_uri": "https://localhost:8080/",
          "height": 34
        }
      },
      "source": [
        "print(type(bmi_dataset[0][0]))"
      ],
      "execution_count": 60,
      "outputs": [
        {
          "output_type": "stream",
          "text": [
            "<class 'str'>\n"
          ],
          "name": "stdout"
        }
      ]
    },
    {
      "cell_type": "code",
      "metadata": {
        "id": "yREJjR6WJ2r3",
        "colab_type": "code",
        "outputId": "a513ec88-8d46-4b17-e694-fc6427f34e57",
        "colab": {
          "base_uri": "https://localhost:8080/",
          "height": 34
        }
      },
      "source": [
        "print(bmi_dataset[1][2])"
      ],
      "execution_count": 61,
      "outputs": [
        {
          "output_type": "stream",
          "text": [
            "1.78\n"
          ],
          "name": "stdout"
        }
      ]
    },
    {
      "cell_type": "code",
      "metadata": {
        "id": "4Vokqa0FJ89l",
        "colab_type": "code",
        "colab": {}
      },
      "source": [
        "bmi_dataset[1].append(\"bheem@foodtruck.com\")"
      ],
      "execution_count": 0,
      "outputs": []
    },
    {
      "cell_type": "code",
      "metadata": {
        "id": "Rzgndf4aKO8p",
        "colab_type": "code",
        "outputId": "f1763c10-2b22-4729-f237-c3b2ff7b81ab",
        "colab": {
          "base_uri": "https://localhost:8080/",
          "height": 34
        }
      },
      "source": [
        "print(bmi_dataset)"
      ],
      "execution_count": 63,
      "outputs": [
        {
          "output_type": "stream",
          "text": [
            "[['Krishna', 75, 1.73, False], ['Bheem', 120, 1.78, True, 'bheem@foodtruck.com']]\n"
          ],
          "name": "stdout"
        }
      ]
    },
    {
      "cell_type": "code",
      "metadata": {
        "id": "Lkz3Es5QKQf3",
        "colab_type": "code",
        "colab": {}
      },
      "source": [
        "bmi_dataset[1][1] = 125"
      ],
      "execution_count": 0,
      "outputs": []
    },
    {
      "cell_type": "code",
      "metadata": {
        "id": "aBBMxzV7KZ_1",
        "colab_type": "code",
        "colab": {}
      },
      "source": [
        "identity_3 = [\n",
        "              [1, 0, 0],\n",
        "              [0, 1, 0],\n",
        "              [0, 0, 1]\n",
        "]"
      ],
      "execution_count": 0,
      "outputs": []
    },
    {
      "cell_type": "code",
      "metadata": {
        "id": "7NTzmXOwKqp8",
        "colab_type": "code",
        "outputId": "a1bec96e-3dd7-468e-9b7c-43d228f5273b",
        "colab": {
          "base_uri": "https://localhost:8080/",
          "height": 34
        }
      },
      "source": [
        "print(identity_3[2][2])"
      ],
      "execution_count": 66,
      "outputs": [
        {
          "output_type": "stream",
          "text": [
            "1\n"
          ],
          "name": "stdout"
        }
      ]
    },
    {
      "cell_type": "code",
      "metadata": {
        "id": "eutbtw4XKsd0",
        "colab_type": "code",
        "colab": {}
      },
      "source": [
        "A = [1, 2]"
      ],
      "execution_count": 0,
      "outputs": []
    },
    {
      "cell_type": "code",
      "metadata": {
        "id": "prDRE12VK6Wt",
        "colab_type": "code",
        "colab": {}
      },
      "source": [
        "B = A"
      ],
      "execution_count": 0,
      "outputs": []
    },
    {
      "cell_type": "code",
      "metadata": {
        "id": "ARmetUuiK7hZ",
        "colab_type": "code",
        "outputId": "c400c4fe-a954-4564-81e7-988658633541",
        "colab": {
          "base_uri": "https://localhost:8080/",
          "height": 34
        }
      },
      "source": [
        "print(B)"
      ],
      "execution_count": 69,
      "outputs": [
        {
          "output_type": "stream",
          "text": [
            "[1, 2]\n"
          ],
          "name": "stdout"
        }
      ]
    },
    {
      "cell_type": "code",
      "metadata": {
        "id": "C8N0K8KlK9M8",
        "colab_type": "code",
        "colab": {}
      },
      "source": [
        "A[0] = A[0] + A[1]"
      ],
      "execution_count": 0,
      "outputs": []
    },
    {
      "cell_type": "code",
      "metadata": {
        "id": "kJt33znALCpE",
        "colab_type": "code",
        "outputId": "842171fb-1a0f-4b40-eae9-2bfdd307ded6",
        "colab": {
          "base_uri": "https://localhost:8080/",
          "height": 34
        }
      },
      "source": [
        "print(A)"
      ],
      "execution_count": 71,
      "outputs": [
        {
          "output_type": "stream",
          "text": [
            "[3, 2]\n"
          ],
          "name": "stdout"
        }
      ]
    },
    {
      "cell_type": "code",
      "metadata": {
        "id": "l_O2qJtwLDZq",
        "colab_type": "code",
        "outputId": "9a7098f7-e96e-4303-c951-300fbf862c92",
        "colab": {
          "base_uri": "https://localhost:8080/",
          "height": 34
        }
      },
      "source": [
        "print(B)"
      ],
      "execution_count": 72,
      "outputs": [
        {
          "output_type": "stream",
          "text": [
            "[3, 2]\n"
          ],
          "name": "stdout"
        }
      ]
    },
    {
      "cell_type": "code",
      "metadata": {
        "id": "Ngunj3jtLEv0",
        "colab_type": "code",
        "colab": {}
      },
      "source": [
        "A = [1, 2]"
      ],
      "execution_count": 0,
      "outputs": []
    },
    {
      "cell_type": "code",
      "metadata": {
        "id": "mROzmMJgLXrn",
        "colab_type": "code",
        "colab": {}
      },
      "source": [
        "B = [item for item in A]"
      ],
      "execution_count": 0,
      "outputs": []
    },
    {
      "cell_type": "code",
      "metadata": {
        "id": "6NlLnK1XLiyu",
        "colab_type": "code",
        "outputId": "0880cf04-fc76-49ee-b4ee-a285dafe611a",
        "colab": {
          "base_uri": "https://localhost:8080/",
          "height": 34
        }
      },
      "source": [
        "print(B)"
      ],
      "execution_count": 75,
      "outputs": [
        {
          "output_type": "stream",
          "text": [
            "[1, 2]\n"
          ],
          "name": "stdout"
        }
      ]
    },
    {
      "cell_type": "code",
      "metadata": {
        "id": "PbZtWubDLjgK",
        "colab_type": "code",
        "colab": {}
      },
      "source": [
        "A[0] = A[0] + A[1]"
      ],
      "execution_count": 0,
      "outputs": []
    },
    {
      "cell_type": "code",
      "metadata": {
        "id": "o_fIxWZ4Lk_w",
        "colab_type": "code",
        "outputId": "49b7b113-80b9-484e-d41a-b65723da227c",
        "colab": {
          "base_uri": "https://localhost:8080/",
          "height": 34
        }
      },
      "source": [
        "print(A)"
      ],
      "execution_count": 77,
      "outputs": [
        {
          "output_type": "stream",
          "text": [
            "[3, 2]\n"
          ],
          "name": "stdout"
        }
      ]
    },
    {
      "cell_type": "code",
      "metadata": {
        "id": "QrKvnxdtLlls",
        "colab_type": "code",
        "outputId": "e4e72c27-4a2f-4056-cdb6-0f9ef20c306e",
        "colab": {
          "base_uri": "https://localhost:8080/",
          "height": 34
        }
      },
      "source": [
        "print(B)"
      ],
      "execution_count": 78,
      "outputs": [
        {
          "output_type": "stream",
          "text": [
            "[1, 2]\n"
          ],
          "name": "stdout"
        }
      ]
    },
    {
      "cell_type": "markdown",
      "metadata": {
        "id": "cmJis39bLvNn",
        "colab_type": "text"
      },
      "source": [
        "# Exercise for Lists\n",
        "\n",
        "Given the following square matrix $A$\n",
        "$$A =  \\begin{pmatrix} 1 & 1 \\\\ 1 & 0  \\end{pmatrix}$$\n",
        "compute the matrix $A^n$ obtained by multiplying $A$ to itself $n$ times.\n",
        " \n",
        "Can you comment on the left-top value in $A^n$ (what does this remind you of?)"
      ]
    },
    {
      "cell_type": "code",
      "metadata": {
        "id": "yfKUGqMNLmcn",
        "colab_type": "code",
        "colab": {}
      },
      "source": [
        "def square_matrix_power(A, n):\n",
        "    output = A\n",
        "    temp = A\n",
        "    for i in range(n - 1):\n",
        "        # output = A * output\n",
        "        # -> output = A * temp\n",
        "        #    temp = output\n",
        "        output[0][0] = A[0][0] * temp[0][0] + A[0][1] * temp[1][0]\n",
        "        output[0][1] = A[0][0] * temp[0][1] + A[0][1] * temp[1][1]\n",
        "        output[1][0] = A[1][0] * temp[0][0] + A[1][1] * temp[1][0]\n",
        "        output[1][1] = A[1][0] * temp[0][1] + A[1][1] * temp[1][1]\n",
        "        temp = output\n",
        "    return output"
      ],
      "execution_count": 0,
      "outputs": []
    },
    {
      "cell_type": "code",
      "metadata": {
        "id": "1gCv_QnCNoEv",
        "colab_type": "code",
        "colab": {}
      },
      "source": [
        "A = [\n",
        "     [1, 1], \n",
        "     [1, 0]\n",
        "]"
      ],
      "execution_count": 0,
      "outputs": []
    },
    {
      "cell_type": "code",
      "metadata": {
        "id": "1WSp8kFJNrMG",
        "colab_type": "code",
        "outputId": "db4afd8a-e973-4d54-88ee-83298422c5f7",
        "colab": {
          "base_uri": "https://localhost:8080/",
          "height": 34
        }
      },
      "source": [
        "print(square_matrix_power(A, 2))"
      ],
      "execution_count": 81,
      "outputs": [
        {
          "output_type": "stream",
          "text": [
            "[[2, 2], [2, 4]]\n"
          ],
          "name": "stdout"
        }
      ]
    },
    {
      "cell_type": "code",
      "metadata": {
        "id": "DF4JZ9NbOXai",
        "colab_type": "code",
        "colab": {}
      },
      "source": [
        "def square_matrix_power(A, n):\n",
        "    output = [item[:] for item in A]\n",
        "    temp = [item[:] for item in A]\n",
        "    for i in range(n - 1):\n",
        "        # output = A * output\n",
        "        # -> output = A * temp\n",
        "        #    temp = output\n",
        "        output[0][0] = A[0][0] * temp[0][0] + A[0][1] * temp[1][0]\n",
        "        output[0][1] = A[0][0] * temp[0][1] + A[0][1] * temp[1][1]\n",
        "        output[1][0] = A[1][0] * temp[0][0] + A[1][1] * temp[1][0]\n",
        "        output[1][1] = A[1][0] * temp[0][1] + A[1][1] * temp[1][1]\n",
        "        temp = [item[:] for item in output]\n",
        "    return output"
      ],
      "execution_count": 0,
      "outputs": []
    },
    {
      "cell_type": "code",
      "metadata": {
        "id": "AY5Tj-w0PMLQ",
        "colab_type": "code",
        "colab": {}
      },
      "source": [
        "A = [\n",
        "     [1, 1], \n",
        "     [1, 0]\n",
        "]"
      ],
      "execution_count": 0,
      "outputs": []
    },
    {
      "cell_type": "code",
      "metadata": {
        "id": "IUJhgUDbPGuR",
        "colab_type": "code",
        "outputId": "5ad5d608-373d-41c4-9aae-d821c6f7c700",
        "colab": {
          "base_uri": "https://localhost:8080/",
          "height": 34
        }
      },
      "source": [
        "print(square_matrix_power(A, 2))"
      ],
      "execution_count": 84,
      "outputs": [
        {
          "output_type": "stream",
          "text": [
            "[[2, 1], [1, 1]]\n"
          ],
          "name": "stdout"
        }
      ]
    },
    {
      "cell_type": "code",
      "metadata": {
        "id": "2PLmw7oOPKDc",
        "colab_type": "code",
        "outputId": "a3b92624-5b89-4675-9b84-c1afaaa0fd57",
        "colab": {
          "base_uri": "https://localhost:8080/",
          "height": 187
        }
      },
      "source": [
        "for n in range(10):\n",
        "    output = square_matrix_power(A, n)\n",
        "    print(n, output[0][0])"
      ],
      "execution_count": 85,
      "outputs": [
        {
          "output_type": "stream",
          "text": [
            "0 1\n",
            "1 1\n",
            "2 2\n",
            "3 3\n",
            "4 5\n",
            "5 8\n",
            "6 13\n",
            "7 21\n",
            "8 34\n",
            "9 55\n"
          ],
          "name": "stdout"
        }
      ]
    },
    {
      "cell_type": "markdown",
      "metadata": {
        "id": "V4bsIvOxSRJE",
        "colab_type": "text"
      },
      "source": [
        "# Tuples and Sets"
      ]
    },
    {
      "cell_type": "code",
      "metadata": {
        "id": "_DJblfyJPhY1",
        "colab_type": "code",
        "colab": {}
      },
      "source": [
        "bmi_categories = (\"Underweight\", \"Normal\", \"Overweight\", \"Very overweight\")"
      ],
      "execution_count": 0,
      "outputs": []
    },
    {
      "cell_type": "code",
      "metadata": {
        "id": "8CXBKymkSktX",
        "colab_type": "code",
        "outputId": "8cfc86f9-dbf5-4104-a077-6dd12a17b4fd",
        "colab": {
          "base_uri": "https://localhost:8080/",
          "height": 34
        }
      },
      "source": [
        "print(type(bmi_categories))"
      ],
      "execution_count": 87,
      "outputs": [
        {
          "output_type": "stream",
          "text": [
            "<class 'tuple'>\n"
          ],
          "name": "stdout"
        }
      ]
    },
    {
      "cell_type": "code",
      "metadata": {
        "id": "PSZ4cleeSnNq",
        "colab_type": "code",
        "outputId": "f867c27f-311f-4d46-c08c-273e95c42718",
        "colab": {
          "base_uri": "https://localhost:8080/",
          "height": 34
        }
      },
      "source": [
        "print(bmi_categories[-1])"
      ],
      "execution_count": 88,
      "outputs": [
        {
          "output_type": "stream",
          "text": [
            "Very overweight\n"
          ],
          "name": "stdout"
        }
      ]
    },
    {
      "cell_type": "code",
      "metadata": {
        "id": "Atj3VM1RSs_Z",
        "colab_type": "code",
        "outputId": "c5df854c-9c6c-4395-b052-20c5250fc032",
        "colab": {
          "base_uri": "https://localhost:8080/",
          "height": 34
        }
      },
      "source": [
        "print(bmi_categories[0:2])"
      ],
      "execution_count": 89,
      "outputs": [
        {
          "output_type": "stream",
          "text": [
            "('Underweight', 'Normal')\n"
          ],
          "name": "stdout"
        }
      ]
    },
    {
      "cell_type": "code",
      "metadata": {
        "id": "KhqmARH5S3p4",
        "colab_type": "code",
        "outputId": "321297fc-3661-4849-fd7a-5e2a95d64236",
        "colab": {
          "base_uri": "https://localhost:8080/",
          "height": 34
        }
      },
      "source": [
        "bmi_categories.index(\"Normal\")"
      ],
      "execution_count": 90,
      "outputs": [
        {
          "output_type": "execute_result",
          "data": {
            "text/plain": [
              "1"
            ]
          },
          "metadata": {
            "tags": []
          },
          "execution_count": 90
        }
      ]
    },
    {
      "cell_type": "code",
      "metadata": {
        "id": "ThQzsWyRTEvp",
        "colab_type": "code",
        "outputId": "6c26bdb9-34e8-415b-f4ce-dfbbaa3a23b3",
        "colab": {
          "base_uri": "https://localhost:8080/",
          "height": 163
        }
      },
      "source": [
        "bmi_categories.index(\"Very underweight\")"
      ],
      "execution_count": 94,
      "outputs": [
        {
          "output_type": "error",
          "ename": "ValueError",
          "evalue": "ignored",
          "traceback": [
            "\u001b[0;31m---------------------------------------------------------------------------\u001b[0m",
            "\u001b[0;31mValueError\u001b[0m                                Traceback (most recent call last)",
            "\u001b[0;32m<ipython-input-94-e8511bb3003f>\u001b[0m in \u001b[0;36m<module>\u001b[0;34m()\u001b[0m\n\u001b[0;32m----> 1\u001b[0;31m \u001b[0mbmi_categories\u001b[0m\u001b[0;34m.\u001b[0m\u001b[0mindex\u001b[0m\u001b[0;34m(\u001b[0m\u001b[0;34m\"Very underweight\"\u001b[0m\u001b[0;34m)\u001b[0m\u001b[0;34m\u001b[0m\u001b[0;34m\u001b[0m\u001b[0m\n\u001b[0m",
            "\u001b[0;31mValueError\u001b[0m: tuple.index(x): x not in tuple"
          ]
        }
      ]
    },
    {
      "cell_type": "code",
      "metadata": {
        "id": "VXt7mx4ATMgp",
        "colab_type": "code",
        "colab": {
          "base_uri": "https://localhost:8080/",
          "height": 34
        },
        "outputId": "be1ed825-8846-4c36-ca0a-dc802f4b77eb"
      },
      "source": [
        "print(\"Underweight\" in bmi_categories)"
      ],
      "execution_count": 92,
      "outputs": [
        {
          "output_type": "stream",
          "text": [
            "True\n"
          ],
          "name": "stdout"
        }
      ]
    },
    {
      "cell_type": "code",
      "metadata": {
        "id": "ku1Ohc4RTVAe",
        "colab_type": "code",
        "colab": {
          "base_uri": "https://localhost:8080/",
          "height": 163
        },
        "outputId": "0f0cd7af-ccf5-4f86-c0da-c00abb2f2f55"
      },
      "source": [
        "bmi_categories[3] = \"VERY overweight\""
      ],
      "execution_count": 95,
      "outputs": [
        {
          "output_type": "error",
          "ename": "TypeError",
          "evalue": "ignored",
          "traceback": [
            "\u001b[0;31m---------------------------------------------------------------------------\u001b[0m",
            "\u001b[0;31mTypeError\u001b[0m                                 Traceback (most recent call last)",
            "\u001b[0;32m<ipython-input-95-d2ac44599195>\u001b[0m in \u001b[0;36m<module>\u001b[0;34m()\u001b[0m\n\u001b[0;32m----> 1\u001b[0;31m \u001b[0mbmi_categories\u001b[0m\u001b[0;34m[\u001b[0m\u001b[0;36m3\u001b[0m\u001b[0;34m]\u001b[0m \u001b[0;34m=\u001b[0m \u001b[0;34m\"VERY overweight\"\u001b[0m\u001b[0;34m\u001b[0m\u001b[0;34m\u001b[0m\u001b[0m\n\u001b[0m",
            "\u001b[0;31mTypeError\u001b[0m: 'tuple' object does not support item assignment"
          ]
        }
      ]
    },
    {
      "cell_type": "code",
      "metadata": {
        "id": "EGiN0aGOTiTW",
        "colab_type": "code",
        "colab": {
          "base_uri": "https://localhost:8080/",
          "height": 34
        },
        "outputId": "1b0643f1-c4a7-4d23-e262-80b132acd977"
      },
      "source": [
        "%%timeit -n1 -r10\n",
        "for i in range(1000000):\n",
        "    my_list = [\"Tuples\", \"are\", \"faster\", \"than\", \"lists\"]"
      ],
      "execution_count": 96,
      "outputs": [
        {
          "output_type": "stream",
          "text": [
            "1 loop, best of 10: 67.1 ms per loop\n"
          ],
          "name": "stdout"
        }
      ]
    },
    {
      "cell_type": "code",
      "metadata": {
        "id": "UvYyyEkAUc1M",
        "colab_type": "code",
        "colab": {}
      },
      "source": [
        "%%timeit?"
      ],
      "execution_count": 0,
      "outputs": []
    },
    {
      "cell_type": "code",
      "metadata": {
        "id": "i23Msh0bUiAM",
        "colab_type": "code",
        "colab": {
          "base_uri": "https://localhost:8080/",
          "height": 34
        },
        "outputId": "9f1c345b-fa2a-4659-9001-9f1dd92fe424"
      },
      "source": [
        "%%timeit -n1 -r10\n",
        "for i in range(1000000):\n",
        "    my_tuple = (\"Tuples\", \"are\", \"faster\", \"than\", \"lists\")"
      ],
      "execution_count": 98,
      "outputs": [
        {
          "output_type": "stream",
          "text": [
            "1 loop, best of 10: 24.8 ms per loop\n"
          ],
          "name": "stdout"
        }
      ]
    },
    {
      "cell_type": "code",
      "metadata": {
        "id": "kv9wQVEWUtZ1",
        "colab_type": "code",
        "colab": {}
      },
      "source": [
        "batsmen = {\"Rohit\", \"Virat\", \"Ravindra\", \"Rahul\"}"
      ],
      "execution_count": 0,
      "outputs": []
    },
    {
      "cell_type": "code",
      "metadata": {
        "id": "Bca5ZURIVLOi",
        "colab_type": "code",
        "colab": {
          "base_uri": "https://localhost:8080/",
          "height": 34
        },
        "outputId": "dc328aba-3832-4ce5-8262-22f7a7c5387b"
      },
      "source": [
        "print(type(batsmen))"
      ],
      "execution_count": 100,
      "outputs": [
        {
          "output_type": "stream",
          "text": [
            "<class 'set'>\n"
          ],
          "name": "stdout"
        }
      ]
    },
    {
      "cell_type": "code",
      "metadata": {
        "id": "gbdMW5UGVNfX",
        "colab_type": "code",
        "colab": {
          "base_uri": "https://localhost:8080/",
          "height": 34
        },
        "outputId": "31511f16-d248-4168-a8e5-276df198d31d"
      },
      "source": [
        "print(\"Rohit\" in batsmen)"
      ],
      "execution_count": 104,
      "outputs": [
        {
          "output_type": "stream",
          "text": [
            "True\n"
          ],
          "name": "stdout"
        }
      ]
    },
    {
      "cell_type": "code",
      "metadata": {
        "id": "gX-GPXBvVSV8",
        "colab_type": "code",
        "colab": {
          "base_uri": "https://localhost:8080/",
          "height": 163
        },
        "outputId": "6e64f42f-9cdf-4f56-874c-29af597e53a2"
      },
      "source": [
        "batsmen.index(\"Rohit\")"
      ],
      "execution_count": 105,
      "outputs": [
        {
          "output_type": "error",
          "ename": "AttributeError",
          "evalue": "ignored",
          "traceback": [
            "\u001b[0;31m---------------------------------------------------------------------------\u001b[0m",
            "\u001b[0;31mAttributeError\u001b[0m                            Traceback (most recent call last)",
            "\u001b[0;32m<ipython-input-105-90ac87f4e015>\u001b[0m in \u001b[0;36m<module>\u001b[0;34m()\u001b[0m\n\u001b[0;32m----> 1\u001b[0;31m \u001b[0mbatsmen\u001b[0m\u001b[0;34m.\u001b[0m\u001b[0mindex\u001b[0m\u001b[0;34m(\u001b[0m\u001b[0;34m\"Rohit\"\u001b[0m\u001b[0;34m)\u001b[0m\u001b[0;34m\u001b[0m\u001b[0;34m\u001b[0m\u001b[0m\n\u001b[0m",
            "\u001b[0;31mAttributeError\u001b[0m: 'set' object has no attribute 'index'"
          ]
        }
      ]
    },
    {
      "cell_type": "code",
      "metadata": {
        "id": "iPRzKwxpVZe7",
        "colab_type": "code",
        "colab": {}
      },
      "source": [
        "bowlers = {\"Ishant\", \"Bumrah\", \"Ravindra\"}"
      ],
      "execution_count": 0,
      "outputs": []
    },
    {
      "cell_type": "code",
      "metadata": {
        "id": "kDGi71-JVjXg",
        "colab_type": "code",
        "colab": {}
      },
      "source": [
        "print(type(bowlers))"
      ],
      "execution_count": 0,
      "outputs": []
    },
    {
      "cell_type": "code",
      "metadata": {
        "id": "JFz_RE7LVknF",
        "colab_type": "code",
        "colab": {}
      },
      "source": [
        "all_rounders = batsmen.intersection(bowlers)"
      ],
      "execution_count": 0,
      "outputs": []
    },
    {
      "cell_type": "code",
      "metadata": {
        "id": "WsEVdemzVoQL",
        "colab_type": "code",
        "colab": {}
      },
      "source": [
        "print(type(all_rounders))"
      ],
      "execution_count": 0,
      "outputs": []
    },
    {
      "cell_type": "code",
      "metadata": {
        "id": "kplrKHlVVpzW",
        "colab_type": "code",
        "colab": {}
      },
      "source": [
        "print(all_rounders)"
      ],
      "execution_count": 0,
      "outputs": []
    },
    {
      "cell_type": "code",
      "metadata": {
        "id": "ADkWKfC1Vrip",
        "colab_type": "code",
        "colab": {}
      },
      "source": [
        "players = batsmen.union(bowlers)"
      ],
      "execution_count": 0,
      "outputs": []
    },
    {
      "cell_type": "code",
      "metadata": {
        "id": "MSwKk3G2V2UJ",
        "colab_type": "code",
        "colab": {}
      },
      "source": [
        "print(type(players))"
      ],
      "execution_count": 0,
      "outputs": []
    },
    {
      "cell_type": "code",
      "metadata": {
        "id": "YxaOIZETV3Y5",
        "colab_type": "code",
        "colab": {}
      },
      "source": [
        "print(players)"
      ],
      "execution_count": 0,
      "outputs": []
    },
    {
      "cell_type": "code",
      "metadata": {
        "id": "25ZGq6hLV4T4",
        "colab_type": "code",
        "colab": {}
      },
      "source": [
        "bowlers = {\"Ishant\", \"Bumrah\", \"Ravindra\", \"Bumrah\"}"
      ],
      "execution_count": 0,
      "outputs": []
    },
    {
      "cell_type": "code",
      "metadata": {
        "id": "3f4SpXn_V-YI",
        "colab_type": "code",
        "colab": {}
      },
      "source": [
        "print(bowlers)"
      ],
      "execution_count": 0,
      "outputs": []
    },
    {
      "cell_type": "code",
      "metadata": {
        "id": "dIDmR9x7V_vC",
        "colab_type": "code",
        "colab": {}
      },
      "source": [
        "%%timeit -n1 -r10\n",
        "my_list = list(range(10000))\n",
        "for i in range(10000):\n",
        "    b = 1947 in my_list"
      ],
      "execution_count": 0,
      "outputs": []
    },
    {
      "cell_type": "code",
      "metadata": {
        "id": "Li-V91Y1WkEf",
        "colab_type": "code",
        "colab": {}
      },
      "source": [
        "%%timeit -n1 -r10\n",
        "my_tuple = tuple(range(10000))\n",
        "for i in range(10000):\n",
        "    b = 1947 in my_tuple"
      ],
      "execution_count": 0,
      "outputs": []
    },
    {
      "cell_type": "code",
      "metadata": {
        "id": "0Co9MdoAWpHI",
        "colab_type": "code",
        "colab": {}
      },
      "source": [
        "%%timeit -n1 -r10\n",
        "my_set = set(range(10000))\n",
        "for i in range(10000):\n",
        "    b = 1947 in my_set"
      ],
      "execution_count": 0,
      "outputs": []
    },
    {
      "cell_type": "markdown",
      "metadata": {
        "id": "sTDgFpQCa9xa",
        "colab_type": "text"
      },
      "source": [
        "# Dictionary"
      ]
    },
    {
      "cell_type": "code",
      "metadata": {
        "id": "ufnuvOHzaunz",
        "colab_type": "code",
        "colab": {}
      },
      "source": [
        "bmi_dataset = [\n",
        "               [\"Krishna\", 75, 1.73, False],\n",
        "               [\"Bheem\", 120, 1.78, True]\n",
        "]"
      ],
      "execution_count": 0,
      "outputs": []
    },
    {
      "cell_type": "code",
      "metadata": {
        "id": "nxRU93n1bCx7",
        "colab_type": "code",
        "colab": {}
      },
      "source": [
        "bmi_record = {\n",
        "    \"name\": \"Krishna\",\n",
        "    \"weight\": 75,\n",
        "    \"height\": 1.73,\n",
        "    \"is_overweight\": False\n",
        "}"
      ],
      "execution_count": 0,
      "outputs": []
    },
    {
      "cell_type": "code",
      "metadata": {
        "id": "2RNmOCEAb43J",
        "colab_type": "code",
        "colab": {}
      },
      "source": [
        "print(type(bmi_record))"
      ],
      "execution_count": 0,
      "outputs": []
    },
    {
      "cell_type": "code",
      "metadata": {
        "id": "q3knrRTfb6LK",
        "colab_type": "code",
        "colab": {}
      },
      "source": [
        "bmi_record[\"name\"]"
      ],
      "execution_count": 0,
      "outputs": []
    },
    {
      "cell_type": "code",
      "metadata": {
        "id": "63W3rfkzcAeZ",
        "colab_type": "code",
        "colab": {}
      },
      "source": [
        "bmi_record[\"email\"]"
      ],
      "execution_count": 0,
      "outputs": []
    },
    {
      "cell_type": "code",
      "metadata": {
        "id": "fpW4ztt8cFDW",
        "colab_type": "code",
        "colab": {}
      },
      "source": [
        "bmi_record[\"email\"] = \"krishna@idontknow.com\""
      ],
      "execution_count": 0,
      "outputs": []
    },
    {
      "cell_type": "code",
      "metadata": {
        "id": "vpfoArSdcKt6",
        "colab_type": "code",
        "colab": {}
      },
      "source": [
        "print(bmi_record)"
      ],
      "execution_count": 0,
      "outputs": []
    },
    {
      "cell_type": "code",
      "metadata": {
        "id": "HnbthNJDcMZB",
        "colab_type": "code",
        "colab": {}
      },
      "source": [
        "for key in bmi_record:\n",
        "    print(key, \":\", bmi_record[key])"
      ],
      "execution_count": 0,
      "outputs": []
    },
    {
      "cell_type": "code",
      "metadata": {
        "id": "UkbDd6yQcaqQ",
        "colab_type": "code",
        "colab": {}
      },
      "source": [
        "print(bmi_record.keys())"
      ],
      "execution_count": 0,
      "outputs": []
    },
    {
      "cell_type": "code",
      "metadata": {
        "id": "SoWv6sKncoTl",
        "colab_type": "code",
        "colab": {}
      },
      "source": [
        "bmi_record_1 = {\n",
        "    \"name\": \"Bheem\",\n",
        "    \"weight\": 125,\n",
        "    \"height\": 1.75,\n",
        "    \"is_overweight\": True,\n",
        "    \"email\": \"bheem@foodtruck.com\"\n",
        "}"
      ],
      "execution_count": 0,
      "outputs": []
    },
    {
      "cell_type": "code",
      "metadata": {
        "id": "UXhGexkfc9vu",
        "colab_type": "code",
        "colab": {}
      },
      "source": [
        "bmi_dataset = [bmi_record, bmi_record_1]"
      ],
      "execution_count": 0,
      "outputs": []
    },
    {
      "cell_type": "code",
      "metadata": {
        "id": "Fnv5saMIdBgt",
        "colab_type": "code",
        "colab": {}
      },
      "source": [
        "print(bmi_dataset[0][\"is_overweight\"])"
      ],
      "execution_count": 0,
      "outputs": []
    },
    {
      "cell_type": "markdown",
      "metadata": {
        "id": "hotfYemIdSJo",
        "colab_type": "text"
      },
      "source": [
        "## Exercise for dictionary"
      ]
    },
    {
      "cell_type": "markdown",
      "metadata": {
        "id": "qCbcEYcndV3x",
        "colab_type": "text"
      },
      "source": [
        "Receive the user input that says something like \"I went to Parliament\" or \"Why don't you go to Wankhede\". You then subsitute the POI by its lat and long coordinates of that POI."
      ]
    },
    {
      "cell_type": "code",
      "metadata": {
        "id": "Kyl9MayUdEAN",
        "colab_type": "code",
        "colab": {}
      },
      "source": [
        "pois = {\"Parliament\": \"28°37'2\\\"N, 77°12'29\\\"E\", \n",
        "        \"Wankhede\": \"18°56'20.10\\\"N, 72°49'32.60\\\"E\",\n",
        "        \"Nalanda\": \"25°8'12\\\"N, 85°26'38\\\"E\",\n",
        "        \"Mahabalipuram\": \"12°37'21.817\\\"N, 80°11'38.080\\\"E\"\n",
        "        }"
      ],
      "execution_count": 0,
      "outputs": []
    },
    {
      "cell_type": "code",
      "metadata": {
        "id": "LDXs7VuVfDYA",
        "colab_type": "code",
        "colab": {}
      },
      "source": [
        "user_text = input(\"\")"
      ],
      "execution_count": 0,
      "outputs": []
    },
    {
      "cell_type": "code",
      "metadata": {
        "id": "24cznA3cfH-I",
        "colab_type": "code",
        "colab": {}
      },
      "source": [
        "words = user_text.split()\n",
        "print(words)"
      ],
      "execution_count": 0,
      "outputs": []
    },
    {
      "cell_type": "code",
      "metadata": {
        "id": "147LejjMfURV",
        "colab_type": "code",
        "colab": {}
      },
      "source": [
        "output = \"\"\n",
        "for word in words:\n",
        "    if word in pois:\n",
        "        output += pois[word]\n",
        "    else:\n",
        "        output += word\n",
        "    output += \" \""
      ],
      "execution_count": 0,
      "outputs": []
    },
    {
      "cell_type": "code",
      "metadata": {
        "id": "EHHKEIY_fpQp",
        "colab_type": "code",
        "colab": {}
      },
      "source": [
        "print(output)"
      ],
      "execution_count": 0,
      "outputs": []
    },
    {
      "cell_type": "code",
      "metadata": {
        "id": "0wuZ3tmdfqNm",
        "colab_type": "code",
        "colab": {}
      },
      "source": [
        "output = \"\"\n",
        "for word in words:\n",
        "    output += (pois.get(word, word) + \" \")"
      ],
      "execution_count": 0,
      "outputs": []
    },
    {
      "cell_type": "code",
      "metadata": {
        "id": "BN20yKSAgFpx",
        "colab_type": "code",
        "colab": {}
      },
      "source": [
        "print(output)"
      ],
      "execution_count": 0,
      "outputs": []
    },
    {
      "cell_type": "markdown",
      "metadata": {
        "id": "bKvfycfkgQ3r",
        "colab_type": "text"
      },
      "source": [
        "# Exercise - design thinking\n",
        "\n",
        "![alt text](https://www.polygons.tech/wp-content/uploads/adas-road2-web-1200.jpg)\n",
        "\n",
        "Consider the following data store that is used to represent the output of annotation process. \n",
        "\n",
        "```\n",
        "Car 1729\n",
        "X1, Y1\n",
        "X2, Y2\n",
        "X3, Y3\n",
        "...\n",
        "Xk, Yk\n",
        "----\n",
        "Car \n",
        "X1, Y1\n",
        "X2, Y2\n",
        "...\n",
        "Xk', Yk'\n",
        "----\n",
        "...\n",
        "```\n",
        "\n",
        "Multiple cars are annotated in each image. Each car has a string name followed by a series of points forming a closed polygon. The number of these points varies from car to car. Each point itself is characterised by two numbers corresponding to the x and y coordinates. What data structures would you use to represent this. Note that you have multiple levels of representation that are nested and different choices can be made for each level. "
      ]
    },
    {
      "cell_type": "markdown",
      "metadata": {
        "id": "0jOZYFBKl1A1",
        "colab_type": "text"
      },
      "source": [
        "# Files"
      ]
    },
    {
      "cell_type": "code",
      "metadata": {
        "id": "_P-KqqtRltoe",
        "colab_type": "code",
        "colab": {}
      },
      "source": [
        "f = open(\"/content/sample_data/poem.txt\", \"r\")"
      ],
      "execution_count": 0,
      "outputs": []
    },
    {
      "cell_type": "code",
      "metadata": {
        "id": "Yy9n5PYumyrF",
        "colab_type": "code",
        "colab": {}
      },
      "source": [
        "print(f)"
      ],
      "execution_count": 0,
      "outputs": []
    },
    {
      "cell_type": "code",
      "metadata": {
        "id": "Y1JoHERmmzqX",
        "colab_type": "code",
        "colab": {}
      },
      "source": [
        "output = f.read()"
      ],
      "execution_count": 0,
      "outputs": []
    },
    {
      "cell_type": "code",
      "metadata": {
        "id": "ig5eOCYnm6fO",
        "colab_type": "code",
        "colab": {}
      },
      "source": [
        "print(output)"
      ],
      "execution_count": 0,
      "outputs": []
    },
    {
      "cell_type": "code",
      "metadata": {
        "id": "_ddGl1xmm7VH",
        "colab_type": "code",
        "colab": {}
      },
      "source": [
        "f = open(\"poem.txt\", \"r\")\n",
        "out_line = f.readline()\n",
        "print(out_line)"
      ],
      "execution_count": 0,
      "outputs": []
    },
    {
      "cell_type": "code",
      "metadata": {
        "id": "5jLCietmnHW3",
        "colab_type": "code",
        "colab": {}
      },
      "source": [
        "out_line = f.readline()\n",
        "print(out_line)"
      ],
      "execution_count": 0,
      "outputs": []
    },
    {
      "cell_type": "code",
      "metadata": {
        "id": "XZlfBpNWnKZr",
        "colab_type": "code",
        "colab": {}
      },
      "source": [
        "out_line = f.readline()\n",
        "print(out_line)"
      ],
      "execution_count": 0,
      "outputs": []
    },
    {
      "cell_type": "code",
      "metadata": {
        "id": "4uHX46O7nMEC",
        "colab_type": "code",
        "colab": {}
      },
      "source": [
        "f = open(\"poem.txt\", \"r\")\n",
        "out_lines = f.readlines()\n",
        "print(out_lines)"
      ],
      "execution_count": 0,
      "outputs": []
    },
    {
      "cell_type": "code",
      "metadata": {
        "id": "srMGVS67nS9g",
        "colab_type": "code",
        "colab": {}
      },
      "source": [
        "f.close()"
      ],
      "execution_count": 0,
      "outputs": []
    },
    {
      "cell_type": "code",
      "metadata": {
        "id": "n3ecHqLDncHw",
        "colab_type": "code",
        "colab": {}
      },
      "source": [
        "out_line = f.readline()"
      ],
      "execution_count": 0,
      "outputs": []
    },
    {
      "cell_type": "code",
      "metadata": {
        "id": "RpbQQl2XnegA",
        "colab_type": "code",
        "colab": {}
      },
      "source": [
        "with open(\"poem.txt\", \"r\") as f:\n",
        "    out_lines = f.readlines()\n",
        "    print(out_lines) "
      ],
      "execution_count": 0,
      "outputs": []
    },
    {
      "cell_type": "code",
      "metadata": {
        "colab_type": "code",
        "id": "raNR8TPMqXtS",
        "colab": {}
      },
      "source": [
        "f.readlines()"
      ],
      "execution_count": 0,
      "outputs": []
    },
    {
      "cell_type": "code",
      "metadata": {
        "id": "brA2ghgfqawf",
        "colab_type": "code",
        "colab": {}
      },
      "source": [
        "f = open(\"poem.txt\", \"r\")\n",
        "out_lines = f.readlines()\n",
        "print(out_lines)\n",
        "f.close()"
      ],
      "execution_count": 0,
      "outputs": []
    },
    {
      "cell_type": "code",
      "metadata": {
        "id": "yfybbwLuq8Ss",
        "colab_type": "code",
        "colab": {}
      },
      "source": [
        "i = 0\n",
        "for line in out_lines:\n",
        "    print(i, '\\t', line.strip())\n",
        "    i += 1"
      ],
      "execution_count": 0,
      "outputs": []
    },
    {
      "cell_type": "code",
      "metadata": {
        "id": "01zYZPzXrDvo",
        "colab_type": "code",
        "colab": {}
      },
      "source": [
        "f_out = open(\"fav.txt\", \"w\")"
      ],
      "execution_count": 0,
      "outputs": []
    },
    {
      "cell_type": "code",
      "metadata": {
        "id": "hZCTo6I-reJL",
        "colab_type": "code",
        "colab": {}
      },
      "source": [
        "f_out.writelines(out_lines[2])"
      ],
      "execution_count": 0,
      "outputs": []
    },
    {
      "cell_type": "code",
      "metadata": {
        "id": "L_PTj0Srrjq-",
        "colab_type": "code",
        "colab": {}
      },
      "source": [
        "f_out.close()"
      ],
      "execution_count": 0,
      "outputs": []
    },
    {
      "cell_type": "code",
      "metadata": {
        "id": "hVBBnZXBrv3Y",
        "colab_type": "code",
        "colab": {}
      },
      "source": [
        "fav_lines = [2, 22]"
      ],
      "execution_count": 0,
      "outputs": []
    },
    {
      "cell_type": "code",
      "metadata": {
        "id": "t8owFzztr35X",
        "colab_type": "code",
        "colab": {}
      },
      "source": [
        "with open(\"fav.txt\", \"w\") as f_out:\n",
        "    for fav_line in fav_lines:\n",
        "        f_out.writelines(out_lines[fav_line])"
      ],
      "execution_count": 0,
      "outputs": []
    },
    {
      "cell_type": "markdown",
      "metadata": {
        "id": "edmIJ9KUsRsU",
        "colab_type": "text"
      },
      "source": [
        "# Exercise\n",
        "\n",
        "1.   Create a dictionary whose keys correspond to unique words in a given file and whose values correspond to the number of times each word appears in the file.\n",
        "2.   To an output file, write the 10 most frequent words in separate lines.\n",
        "3.   To an output file, write the 5 most frequenct 2-grams in separate lines.\n",
        "\n",
        "\n"
      ]
    },
    {
      "cell_type": "markdown",
      "metadata": {
        "id": "-OuV1y82BUYV",
        "colab_type": "text"
      },
      "source": [
        "# Problem 1, 2"
      ]
    },
    {
      "cell_type": "code",
      "metadata": {
        "id": "RqhwDYTpBVac",
        "colab_type": "code",
        "colab": {}
      },
      "source": [
        "f = open(\"/content/sample_data/poem.txt\", \"r\")\n",
        "lines = f.readlines()\n",
        "print(lines)\n",
        "f.close()"
      ],
      "execution_count": 0,
      "outputs": []
    },
    {
      "cell_type": "code",
      "metadata": {
        "id": "k2o2s4jJBYSs",
        "colab_type": "code",
        "colab": {}
      },
      "source": [
        "for item in lines:\n",
        "    item = item.lower()"
      ],
      "execution_count": 0,
      "outputs": []
    },
    {
      "cell_type": "code",
      "metadata": {
        "id": "9wNMoBAwBoOU",
        "colab_type": "code",
        "colab": {}
      },
      "source": [
        "print(lines[0])"
      ],
      "execution_count": 0,
      "outputs": []
    },
    {
      "cell_type": "code",
      "metadata": {
        "id": "TFF31Cz1Bpya",
        "colab_type": "code",
        "colab": {}
      },
      "source": [
        "length = len(lines)\n",
        "for i in range(length):\n",
        "    lines[i] = lines[i].lower()"
      ],
      "execution_count": 0,
      "outputs": []
    },
    {
      "cell_type": "code",
      "metadata": {
        "id": "nPD1C8UmB6RG",
        "colab_type": "code",
        "colab": {}
      },
      "source": [
        "print(lines[0])"
      ],
      "execution_count": 0,
      "outputs": []
    },
    {
      "cell_type": "code",
      "metadata": {
        "id": "K5Zu5a0BB8e5",
        "colab_type": "code",
        "colab": {}
      },
      "source": [
        "print(lines)"
      ],
      "execution_count": 0,
      "outputs": []
    },
    {
      "cell_type": "code",
      "metadata": {
        "id": "6p68KD7_B9zj",
        "colab_type": "code",
        "colab": {}
      },
      "source": [
        "for i in range(length):\n",
        "    lines[i] = lines[i].replace('\\n', ' ')"
      ],
      "execution_count": 0,
      "outputs": []
    },
    {
      "cell_type": "code",
      "metadata": {
        "id": "cieU63uDCLlW",
        "colab_type": "code",
        "colab": {}
      },
      "source": [
        "print(lines)"
      ],
      "execution_count": 0,
      "outputs": []
    },
    {
      "cell_type": "code",
      "metadata": {
        "id": "5ScoSoYQCMur",
        "colab_type": "code",
        "colab": {}
      },
      "source": [
        "chars_to_replace = ['\\n', ',', '-', '\"', '(', ')', '.']\n",
        "for i in range(length):\n",
        "    for s in chars_to_replace:\n",
        "        lines[i] = lines[i].replace(s, ' ')"
      ],
      "execution_count": 0,
      "outputs": []
    },
    {
      "cell_type": "code",
      "metadata": {
        "id": "aSa-Yuu8Cjk6",
        "colab_type": "code",
        "colab": {}
      },
      "source": [
        "print(lines)"
      ],
      "execution_count": 0,
      "outputs": []
    },
    {
      "cell_type": "code",
      "metadata": {
        "id": "Fdpi4spmClKS",
        "colab_type": "code",
        "colab": {}
      },
      "source": [
        "text = \"\"\n",
        "for line in lines:\n",
        "    text += line + \" \" "
      ],
      "execution_count": 0,
      "outputs": []
    },
    {
      "cell_type": "code",
      "metadata": {
        "id": "YE8i94NLC7ep",
        "colab_type": "code",
        "colab": {}
      },
      "source": [
        "print(text)"
      ],
      "execution_count": 0,
      "outputs": []
    },
    {
      "cell_type": "code",
      "metadata": {
        "id": "vGmiAZh2C-VN",
        "colab_type": "code",
        "colab": {}
      },
      "source": [
        "text = \" \".join(lines)"
      ],
      "execution_count": 0,
      "outputs": []
    },
    {
      "cell_type": "code",
      "metadata": {
        "id": "2guM_qx8DNy1",
        "colab_type": "code",
        "colab": {}
      },
      "source": [
        "print(text)"
      ],
      "execution_count": 0,
      "outputs": []
    },
    {
      "cell_type": "code",
      "metadata": {
        "id": "h9wLviwZDOor",
        "colab_type": "code",
        "colab": {}
      },
      "source": [
        "words = text.split()"
      ],
      "execution_count": 0,
      "outputs": []
    },
    {
      "cell_type": "code",
      "metadata": {
        "id": "Xb-VC2VaDUYW",
        "colab_type": "code",
        "colab": {}
      },
      "source": [
        "print(len(words), words)"
      ],
      "execution_count": 0,
      "outputs": []
    },
    {
      "cell_type": "code",
      "metadata": {
        "id": "PLDKWzRDDWsr",
        "colab_type": "code",
        "colab": {}
      },
      "source": [
        "word_freq = {}"
      ],
      "execution_count": 0,
      "outputs": []
    },
    {
      "cell_type": "code",
      "metadata": {
        "id": "gMQY9pysDkhQ",
        "colab_type": "code",
        "colab": {}
      },
      "source": [
        "for word in words:\n",
        "    if word in word_freq:\n",
        "        word_freq[word] += 1\n",
        "    else:\n",
        "        word_freq[word] = 1"
      ],
      "execution_count": 0,
      "outputs": []
    },
    {
      "cell_type": "code",
      "metadata": {
        "id": "9wzLXk_eJTCM",
        "colab_type": "code",
        "colab": {}
      },
      "source": [
        "word_freq = iterable_counter(words)"
      ],
      "execution_count": 0,
      "outputs": []
    },
    {
      "cell_type": "code",
      "metadata": {
        "id": "Qq5y1bvyD2Pg",
        "colab_type": "code",
        "colab": {}
      },
      "source": [
        "print(word_freq)"
      ],
      "execution_count": 0,
      "outputs": []
    },
    {
      "cell_type": "code",
      "metadata": {
        "id": "D9JRadaND4Pk",
        "colab_type": "code",
        "colab": {}
      },
      "source": [
        "# sorted(x.items(), key=lambda item: item[1])"
      ],
      "execution_count": 0,
      "outputs": []
    },
    {
      "cell_type": "code",
      "metadata": {
        "id": "PktncF2nEjU5",
        "colab_type": "code",
        "colab": {}
      },
      "source": [
        "print(sorted(word_freq.items()))"
      ],
      "execution_count": 0,
      "outputs": []
    },
    {
      "cell_type": "code",
      "metadata": {
        "id": "HaAhYulMEpYZ",
        "colab_type": "code",
        "colab": {}
      },
      "source": [
        "sorted?"
      ],
      "execution_count": 0,
      "outputs": []
    },
    {
      "cell_type": "code",
      "metadata": {
        "id": "kuiv3F2-FANR",
        "colab_type": "code",
        "colab": {}
      },
      "source": [
        "print(sorted(word_freq.items(), key=lambda item: item[0]))"
      ],
      "execution_count": 0,
      "outputs": []
    },
    {
      "cell_type": "code",
      "metadata": {
        "id": "7aw9UhRHFojy",
        "colab_type": "code",
        "colab": {}
      },
      "source": [
        "print(sorted(word_freq.items(), key=lambda item: item[1]))"
      ],
      "execution_count": 0,
      "outputs": []
    },
    {
      "cell_type": "code",
      "metadata": {
        "id": "foImE_VrFsta",
        "colab_type": "code",
        "colab": {}
      },
      "source": [
        "sorted_list = sorted(word_freq.items(), key=lambda item: item[1])"
      ],
      "execution_count": 0,
      "outputs": []
    },
    {
      "cell_type": "code",
      "metadata": {
        "id": "7oqy63rvGAke",
        "colab_type": "code",
        "colab": {}
      },
      "source": [
        "sorted_list[-10:]"
      ],
      "execution_count": 0,
      "outputs": []
    },
    {
      "cell_type": "code",
      "metadata": {
        "id": "4z4WulHjGFwf",
        "colab_type": "code",
        "colab": {}
      },
      "source": [
        "with open('most_common_words.txt', 'w') as f_out:\n",
        "    for item in sorted_list[-10:]:\n",
        "        f_out.write(item[0] + \"\\n\")"
      ],
      "execution_count": 0,
      "outputs": []
    },
    {
      "cell_type": "markdown",
      "metadata": {
        "id": "S2kJONpeHgVP",
        "colab_type": "text"
      },
      "source": [
        "# Problem 3"
      ]
    },
    {
      "cell_type": "markdown",
      "metadata": {
        "id": "71iwXvGrHhml",
        "colab_type": "text"
      },
      "source": [
        "unending love by rabindranath tagore -> (unending, love), (love, by), (by, rabindranath), (rabindranath, tagore)"
      ]
    },
    {
      "cell_type": "code",
      "metadata": {
        "id": "pf85UCnsGgYT",
        "colab_type": "code",
        "colab": {}
      },
      "source": [
        "print(words)"
      ],
      "execution_count": 0,
      "outputs": []
    },
    {
      "cell_type": "code",
      "metadata": {
        "id": "3wX3SCHdH_-7",
        "colab_type": "code",
        "colab": {}
      },
      "source": [
        "two_grams_zip = zip(words, words[1:])"
      ],
      "execution_count": 0,
      "outputs": []
    },
    {
      "cell_type": "code",
      "metadata": {
        "id": "6100-JspIODM",
        "colab_type": "code",
        "colab": {}
      },
      "source": [
        "for item in two_grams_zip:\n",
        "    print(item)"
      ],
      "execution_count": 0,
      "outputs": []
    },
    {
      "cell_type": "code",
      "metadata": {
        "id": "H9aCg9meIQmv",
        "colab_type": "code",
        "colab": {}
      },
      "source": [
        "two_grams = [item for item in two_grams_zip]"
      ],
      "execution_count": 0,
      "outputs": []
    },
    {
      "cell_type": "code",
      "metadata": {
        "id": "qOrPHvltIqNs",
        "colab_type": "code",
        "colab": {}
      },
      "source": [
        "print(two_grams)"
      ],
      "execution_count": 0,
      "outputs": []
    },
    {
      "cell_type": "code",
      "metadata": {
        "id": "7Z0i6abtIr4q",
        "colab_type": "code",
        "colab": {}
      },
      "source": [
        "def iterable_counter (iter_obj):\n",
        "    count_dict = {}\n",
        "    for item in iter_obj:\n",
        "        if item in count_dict:\n",
        "            count_dict[item] += 1\n",
        "        else:\n",
        "            count_dict[item] = 1\n",
        "    return count_dict"
      ],
      "execution_count": 0,
      "outputs": []
    },
    {
      "cell_type": "code",
      "metadata": {
        "id": "35ja23D4JLb6",
        "colab_type": "code",
        "colab": {}
      },
      "source": [
        "two_grams_freq = iterable_counter(two_grams)"
      ],
      "execution_count": 0,
      "outputs": []
    },
    {
      "cell_type": "code",
      "metadata": {
        "id": "-kSbhrxbJddB",
        "colab_type": "code",
        "colab": {}
      },
      "source": [
        "print(two_grams_freq)"
      ],
      "execution_count": 0,
      "outputs": []
    },
    {
      "cell_type": "code",
      "metadata": {
        "id": "dV8v889pJepV",
        "colab_type": "code",
        "colab": {}
      },
      "source": [
        "sorted_list = sorted(two_grams_freq.items(), key=lambda item: item[1])"
      ],
      "execution_count": 0,
      "outputs": []
    },
    {
      "cell_type": "code",
      "metadata": {
        "id": "V9yiPzC6JuOd",
        "colab_type": "code",
        "colab": {}
      },
      "source": [
        "print(two_grams_freq.items())"
      ],
      "execution_count": 0,
      "outputs": []
    },
    {
      "cell_type": "code",
      "metadata": {
        "id": "scZllfa6JwIL",
        "colab_type": "code",
        "colab": {}
      },
      "source": [
        "sorted_list = sorted(two_grams_freq.items(), key=lambda item: item[1])"
      ],
      "execution_count": 0,
      "outputs": []
    },
    {
      "cell_type": "code",
      "metadata": {
        "id": "aYRFgGtFJ9E2",
        "colab_type": "code",
        "colab": {}
      },
      "source": [
        "print(sorted_list)"
      ],
      "execution_count": 0,
      "outputs": []
    },
    {
      "cell_type": "code",
      "metadata": {
        "id": "KS1ZLULlJ_nz",
        "colab_type": "code",
        "colab": {}
      },
      "source": [
        "sorted_list[-5:]"
      ],
      "execution_count": 0,
      "outputs": []
    },
    {
      "cell_type": "code",
      "metadata": {
        "id": "uDiuzTGQKO0o",
        "colab_type": "code",
        "colab": {}
      },
      "source": [
        "with open(\"common_two_grams.txt\", \"w\") as f_out:\n",
        "    for item in sorted_list[-5:]:\n",
        "        # print(item[0][0] + \" \" + item[0][1] + \"\\n\")\n",
        "        f_out.write(item[0][0] + \" \" + item[0][1] + \"\\n\")"
      ],
      "execution_count": 0,
      "outputs": []
    },
    {
      "cell_type": "code",
      "metadata": {
        "id": "LnEqUlKlKeEn",
        "colab_type": "code",
        "colab": {}
      },
      "source": [
        ""
      ],
      "execution_count": 0,
      "outputs": []
    }
  ]
}