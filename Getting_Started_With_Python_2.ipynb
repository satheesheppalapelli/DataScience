{
  "nbformat": 4,
  "nbformat_minor": 0,
  "metadata": {
    "colab": {
      "name": "Getting_Started_With_Python_2.ipynb",
      "provenance": [],
      "collapsed_sections": [],
      "include_colab_link": true
    },
    "kernelspec": {
      "name": "python3",
      "display_name": "Python 3"
    }
  },
  "cells": [
    {
      "cell_type": "markdown",
      "metadata": {
        "id": "view-in-github",
        "colab_type": "text"
      },
      "source": [
        "<a href=\"https://colab.research.google.com/github/satheesheppalapelli/DataScience/blob/master/Getting_Started_With_Python_2.ipynb\" target=\"_parent\"><img src=\"https://colab.research.google.com/assets/colab-badge.svg\" alt=\"Open In Colab\"/></a>"
      ]
    },
    {
      "cell_type": "code",
      "metadata": {
        "colab_type": "code",
        "outputId": "06afec52-8955-4d7e-9635-9b25e616e00e",
        "id": "cV15cQDxqYdQ",
        "colab": {
          "base_uri": "https://localhost:8080/",
          "height": 54
        }
      },
      "source": [
        "f = open(\"/content/sample_data/poem.txt\", \"r\")\n",
        "out_lines = f.readlines()\n",
        "print(out_lines)\n",
        "f.close()"
      ],
      "execution_count": 5,
      "outputs": [
        {
          "output_type": "stream",
          "text": [
            "['Unending Love by Rabindranath Tagore\\n', '\\n', 'I seem to have loved you in numberless forms, numberless times\\n', 'In life after life, in age after age, forever.\\n', 'My spellbound heart has made and remade the necklace of songs,\\n', 'That you take as a gift, wear round your neck in your many forms,\\n', 'In life after life, in age after age, forever.\\n', '\\n', 'Whenever I hear old chronicles of love, its age-old pain,\\n', 'Its ancient tale of being apart or together.\\n', 'As I stare on and on into the past, in the end you emerge,\\n', 'Clad in the light of a pole-star piercing the darkness of time:\\n', 'You become an image of what is remembered forever.\\n', '\\n', 'You and I have floated here on the stream that brings from the fount.\\n', 'At the heart of time, love of one for another.\\n', 'We have played along side millions of lovers, shared in the same\\n', 'Shy sweetness of meeting, the same distressful tears of farewell-\\n', 'Old love but in shapes that renew and renew forever.\\n', '\\n', 'Today it is heaped at your feet, it has found its end in you\\n', 'The love of all man’s days both past and forever:\\n', 'Universal joy, universal sorrow, universal life.\\n', 'The memories of all loves merging with this one love of ours –\\n', 'And the songs of every poet past and forever.']\n"
          ],
          "name": "stdout"
        }
      ]
    },
    {
      "cell_type": "markdown",
      "metadata": {
        "id": "YPodBtxNI2uS",
        "colab_type": "text"
      },
      "source": [
        "# Documentation and Error Handling"
      ]
    },
    {
      "cell_type": "markdown",
      "metadata": {
        "id": "uBR5U473CLPr",
        "colab_type": "text"
      },
      "source": [
        "**Note to self about Fibonacci sequence**\n",
        "\n",
        "Start from *two* numbers $(f_0, f_1)$ and compute the $n$th value as \n",
        "$f_{n} \\leftarrow f_{n - 1} + f_{n - 2}$.\n",
        "\n",
        "It turns out that the ratio of consecutive numbers in the Fibonacci sequence approximates to the Golden ratio $\\phi$: \n",
        "$$ \\phi \\approx \\dfrac{f_n}{f_{n - 1}} $$"
      ]
    },
    {
      "cell_type": "code",
      "metadata": {
        "id": "fqC4mlzIBy36",
        "colab_type": "code",
        "colab": {}
      },
      "source": [
        "def fibonacci_sequence(n, a = 1, b = 1):\n",
        "    for i in range(n):\n",
        "        temp = a + b\n",
        "        a = b\n",
        "        b = temp\n",
        "    return temp"
      ],
      "execution_count": 0,
      "outputs": []
    },
    {
      "cell_type": "code",
      "metadata": {
        "id": "ILkL0PSiCRwE",
        "colab_type": "code",
        "colab": {}
      },
      "source": [
        "def input_single_float(prompt):\n",
        "    user_input = input(prompt)\n",
        "    output = float(user_input)\n",
        "    return output"
      ],
      "execution_count": 0,
      "outputs": []
    },
    {
      "cell_type": "code",
      "metadata": {
        "id": "9ft-ChR7Cba_",
        "colab_type": "code",
        "colab": {}
      },
      "source": [
        "def fibonacci_sequence(n, a =10, b = 1):\n",
        "    \"\"\"\n",
        "    This computes the nth number in the Fibonacci sequence\n",
        "    starting with a and b as the first two values.\n",
        "    \"\"\"\n",
        "    for i in range(n):\n",
        "        temp = a + b\n",
        "        a = b\n",
        "        b = temp\n",
        "    return temp"
      ],
      "execution_count": 0,
      "outputs": []
    },
    {
      "cell_type": "code",
      "metadata": {
        "id": "5tDaKoqmOQaM",
        "colab_type": "code",
        "colab": {}
      },
      "source": [
        "fibonacci_sequence?"
      ],
      "execution_count": 0,
      "outputs": []
    },
    {
      "cell_type": "code",
      "metadata": {
        "id": "kIjkQ0_0OVRg",
        "colab_type": "code",
        "colab": {}
      },
      "source": [
        "def input_single_float(prompt):\n",
        "    \"\"\"\n",
        "    This prompts user to input, and then converts this to a single float\n",
        "    \"\"\"\n",
        "    user_input = input(prompt)\n",
        "    output = float(user_input)\n",
        "    return output"
      ],
      "execution_count": 0,
      "outputs": []
    },
    {
      "cell_type": "code",
      "metadata": {
        "id": "VqIcwOflPMdi",
        "colab_type": "code",
        "outputId": "9cc8bf84-dbb6-495c-b47d-638da097e5ff",
        "colab": {
          "base_uri": "https://localhost:8080/",
          "height": 34
        }
      },
      "source": [
        "val = input_single_float('Enter PI ')"
      ],
      "execution_count": 11,
      "outputs": [
        {
          "output_type": "stream",
          "text": [
            "Enter PI 3.14\n"
          ],
          "name": "stdout"
        }
      ]
    },
    {
      "cell_type": "code",
      "metadata": {
        "id": "OdONGuQLPTIW",
        "colab_type": "code",
        "colab": {}
      },
      "source": [
        "def input_single_float(prompt):\n",
        "    \"\"\"\n",
        "    This prompts user to input, and then converts this to a single float\n",
        "    \"\"\"\n",
        "    user_input = input(prompt)\n",
        "    try: \n",
        "        output = float(user_input)\n",
        "    except ValueError:\n",
        "        print(\"Input value must be a float\")\n",
        "        output = None\n",
        "    return output"
      ],
      "execution_count": 0,
      "outputs": []
    },
    {
      "cell_type": "code",
      "metadata": {
        "id": "UrJOrnHWP41g",
        "colab_type": "code",
        "outputId": "06f24794-5d35-4cbc-c67c-bdb5027bf684",
        "colab": {
          "base_uri": "https://localhost:8080/",
          "height": 34
        }
      },
      "source": [
        "val = input_single_float('Enter PI ')"
      ],
      "execution_count": 13,
      "outputs": [
        {
          "output_type": "stream",
          "text": [
            "Enter PI 3.14\n"
          ],
          "name": "stdout"
        }
      ]
    },
    {
      "cell_type": "code",
      "metadata": {
        "id": "b5ERjMRdP66b",
        "colab_type": "code",
        "outputId": "0abdd895-7df6-4c30-e965-7f3dfd9c8d9e",
        "colab": {
          "base_uri": "https://localhost:8080/",
          "height": 34
        }
      },
      "source": [
        "print(val, type(val))"
      ],
      "execution_count": 14,
      "outputs": [
        {
          "output_type": "stream",
          "text": [
            "3.14 <class 'float'>\n"
          ],
          "name": "stdout"
        }
      ]
    },
    {
      "cell_type": "code",
      "metadata": {
        "id": "gvQoH-PdQPOt",
        "colab_type": "code",
        "colab": {}
      },
      "source": [
        "def input_single_float_inverse(prompt):\n",
        "    \"\"\"\n",
        "    This prompts user to input, and then converts this to a single float inverse\n",
        "    \"\"\"\n",
        "    user_input = input(prompt)\n",
        "    output = None\n",
        "    try: \n",
        "        output = 1/float(user_input)\n",
        "    except ValueError:\n",
        "        print(\"Input value must be a float\")\n",
        "    except ZeroDivisionError:\n",
        "        print(\"Input value must not be zero\")\n",
        "    return output"
      ],
      "execution_count": 0,
      "outputs": []
    },
    {
      "cell_type": "code",
      "metadata": {
        "id": "UHcwRqSyQfxj",
        "colab_type": "code",
        "outputId": "70901940-6f1e-4a82-83e1-ea57577cbbb3",
        "colab": {
          "base_uri": "https://localhost:8080/",
          "height": 51
        }
      },
      "source": [
        "val = input_single_float_inverse('Enter number ')\n",
        "print(val)"
      ],
      "execution_count": 16,
      "outputs": [
        {
          "output_type": "stream",
          "text": [
            "Enter number 4\n",
            "0.25\n"
          ],
          "name": "stdout"
        }
      ]
    },
    {
      "cell_type": "markdown",
      "metadata": {
        "id": "6Ut0mP550rvh",
        "colab_type": "text"
      },
      "source": [
        "# Lists"
      ]
    },
    {
      "cell_type": "code",
      "metadata": {
        "id": "2sCpl7IG0MCS",
        "colab_type": "code",
        "colab": {}
      },
      "source": [
        "course_name = \"Foundations of Data Science\""
      ],
      "execution_count": 0,
      "outputs": []
    },
    {
      "cell_type": "code",
      "metadata": {
        "id": "t22wYIzW0vvY",
        "colab_type": "code",
        "colab": {}
      },
      "source": [
        "words = course_name.split()"
      ],
      "execution_count": 0,
      "outputs": []
    },
    {
      "cell_type": "code",
      "metadata": {
        "id": "ooADbjda0yjN",
        "colab_type": "code",
        "outputId": "82c632c0-0a9a-4568-8ba0-401de9d9d5e0",
        "colab": {
          "base_uri": "https://localhost:8080/",
          "height": 34
        }
      },
      "source": [
        "print(words)"
      ],
      "execution_count": 80,
      "outputs": [
        {
          "output_type": "stream",
          "text": [
            "['Foundations', 'of', 'Data', 'Science']\n"
          ],
          "name": "stdout"
        }
      ]
    },
    {
      "cell_type": "code",
      "metadata": {
        "id": "_EpvJuLJ0znb",
        "colab_type": "code",
        "colab": {}
      },
      "source": [
        "str.split?"
      ],
      "execution_count": 0,
      "outputs": []
    },
    {
      "cell_type": "code",
      "metadata": {
        "id": "sumvsLzf08H6",
        "colab_type": "code",
        "outputId": "e1ed6849-3d8c-40b0-95ef-315df2047caf",
        "colab": {
          "base_uri": "https://localhost:8080/",
          "height": 34
        }
      },
      "source": [
        "print(type(words))"
      ],
      "execution_count": 82,
      "outputs": [
        {
          "output_type": "stream",
          "text": [
            "<class 'list'>\n"
          ],
          "name": "stdout"
        }
      ]
    },
    {
      "cell_type": "code",
      "metadata": {
        "id": "T0DrQ1rH1Fyq",
        "colab_type": "code",
        "outputId": "d8c81f35-385a-40d0-94e1-cf3a6a418125",
        "colab": {
          "base_uri": "https://localhost:8080/",
          "height": 34
        }
      },
      "source": [
        "print(words[2])"
      ],
      "execution_count": 83,
      "outputs": [
        {
          "output_type": "stream",
          "text": [
            "Data\n"
          ],
          "name": "stdout"
        }
      ]
    },
    {
      "cell_type": "code",
      "metadata": {
        "id": "tqYdpiaK1MEF",
        "colab_type": "code",
        "outputId": "0f9aebe8-9a20-47c4-f7f6-e6555724ab14",
        "colab": {
          "base_uri": "https://localhost:8080/",
          "height": 34
        }
      },
      "source": [
        "print(type(words[-2]))"
      ],
      "execution_count": 23,
      "outputs": [
        {
          "output_type": "stream",
          "text": [
            "<class 'str'>\n"
          ],
          "name": "stdout"
        }
      ]
    },
    {
      "cell_type": "code",
      "metadata": {
        "id": "T4Tmfhax1Ywi",
        "colab_type": "code",
        "outputId": "f39e1261-485c-49a0-c793-6b54086b8291",
        "colab": {
          "base_uri": "https://localhost:8080/",
          "height": 34
        }
      },
      "source": [
        "print(words[-2].lower())"
      ],
      "execution_count": 24,
      "outputs": [
        {
          "output_type": "stream",
          "text": [
            "data\n"
          ],
          "name": "stdout"
        }
      ]
    },
    {
      "cell_type": "code",
      "metadata": {
        "id": "x6hTL0KR1fMc",
        "colab_type": "code",
        "outputId": "10765312-3b8e-4dab-b047-bebf28cf37bb",
        "colab": {
          "base_uri": "https://localhost:8080/",
          "height": 34
        }
      },
      "source": [
        "print(words[0:2])"
      ],
      "execution_count": 25,
      "outputs": [
        {
          "output_type": "stream",
          "text": [
            "['Foundations', 'of']\n"
          ],
          "name": "stdout"
        }
      ]
    },
    {
      "cell_type": "code",
      "metadata": {
        "id": "ObnsuU-I1qN8",
        "colab_type": "code",
        "outputId": "64b10a0d-3bfd-41fa-b95d-5e7cf0d60b8d",
        "colab": {
          "base_uri": "https://localhost:8080/",
          "height": 34
        }
      },
      "source": [
        "print(words[:2])"
      ],
      "execution_count": 26,
      "outputs": [
        {
          "output_type": "stream",
          "text": [
            "['Foundations', 'of']\n"
          ],
          "name": "stdout"
        }
      ]
    },
    {
      "cell_type": "code",
      "metadata": {
        "id": "TwYJRQ2K10SO",
        "colab_type": "code",
        "outputId": "84fb52a7-84e2-4981-f07d-530ca1cfa3d1",
        "colab": {
          "base_uri": "https://localhost:8080/",
          "height": 34
        }
      },
      "source": [
        "print(type(words[1:]))"
      ],
      "execution_count": 27,
      "outputs": [
        {
          "output_type": "stream",
          "text": [
            "<class 'list'>\n"
          ],
          "name": "stdout"
        }
      ]
    },
    {
      "cell_type": "code",
      "metadata": {
        "id": "wkKVVYK2130R",
        "colab_type": "code",
        "colab": {}
      },
      "source": [
        "new_words = [\"Machine\", \"Learning\"]"
      ],
      "execution_count": 0,
      "outputs": []
    },
    {
      "cell_type": "code",
      "metadata": {
        "id": "A6dHEz1v2BwZ",
        "colab_type": "code",
        "outputId": "6384fcdc-27e4-4a6e-8879-762794be2f28",
        "colab": {
          "base_uri": "https://localhost:8080/",
          "height": 34
        }
      },
      "source": [
        "print(type(new_words))"
      ],
      "execution_count": 29,
      "outputs": [
        {
          "output_type": "stream",
          "text": [
            "<class 'list'>\n"
          ],
          "name": "stdout"
        }
      ]
    },
    {
      "cell_type": "code",
      "metadata": {
        "id": "U6W2YM7O2DDd",
        "colab_type": "code",
        "outputId": "55788f7d-ce07-4803-b1e2-8c6e7b54037e",
        "colab": {
          "base_uri": "https://localhost:8080/",
          "height": 34
        }
      },
      "source": [
        "print(new_words[0])"
      ],
      "execution_count": 30,
      "outputs": [
        {
          "output_type": "stream",
          "text": [
            "Machine\n"
          ],
          "name": "stdout"
        }
      ]
    },
    {
      "cell_type": "code",
      "metadata": {
        "id": "CLPct_dn2FjV",
        "colab_type": "code",
        "colab": {}
      },
      "source": [
        "fibonacci_list = [1, 1, 2, 3, 5, 8, 13, 21]"
      ],
      "execution_count": 0,
      "outputs": []
    },
    {
      "cell_type": "code",
      "metadata": {
        "id": "EINXgpEX2K2l",
        "colab_type": "code",
        "outputId": "5968abd6-b514-4365-cd86-7820888aa666",
        "colab": {
          "base_uri": "https://localhost:8080/",
          "height": 34
        }
      },
      "source": [
        "print(type(fibonacci_list[0]))"
      ],
      "execution_count": 32,
      "outputs": [
        {
          "output_type": "stream",
          "text": [
            "<class 'int'>\n"
          ],
          "name": "stdout"
        }
      ]
    },
    {
      "cell_type": "code",
      "metadata": {
        "id": "FureZr8r2MQR",
        "colab_type": "code",
        "outputId": "5fc06969-7026-4a29-ddfe-027bd6ef76c7",
        "colab": {
          "base_uri": "https://localhost:8080/",
          "height": 34
        }
      },
      "source": [
        "print(fibonacci_list[0] + 10)"
      ],
      "execution_count": 33,
      "outputs": [
        {
          "output_type": "stream",
          "text": [
            "11\n"
          ],
          "name": "stdout"
        }
      ]
    },
    {
      "cell_type": "code",
      "metadata": {
        "id": "wHCWmqiU2RYh",
        "colab_type": "code",
        "outputId": "3b54fa55-f54a-41e5-bb7c-2c1957747364",
        "colab": {
          "base_uri": "https://localhost:8080/",
          "height": 153
        }
      },
      "source": [
        "for num in fibonacci_list:\n",
        "    print(num + 10)"
      ],
      "execution_count": 34,
      "outputs": [
        {
          "output_type": "stream",
          "text": [
            "11\n",
            "11\n",
            "12\n",
            "13\n",
            "15\n",
            "18\n",
            "23\n",
            "31\n"
          ],
          "name": "stdout"
        }
      ]
    },
    {
      "cell_type": "code",
      "metadata": {
        "id": "OmGFOHv52c-Q",
        "colab_type": "code",
        "outputId": "6c7726c7-d8d5-4463-bce8-a5485f7bf17c",
        "colab": {
          "base_uri": "https://localhost:8080/",
          "height": 34
        }
      },
      "source": [
        "length = len(fibonacci_list)\n",
        "print(length)"
      ],
      "execution_count": 35,
      "outputs": [
        {
          "output_type": "stream",
          "text": [
            "8\n"
          ],
          "name": "stdout"
        }
      ]
    },
    {
      "cell_type": "code",
      "metadata": {
        "id": "R7wnHSMH2sPE",
        "colab_type": "code",
        "outputId": "2295cff9-4ab8-4228-9ebf-0013bc1f7e26",
        "colab": {
          "base_uri": "https://localhost:8080/",
          "height": 153
        }
      },
      "source": [
        "for i in range(length):\n",
        "    print(i, fibonacci_list[i])"
      ],
      "execution_count": 36,
      "outputs": [
        {
          "output_type": "stream",
          "text": [
            "0 1\n",
            "1 1\n",
            "2 2\n",
            "3 3\n",
            "4 5\n",
            "5 8\n",
            "6 13\n",
            "7 21\n"
          ],
          "name": "stdout"
        }
      ]
    },
    {
      "cell_type": "code",
      "metadata": {
        "id": "MjWqDjLF2xk_",
        "colab_type": "code",
        "colab": {}
      },
      "source": [
        "bmi_record = [\"Krishna\", 75, 1.73, False]"
      ],
      "execution_count": 0,
      "outputs": []
    },
    {
      "cell_type": "code",
      "metadata": {
        "id": "nNLZS8m43HjW",
        "colab_type": "code",
        "outputId": "a3a736bc-f60c-4e5b-f409-e90bbc3134ac",
        "colab": {
          "base_uri": "https://localhost:8080/",
          "height": 34
        }
      },
      "source": [
        "print(type(bmi_record))"
      ],
      "execution_count": 38,
      "outputs": [
        {
          "output_type": "stream",
          "text": [
            "<class 'list'>\n"
          ],
          "name": "stdout"
        }
      ]
    },
    {
      "cell_type": "code",
      "metadata": {
        "id": "xgTlXkEf3JUL",
        "colab_type": "code",
        "outputId": "87151f0d-699d-49bf-9a34-d84a32aafda6",
        "colab": {
          "base_uri": "https://localhost:8080/",
          "height": 85
        }
      },
      "source": [
        "for item in bmi_record:\n",
        "    print(item, type(item))"
      ],
      "execution_count": 39,
      "outputs": [
        {
          "output_type": "stream",
          "text": [
            "Krishna <class 'str'>\n",
            "75 <class 'int'>\n",
            "1.73 <class 'float'>\n",
            "False <class 'bool'>\n"
          ],
          "name": "stdout"
        }
      ]
    },
    {
      "cell_type": "code",
      "metadata": {
        "id": "5zQYms0i3OWy",
        "colab_type": "code",
        "colab": {}
      },
      "source": [
        "bmi_record[0] = \"Krishna A\""
      ],
      "execution_count": 0,
      "outputs": []
    },
    {
      "cell_type": "code",
      "metadata": {
        "id": "TUwm9fjg3Whh",
        "colab_type": "code",
        "colab": {}
      },
      "source": [
        "bmi_record.append(\"krishnaa@idontknow.com\")"
      ],
      "execution_count": 0,
      "outputs": []
    },
    {
      "cell_type": "code",
      "metadata": {
        "id": "8ZmQL12t3fiK",
        "colab_type": "code",
        "outputId": "8a85a9ca-fe4c-4367-9f25-37faf2d2fb49",
        "colab": {
          "base_uri": "https://localhost:8080/",
          "height": 102
        }
      },
      "source": [
        "for item in bmi_record:\n",
        "    print(item, type(item))"
      ],
      "execution_count": 42,
      "outputs": [
        {
          "output_type": "stream",
          "text": [
            "Krishna A <class 'str'>\n",
            "75 <class 'int'>\n",
            "1.73 <class 'float'>\n",
            "False <class 'bool'>\n",
            "krishnaa@idontknow.com <class 'str'>\n"
          ],
          "name": "stdout"
        }
      ]
    },
    {
      "cell_type": "markdown",
      "metadata": {
        "id": "-ziDAeaFJQRR",
        "colab_type": "text"
      },
      "source": [
        "# Lists - continued"
      ]
    },
    {
      "cell_type": "code",
      "metadata": {
        "id": "EQkc3mMy3hD-",
        "colab_type": "code",
        "colab": {}
      },
      "source": [
        "bmi_dataset = [\n",
        "               [\"Krishna\", 75, 1.73, False],\n",
        "               [\"Bheem\", 120, 1.78, True]\n",
        "]"
      ],
      "execution_count": 0,
      "outputs": []
    },
    {
      "cell_type": "code",
      "metadata": {
        "id": "xEvdr535Jg3d",
        "colab_type": "code",
        "outputId": "49ddbeb5-0380-4bb2-d2a4-9d03179f1319",
        "colab": {
          "base_uri": "https://localhost:8080/",
          "height": 34
        }
      },
      "source": [
        "print(type(bmi_dataset[1]))"
      ],
      "execution_count": 44,
      "outputs": [
        {
          "output_type": "stream",
          "text": [
            "<class 'list'>\n"
          ],
          "name": "stdout"
        }
      ]
    },
    {
      "cell_type": "code",
      "metadata": {
        "id": "r3NEcEflJjuA",
        "colab_type": "code",
        "outputId": "cc2bb7c9-4982-4e8b-9075-3428430dd313",
        "colab": {
          "base_uri": "https://localhost:8080/",
          "height": 34
        }
      },
      "source": [
        "print(bmi_dataset[0])"
      ],
      "execution_count": 45,
      "outputs": [
        {
          "output_type": "stream",
          "text": [
            "['Krishna', 75, 1.73, False]\n"
          ],
          "name": "stdout"
        }
      ]
    },
    {
      "cell_type": "code",
      "metadata": {
        "id": "GSkr_XjBJtrP",
        "colab_type": "code",
        "outputId": "80cc1761-df21-43dd-b611-a586c339f795",
        "colab": {
          "base_uri": "https://localhost:8080/",
          "height": 34
        }
      },
      "source": [
        "print(type(bmi_dataset[0][0]))"
      ],
      "execution_count": 46,
      "outputs": [
        {
          "output_type": "stream",
          "text": [
            "<class 'str'>\n"
          ],
          "name": "stdout"
        }
      ]
    },
    {
      "cell_type": "code",
      "metadata": {
        "id": "yREJjR6WJ2r3",
        "colab_type": "code",
        "outputId": "8543e39e-8c60-489d-ed55-ee7c880098c6",
        "colab": {
          "base_uri": "https://localhost:8080/",
          "height": 34
        }
      },
      "source": [
        "print(bmi_dataset[1][2])"
      ],
      "execution_count": 47,
      "outputs": [
        {
          "output_type": "stream",
          "text": [
            "1.78\n"
          ],
          "name": "stdout"
        }
      ]
    },
    {
      "cell_type": "code",
      "metadata": {
        "id": "4Vokqa0FJ89l",
        "colab_type": "code",
        "colab": {}
      },
      "source": [
        "bmi_dataset[1].append(\"bheem@foodtruck.com\")"
      ],
      "execution_count": 0,
      "outputs": []
    },
    {
      "cell_type": "code",
      "metadata": {
        "id": "Rzgndf4aKO8p",
        "colab_type": "code",
        "outputId": "a0109709-78b3-4101-9370-fc23b3c2510a",
        "colab": {
          "base_uri": "https://localhost:8080/",
          "height": 34
        }
      },
      "source": [
        "print(bmi_dataset)"
      ],
      "execution_count": 49,
      "outputs": [
        {
          "output_type": "stream",
          "text": [
            "[['Krishna', 75, 1.73, False], ['Bheem', 120, 1.78, True, 'bheem@foodtruck.com']]\n"
          ],
          "name": "stdout"
        }
      ]
    },
    {
      "cell_type": "code",
      "metadata": {
        "id": "Lkz3Es5QKQf3",
        "colab_type": "code",
        "colab": {}
      },
      "source": [
        "bmi_dataset[1][1] = 125"
      ],
      "execution_count": 0,
      "outputs": []
    },
    {
      "cell_type": "code",
      "metadata": {
        "id": "aBBMxzV7KZ_1",
        "colab_type": "code",
        "colab": {}
      },
      "source": [
        "identity_3 = [\n",
        "              [1, 0, 0],\n",
        "              [0, 1, 0],\n",
        "              [0, 0, 1]\n",
        "]"
      ],
      "execution_count": 0,
      "outputs": []
    },
    {
      "cell_type": "code",
      "metadata": {
        "id": "7NTzmXOwKqp8",
        "colab_type": "code",
        "outputId": "78d4c4bd-0761-41d0-e585-08e64f49cdb7",
        "colab": {
          "base_uri": "https://localhost:8080/",
          "height": 34
        }
      },
      "source": [
        "print(identity_3[2][2])"
      ],
      "execution_count": 52,
      "outputs": [
        {
          "output_type": "stream",
          "text": [
            "1\n"
          ],
          "name": "stdout"
        }
      ]
    },
    {
      "cell_type": "code",
      "metadata": {
        "id": "eutbtw4XKsd0",
        "colab_type": "code",
        "colab": {}
      },
      "source": [
        "A = [1, 2]"
      ],
      "execution_count": 0,
      "outputs": []
    },
    {
      "cell_type": "code",
      "metadata": {
        "id": "prDRE12VK6Wt",
        "colab_type": "code",
        "colab": {}
      },
      "source": [
        "B = A"
      ],
      "execution_count": 0,
      "outputs": []
    },
    {
      "cell_type": "code",
      "metadata": {
        "id": "ARmetUuiK7hZ",
        "colab_type": "code",
        "outputId": "006b2f7c-d8c2-4e67-d919-5edde0130e91",
        "colab": {
          "base_uri": "https://localhost:8080/",
          "height": 34
        }
      },
      "source": [
        "print(B)"
      ],
      "execution_count": 55,
      "outputs": [
        {
          "output_type": "stream",
          "text": [
            "[1, 2]\n"
          ],
          "name": "stdout"
        }
      ]
    },
    {
      "cell_type": "code",
      "metadata": {
        "id": "C8N0K8KlK9M8",
        "colab_type": "code",
        "colab": {}
      },
      "source": [
        "A[0] = A[0] + A[1]"
      ],
      "execution_count": 0,
      "outputs": []
    },
    {
      "cell_type": "code",
      "metadata": {
        "id": "kJt33znALCpE",
        "colab_type": "code",
        "outputId": "9a0636a3-8be8-43ba-a6d0-5eab5de2b6cb",
        "colab": {
          "base_uri": "https://localhost:8080/",
          "height": 34
        }
      },
      "source": [
        "print(A)"
      ],
      "execution_count": 57,
      "outputs": [
        {
          "output_type": "stream",
          "text": [
            "[3, 2]\n"
          ],
          "name": "stdout"
        }
      ]
    },
    {
      "cell_type": "code",
      "metadata": {
        "id": "l_O2qJtwLDZq",
        "colab_type": "code",
        "outputId": "5ca8e096-5a74-4d55-c9db-3bffd2a83f0a",
        "colab": {
          "base_uri": "https://localhost:8080/",
          "height": 34
        }
      },
      "source": [
        "print(B)"
      ],
      "execution_count": 58,
      "outputs": [
        {
          "output_type": "stream",
          "text": [
            "[3, 2]\n"
          ],
          "name": "stdout"
        }
      ]
    },
    {
      "cell_type": "code",
      "metadata": {
        "id": "Ngunj3jtLEv0",
        "colab_type": "code",
        "colab": {}
      },
      "source": [
        "A = [1, 2]"
      ],
      "execution_count": 0,
      "outputs": []
    },
    {
      "cell_type": "code",
      "metadata": {
        "id": "mROzmMJgLXrn",
        "colab_type": "code",
        "colab": {}
      },
      "source": [
        "B = [item for item in A]"
      ],
      "execution_count": 0,
      "outputs": []
    },
    {
      "cell_type": "code",
      "metadata": {
        "id": "6NlLnK1XLiyu",
        "colab_type": "code",
        "outputId": "6921433d-b3f9-4f82-d4e2-83d09e527406",
        "colab": {
          "base_uri": "https://localhost:8080/",
          "height": 34
        }
      },
      "source": [
        "print(B)"
      ],
      "execution_count": 61,
      "outputs": [
        {
          "output_type": "stream",
          "text": [
            "[1, 2]\n"
          ],
          "name": "stdout"
        }
      ]
    },
    {
      "cell_type": "code",
      "metadata": {
        "id": "PbZtWubDLjgK",
        "colab_type": "code",
        "colab": {}
      },
      "source": [
        "A[0] = A[0] + A[1]"
      ],
      "execution_count": 0,
      "outputs": []
    },
    {
      "cell_type": "code",
      "metadata": {
        "id": "o_fIxWZ4Lk_w",
        "colab_type": "code",
        "outputId": "83530ba6-48ed-43ef-8576-e5c5994be353",
        "colab": {
          "base_uri": "https://localhost:8080/",
          "height": 34
        }
      },
      "source": [
        "print(A)"
      ],
      "execution_count": 63,
      "outputs": [
        {
          "output_type": "stream",
          "text": [
            "[3, 2]\n"
          ],
          "name": "stdout"
        }
      ]
    },
    {
      "cell_type": "code",
      "metadata": {
        "id": "QrKvnxdtLlls",
        "colab_type": "code",
        "outputId": "72fe4083-c24a-4a58-d9c1-f3b6b753c543",
        "colab": {
          "base_uri": "https://localhost:8080/",
          "height": 34
        }
      },
      "source": [
        "print(B)"
      ],
      "execution_count": 64,
      "outputs": [
        {
          "output_type": "stream",
          "text": [
            "[1, 2]\n"
          ],
          "name": "stdout"
        }
      ]
    },
    {
      "cell_type": "markdown",
      "metadata": {
        "id": "cmJis39bLvNn",
        "colab_type": "text"
      },
      "source": [
        "# Exercise for Lists\n",
        "\n",
        "Given the following square matrix $A$\n",
        "$$A =  \\begin{pmatrix} 1 & 1 \\\\ 1 & 0  \\end{pmatrix}$$\n",
        "compute the matrix $A^n$ obtained by multiplying $A$ to itself $n$ times.\n",
        " \n",
        "Can you comment on the left-top value in $A^n$ (what does this remind you of?)"
      ]
    },
    {
      "cell_type": "code",
      "metadata": {
        "id": "yfKUGqMNLmcn",
        "colab_type": "code",
        "colab": {}
      },
      "source": [
        "def square_matrix_power(A, n):\n",
        "    output = A\n",
        "    temp = A\n",
        "    for i in range(n - 1):\n",
        "        # output = A * output\n",
        "        # -> output = A * temp\n",
        "        #    temp = output\n",
        "        output[0][0] = A[0][0] * temp[0][0] + A[0][1] * temp[1][0]\n",
        "        output[0][1] = A[0][0] * temp[0][1] + A[0][1] * temp[1][1]\n",
        "        output[1][0] = A[1][0] * temp[0][0] + A[1][1] * temp[1][0]\n",
        "        output[1][1] = A[1][0] * temp[0][1] + A[1][1] * temp[1][1]\n",
        "        temp = output\n",
        "    return output"
      ],
      "execution_count": 0,
      "outputs": []
    },
    {
      "cell_type": "code",
      "metadata": {
        "id": "1gCv_QnCNoEv",
        "colab_type": "code",
        "colab": {}
      },
      "source": [
        "A = [\n",
        "     [1, 1], \n",
        "     [1, 0]\n",
        "]"
      ],
      "execution_count": 0,
      "outputs": []
    },
    {
      "cell_type": "code",
      "metadata": {
        "id": "1WSp8kFJNrMG",
        "colab_type": "code",
        "outputId": "7cb31ab6-fb69-4a27-d14f-05b51988fb15",
        "colab": {
          "base_uri": "https://localhost:8080/",
          "height": 34
        }
      },
      "source": [
        "print(square_matrix_power(A, 2))"
      ],
      "execution_count": 67,
      "outputs": [
        {
          "output_type": "stream",
          "text": [
            "[[2, 2], [2, 4]]\n"
          ],
          "name": "stdout"
        }
      ]
    },
    {
      "cell_type": "code",
      "metadata": {
        "id": "DF4JZ9NbOXai",
        "colab_type": "code",
        "colab": {}
      },
      "source": [
        "def square_matrix_power(A, n):\n",
        "    output = [item[:] for item in A]\n",
        "    temp = [item[:] for item in A]\n",
        "    for i in range(n - 1):\n",
        "        # output = A * output\n",
        "        # -> output = A * temp\n",
        "        #    temp = output\n",
        "        output[0][0] = A[0][0] * temp[0][0] + A[0][1] * temp[1][0]\n",
        "        output[0][1] = A[0][0] * temp[0][1] + A[0][1] * temp[1][1]\n",
        "        output[1][0] = A[1][0] * temp[0][0] + A[1][1] * temp[1][0]\n",
        "        output[1][1] = A[1][0] * temp[0][1] + A[1][1] * temp[1][1]\n",
        "        temp = [item[:] for item in output]\n",
        "    return output"
      ],
      "execution_count": 0,
      "outputs": []
    },
    {
      "cell_type": "code",
      "metadata": {
        "id": "AY5Tj-w0PMLQ",
        "colab_type": "code",
        "colab": {}
      },
      "source": [
        "A = [\n",
        "     [1, 1], \n",
        "     [1, 0]\n",
        "]"
      ],
      "execution_count": 0,
      "outputs": []
    },
    {
      "cell_type": "code",
      "metadata": {
        "id": "IUJhgUDbPGuR",
        "colab_type": "code",
        "outputId": "c750987c-3ba0-45b5-b59f-3bf7fa0da50c",
        "colab": {
          "base_uri": "https://localhost:8080/",
          "height": 34
        }
      },
      "source": [
        "print(square_matrix_power(A, 2))"
      ],
      "execution_count": 70,
      "outputs": [
        {
          "output_type": "stream",
          "text": [
            "[[2, 1], [1, 1]]\n"
          ],
          "name": "stdout"
        }
      ]
    },
    {
      "cell_type": "code",
      "metadata": {
        "id": "2PLmw7oOPKDc",
        "colab_type": "code",
        "outputId": "4cd233a9-97af-42eb-90b1-0d03b6f13932",
        "colab": {
          "base_uri": "https://localhost:8080/",
          "height": 187
        }
      },
      "source": [
        "for n in range(10):\n",
        "    output = square_matrix_power(A, n)\n",
        "    print(n, output[0][0])"
      ],
      "execution_count": 71,
      "outputs": [
        {
          "output_type": "stream",
          "text": [
            "0 1\n",
            "1 1\n",
            "2 2\n",
            "3 3\n",
            "4 5\n",
            "5 8\n",
            "6 13\n",
            "7 21\n",
            "8 34\n",
            "9 55\n"
          ],
          "name": "stdout"
        }
      ]
    },
    {
      "cell_type": "markdown",
      "metadata": {
        "id": "V4bsIvOxSRJE",
        "colab_type": "text"
      },
      "source": [
        "# Tuples and Sets"
      ]
    },
    {
      "cell_type": "code",
      "metadata": {
        "id": "_DJblfyJPhY1",
        "colab_type": "code",
        "colab": {}
      },
      "source": [
        "bmi_categories = (\"Underweight\", \"Normal\", \"Overweight\", \"Very overweight\")"
      ],
      "execution_count": 0,
      "outputs": []
    },
    {
      "cell_type": "code",
      "metadata": {
        "id": "8CXBKymkSktX",
        "colab_type": "code",
        "outputId": "9b2e7e48-1cef-4354-dfbf-c5b5e8b67e1a",
        "colab": {
          "base_uri": "https://localhost:8080/",
          "height": 34
        }
      },
      "source": [
        "print(type(bmi_categories))"
      ],
      "execution_count": 73,
      "outputs": [
        {
          "output_type": "stream",
          "text": [
            "<class 'tuple'>\n"
          ],
          "name": "stdout"
        }
      ]
    },
    {
      "cell_type": "code",
      "metadata": {
        "id": "PSZ4cleeSnNq",
        "colab_type": "code",
        "outputId": "73ab49e0-ed06-4153-bf3a-4d86262aaab2",
        "colab": {
          "base_uri": "https://localhost:8080/",
          "height": 34
        }
      },
      "source": [
        "print(bmi_categories[-1])"
      ],
      "execution_count": 74,
      "outputs": [
        {
          "output_type": "stream",
          "text": [
            "Very overweight\n"
          ],
          "name": "stdout"
        }
      ]
    },
    {
      "cell_type": "code",
      "metadata": {
        "id": "Atj3VM1RSs_Z",
        "colab_type": "code",
        "outputId": "69773620-e4af-42b9-857d-71761423f1e1",
        "colab": {
          "base_uri": "https://localhost:8080/",
          "height": 34
        }
      },
      "source": [
        "print(bmi_categories[0:2])"
      ],
      "execution_count": 75,
      "outputs": [
        {
          "output_type": "stream",
          "text": [
            "('Underweight', 'Normal')\n"
          ],
          "name": "stdout"
        }
      ]
    },
    {
      "cell_type": "code",
      "metadata": {
        "id": "KhqmARH5S3p4",
        "colab_type": "code",
        "outputId": "9035b369-2bd2-4ec6-89cf-b3319621d262",
        "colab": {
          "base_uri": "https://localhost:8080/",
          "height": 34
        }
      },
      "source": [
        "bmi_categories.index(\"Normal\")"
      ],
      "execution_count": 76,
      "outputs": [
        {
          "output_type": "execute_result",
          "data": {
            "text/plain": [
              "1"
            ]
          },
          "metadata": {
            "tags": []
          },
          "execution_count": 76
        }
      ]
    },
    {
      "cell_type": "code",
      "metadata": {
        "id": "ThQzsWyRTEvp",
        "colab_type": "code",
        "outputId": "ed5a9781-441a-4573-d662-e56673f1447e",
        "colab": {
          "base_uri": "https://localhost:8080/",
          "height": 163
        }
      },
      "source": [
        "bmi_categories.index(\"Very underweight\")"
      ],
      "execution_count": 77,
      "outputs": [
        {
          "output_type": "error",
          "ename": "ValueError",
          "evalue": "ignored",
          "traceback": [
            "\u001b[0;31m---------------------------------------------------------------------------\u001b[0m",
            "\u001b[0;31mValueError\u001b[0m                                Traceback (most recent call last)",
            "\u001b[0;32m<ipython-input-77-e8511bb3003f>\u001b[0m in \u001b[0;36m<module>\u001b[0;34m()\u001b[0m\n\u001b[0;32m----> 1\u001b[0;31m \u001b[0mbmi_categories\u001b[0m\u001b[0;34m.\u001b[0m\u001b[0mindex\u001b[0m\u001b[0;34m(\u001b[0m\u001b[0;34m\"Very underweight\"\u001b[0m\u001b[0;34m)\u001b[0m\u001b[0;34m\u001b[0m\u001b[0;34m\u001b[0m\u001b[0m\n\u001b[0m",
            "\u001b[0;31mValueError\u001b[0m: tuple.index(x): x not in tuple"
          ]
        }
      ]
    },
    {
      "cell_type": "code",
      "metadata": {
        "id": "VXt7mx4ATMgp",
        "colab_type": "code",
        "colab": {}
      },
      "source": [
        "print(\"Underweight\" in bmi_categories)"
      ],
      "execution_count": 0,
      "outputs": []
    },
    {
      "cell_type": "code",
      "metadata": {
        "id": "ku1Ohc4RTVAe",
        "colab_type": "code",
        "colab": {}
      },
      "source": [
        "bmi_categories[3] = \"VERY overweight\""
      ],
      "execution_count": 0,
      "outputs": []
    },
    {
      "cell_type": "code",
      "metadata": {
        "id": "EGiN0aGOTiTW",
        "colab_type": "code",
        "colab": {}
      },
      "source": [
        "%%timeit -n1 -r10\n",
        "for i in range(1000000):\n",
        "    my_list = [\"Tuples\", \"are\", \"faster\", \"than\", \"lists\"]"
      ],
      "execution_count": 0,
      "outputs": []
    },
    {
      "cell_type": "code",
      "metadata": {
        "id": "UvYyyEkAUc1M",
        "colab_type": "code",
        "colab": {}
      },
      "source": [
        "%%timeit?"
      ],
      "execution_count": 0,
      "outputs": []
    },
    {
      "cell_type": "code",
      "metadata": {
        "id": "i23Msh0bUiAM",
        "colab_type": "code",
        "colab": {}
      },
      "source": [
        "%%timeit -n1 -r10\n",
        "for i in range(1000000):\n",
        "    my_tuple = (\"Tuples\", \"are\", \"faster\", \"than\", \"lists\")"
      ],
      "execution_count": 0,
      "outputs": []
    },
    {
      "cell_type": "code",
      "metadata": {
        "id": "kv9wQVEWUtZ1",
        "colab_type": "code",
        "colab": {}
      },
      "source": [
        "batsmen = {\"Rohit\", \"Virat\", \"Ravindra\", \"Rahul\"}"
      ],
      "execution_count": 0,
      "outputs": []
    },
    {
      "cell_type": "code",
      "metadata": {
        "id": "Bca5ZURIVLOi",
        "colab_type": "code",
        "colab": {}
      },
      "source": [
        "print(type(batsmen))"
      ],
      "execution_count": 0,
      "outputs": []
    },
    {
      "cell_type": "code",
      "metadata": {
        "id": "gbdMW5UGVNfX",
        "colab_type": "code",
        "colab": {}
      },
      "source": [
        "print(\"Rohit\" in batsmen)"
      ],
      "execution_count": 0,
      "outputs": []
    },
    {
      "cell_type": "code",
      "metadata": {
        "id": "gX-GPXBvVSV8",
        "colab_type": "code",
        "colab": {}
      },
      "source": [
        "batsmen.index(\"Rohit\")"
      ],
      "execution_count": 0,
      "outputs": []
    },
    {
      "cell_type": "code",
      "metadata": {
        "id": "iPRzKwxpVZe7",
        "colab_type": "code",
        "colab": {}
      },
      "source": [
        "bowlers = {\"Ishant\", \"Bumrah\", \"Ravindra\"}"
      ],
      "execution_count": 0,
      "outputs": []
    },
    {
      "cell_type": "code",
      "metadata": {
        "id": "kDGi71-JVjXg",
        "colab_type": "code",
        "colab": {}
      },
      "source": [
        "print(type(bowlers))"
      ],
      "execution_count": 0,
      "outputs": []
    },
    {
      "cell_type": "code",
      "metadata": {
        "id": "JFz_RE7LVknF",
        "colab_type": "code",
        "colab": {}
      },
      "source": [
        "all_rounders = batsmen.intersection(bowlers)"
      ],
      "execution_count": 0,
      "outputs": []
    },
    {
      "cell_type": "code",
      "metadata": {
        "id": "WsEVdemzVoQL",
        "colab_type": "code",
        "colab": {}
      },
      "source": [
        "print(type(all_rounders))"
      ],
      "execution_count": 0,
      "outputs": []
    },
    {
      "cell_type": "code",
      "metadata": {
        "id": "kplrKHlVVpzW",
        "colab_type": "code",
        "colab": {}
      },
      "source": [
        "print(all_rounders)"
      ],
      "execution_count": 0,
      "outputs": []
    },
    {
      "cell_type": "code",
      "metadata": {
        "id": "ADkWKfC1Vrip",
        "colab_type": "code",
        "colab": {}
      },
      "source": [
        "players = batsmen.union(bowlers)"
      ],
      "execution_count": 0,
      "outputs": []
    },
    {
      "cell_type": "code",
      "metadata": {
        "id": "MSwKk3G2V2UJ",
        "colab_type": "code",
        "colab": {}
      },
      "source": [
        "print(type(players))"
      ],
      "execution_count": 0,
      "outputs": []
    },
    {
      "cell_type": "code",
      "metadata": {
        "id": "YxaOIZETV3Y5",
        "colab_type": "code",
        "colab": {}
      },
      "source": [
        "print(players)"
      ],
      "execution_count": 0,
      "outputs": []
    },
    {
      "cell_type": "code",
      "metadata": {
        "id": "25ZGq6hLV4T4",
        "colab_type": "code",
        "colab": {}
      },
      "source": [
        "bowlers = {\"Ishant\", \"Bumrah\", \"Ravindra\", \"Bumrah\"}"
      ],
      "execution_count": 0,
      "outputs": []
    },
    {
      "cell_type": "code",
      "metadata": {
        "id": "3f4SpXn_V-YI",
        "colab_type": "code",
        "colab": {}
      },
      "source": [
        "print(bowlers)"
      ],
      "execution_count": 0,
      "outputs": []
    },
    {
      "cell_type": "code",
      "metadata": {
        "id": "dIDmR9x7V_vC",
        "colab_type": "code",
        "colab": {}
      },
      "source": [
        "%%timeit -n1 -r10\n",
        "my_list = list(range(10000))\n",
        "for i in range(10000):\n",
        "    b = 1947 in my_list"
      ],
      "execution_count": 0,
      "outputs": []
    },
    {
      "cell_type": "code",
      "metadata": {
        "id": "Li-V91Y1WkEf",
        "colab_type": "code",
        "colab": {}
      },
      "source": [
        "%%timeit -n1 -r10\n",
        "my_tuple = tuple(range(10000))\n",
        "for i in range(10000):\n",
        "    b = 1947 in my_tuple"
      ],
      "execution_count": 0,
      "outputs": []
    },
    {
      "cell_type": "code",
      "metadata": {
        "id": "0Co9MdoAWpHI",
        "colab_type": "code",
        "colab": {}
      },
      "source": [
        "%%timeit -n1 -r10\n",
        "my_set = set(range(10000))\n",
        "for i in range(10000):\n",
        "    b = 1947 in my_set"
      ],
      "execution_count": 0,
      "outputs": []
    },
    {
      "cell_type": "markdown",
      "metadata": {
        "id": "sTDgFpQCa9xa",
        "colab_type": "text"
      },
      "source": [
        "# Dictionary"
      ]
    },
    {
      "cell_type": "code",
      "metadata": {
        "id": "ufnuvOHzaunz",
        "colab_type": "code",
        "colab": {}
      },
      "source": [
        "bmi_dataset = [\n",
        "               [\"Krishna\", 75, 1.73, False],\n",
        "               [\"Bheem\", 120, 1.78, True]\n",
        "]"
      ],
      "execution_count": 0,
      "outputs": []
    },
    {
      "cell_type": "code",
      "metadata": {
        "id": "nxRU93n1bCx7",
        "colab_type": "code",
        "colab": {}
      },
      "source": [
        "bmi_record = {\n",
        "    \"name\": \"Krishna\",\n",
        "    \"weight\": 75,\n",
        "    \"height\": 1.73,\n",
        "    \"is_overweight\": False\n",
        "}"
      ],
      "execution_count": 0,
      "outputs": []
    },
    {
      "cell_type": "code",
      "metadata": {
        "id": "2RNmOCEAb43J",
        "colab_type": "code",
        "colab": {}
      },
      "source": [
        "print(type(bmi_record))"
      ],
      "execution_count": 0,
      "outputs": []
    },
    {
      "cell_type": "code",
      "metadata": {
        "id": "q3knrRTfb6LK",
        "colab_type": "code",
        "colab": {}
      },
      "source": [
        "bmi_record[\"name\"]"
      ],
      "execution_count": 0,
      "outputs": []
    },
    {
      "cell_type": "code",
      "metadata": {
        "id": "63W3rfkzcAeZ",
        "colab_type": "code",
        "colab": {}
      },
      "source": [
        "bmi_record[\"email\"]"
      ],
      "execution_count": 0,
      "outputs": []
    },
    {
      "cell_type": "code",
      "metadata": {
        "id": "fpW4ztt8cFDW",
        "colab_type": "code",
        "colab": {}
      },
      "source": [
        "bmi_record[\"email\"] = \"krishna@idontknow.com\""
      ],
      "execution_count": 0,
      "outputs": []
    },
    {
      "cell_type": "code",
      "metadata": {
        "id": "vpfoArSdcKt6",
        "colab_type": "code",
        "colab": {}
      },
      "source": [
        "print(bmi_record)"
      ],
      "execution_count": 0,
      "outputs": []
    },
    {
      "cell_type": "code",
      "metadata": {
        "id": "HnbthNJDcMZB",
        "colab_type": "code",
        "colab": {}
      },
      "source": [
        "for key in bmi_record:\n",
        "    print(key, \":\", bmi_record[key])"
      ],
      "execution_count": 0,
      "outputs": []
    },
    {
      "cell_type": "code",
      "metadata": {
        "id": "UkbDd6yQcaqQ",
        "colab_type": "code",
        "colab": {}
      },
      "source": [
        "print(bmi_record.keys())"
      ],
      "execution_count": 0,
      "outputs": []
    },
    {
      "cell_type": "code",
      "metadata": {
        "id": "SoWv6sKncoTl",
        "colab_type": "code",
        "colab": {}
      },
      "source": [
        "bmi_record_1 = {\n",
        "    \"name\": \"Bheem\",\n",
        "    \"weight\": 125,\n",
        "    \"height\": 1.75,\n",
        "    \"is_overweight\": True,\n",
        "    \"email\": \"bheem@foodtruck.com\"\n",
        "}"
      ],
      "execution_count": 0,
      "outputs": []
    },
    {
      "cell_type": "code",
      "metadata": {
        "id": "UXhGexkfc9vu",
        "colab_type": "code",
        "colab": {}
      },
      "source": [
        "bmi_dataset = [bmi_record, bmi_record_1]"
      ],
      "execution_count": 0,
      "outputs": []
    },
    {
      "cell_type": "code",
      "metadata": {
        "id": "Fnv5saMIdBgt",
        "colab_type": "code",
        "colab": {}
      },
      "source": [
        "print(bmi_dataset[0][\"is_overweight\"])"
      ],
      "execution_count": 0,
      "outputs": []
    },
    {
      "cell_type": "markdown",
      "metadata": {
        "id": "hotfYemIdSJo",
        "colab_type": "text"
      },
      "source": [
        "## Exercise for dictionary"
      ]
    },
    {
      "cell_type": "markdown",
      "metadata": {
        "id": "qCbcEYcndV3x",
        "colab_type": "text"
      },
      "source": [
        "Receive the user input that says something like \"I went to Parliament\" or \"Why don't you go to Wankhede\". You then subsitute the POI by its lat and long coordinates of that POI."
      ]
    },
    {
      "cell_type": "code",
      "metadata": {
        "id": "Kyl9MayUdEAN",
        "colab_type": "code",
        "colab": {}
      },
      "source": [
        "pois = {\"Parliament\": \"28°37'2\\\"N, 77°12'29\\\"E\", \n",
        "        \"Wankhede\": \"18°56'20.10\\\"N, 72°49'32.60\\\"E\",\n",
        "        \"Nalanda\": \"25°8'12\\\"N, 85°26'38\\\"E\",\n",
        "        \"Mahabalipuram\": \"12°37'21.817\\\"N, 80°11'38.080\\\"E\"\n",
        "        }"
      ],
      "execution_count": 0,
      "outputs": []
    },
    {
      "cell_type": "code",
      "metadata": {
        "id": "LDXs7VuVfDYA",
        "colab_type": "code",
        "colab": {}
      },
      "source": [
        "user_text = input(\"\")"
      ],
      "execution_count": 0,
      "outputs": []
    },
    {
      "cell_type": "code",
      "metadata": {
        "id": "24cznA3cfH-I",
        "colab_type": "code",
        "colab": {}
      },
      "source": [
        "words = user_text.split()\n",
        "print(words)"
      ],
      "execution_count": 0,
      "outputs": []
    },
    {
      "cell_type": "code",
      "metadata": {
        "id": "147LejjMfURV",
        "colab_type": "code",
        "colab": {}
      },
      "source": [
        "output = \"\"\n",
        "for word in words:\n",
        "    if word in pois:\n",
        "        output += pois[word]\n",
        "    else:\n",
        "        output += word\n",
        "    output += \" \""
      ],
      "execution_count": 0,
      "outputs": []
    },
    {
      "cell_type": "code",
      "metadata": {
        "id": "EHHKEIY_fpQp",
        "colab_type": "code",
        "colab": {}
      },
      "source": [
        "print(output)"
      ],
      "execution_count": 0,
      "outputs": []
    },
    {
      "cell_type": "code",
      "metadata": {
        "id": "0wuZ3tmdfqNm",
        "colab_type": "code",
        "colab": {}
      },
      "source": [
        "output = \"\"\n",
        "for word in words:\n",
        "    output += (pois.get(word, word) + \" \")"
      ],
      "execution_count": 0,
      "outputs": []
    },
    {
      "cell_type": "code",
      "metadata": {
        "id": "BN20yKSAgFpx",
        "colab_type": "code",
        "colab": {}
      },
      "source": [
        "print(output)"
      ],
      "execution_count": 0,
      "outputs": []
    },
    {
      "cell_type": "markdown",
      "metadata": {
        "id": "bKvfycfkgQ3r",
        "colab_type": "text"
      },
      "source": [
        "# Exercise - design thinking\n",
        "\n",
        "![alt text](https://www.polygons.tech/wp-content/uploads/adas-road2-web-1200.jpg)\n",
        "\n",
        "Consider the following data store that is used to represent the output of annotation process. \n",
        "\n",
        "```\n",
        "Car 1729\n",
        "X1, Y1\n",
        "X2, Y2\n",
        "X3, Y3\n",
        "...\n",
        "Xk, Yk\n",
        "----\n",
        "Car \n",
        "X1, Y1\n",
        "X2, Y2\n",
        "...\n",
        "Xk', Yk'\n",
        "----\n",
        "...\n",
        "```\n",
        "\n",
        "Multiple cars are annotated in each image. Each car has a string name followed by a series of points forming a closed polygon. The number of these points varies from car to car. Each point itself is characterised by two numbers corresponding to the x and y coordinates. What data structures would you use to represent this. Note that you have multiple levels of representation that are nested and different choices can be made for each level. "
      ]
    },
    {
      "cell_type": "markdown",
      "metadata": {
        "id": "0jOZYFBKl1A1",
        "colab_type": "text"
      },
      "source": [
        "# Files"
      ]
    },
    {
      "cell_type": "code",
      "metadata": {
        "id": "_P-KqqtRltoe",
        "colab_type": "code",
        "colab": {}
      },
      "source": [
        "f = open(\"poem.txt\", \"r\")"
      ],
      "execution_count": 0,
      "outputs": []
    },
    {
      "cell_type": "code",
      "metadata": {
        "id": "Yy9n5PYumyrF",
        "colab_type": "code",
        "colab": {}
      },
      "source": [
        "print(f)"
      ],
      "execution_count": 0,
      "outputs": []
    },
    {
      "cell_type": "code",
      "metadata": {
        "id": "Y1JoHERmmzqX",
        "colab_type": "code",
        "colab": {}
      },
      "source": [
        "output = f.read()"
      ],
      "execution_count": 0,
      "outputs": []
    },
    {
      "cell_type": "code",
      "metadata": {
        "id": "ig5eOCYnm6fO",
        "colab_type": "code",
        "colab": {}
      },
      "source": [
        "print(output)"
      ],
      "execution_count": 0,
      "outputs": []
    },
    {
      "cell_type": "code",
      "metadata": {
        "id": "_ddGl1xmm7VH",
        "colab_type": "code",
        "colab": {}
      },
      "source": [
        "f = open(\"poem.txt\", \"r\")\n",
        "out_line = f.readline()\n",
        "print(out_line)"
      ],
      "execution_count": 0,
      "outputs": []
    },
    {
      "cell_type": "code",
      "metadata": {
        "id": "5jLCietmnHW3",
        "colab_type": "code",
        "colab": {}
      },
      "source": [
        "out_line = f.readline()\n",
        "print(out_line)"
      ],
      "execution_count": 0,
      "outputs": []
    },
    {
      "cell_type": "code",
      "metadata": {
        "id": "XZlfBpNWnKZr",
        "colab_type": "code",
        "colab": {}
      },
      "source": [
        "out_line = f.readline()\n",
        "print(out_line)"
      ],
      "execution_count": 0,
      "outputs": []
    },
    {
      "cell_type": "code",
      "metadata": {
        "id": "4uHX46O7nMEC",
        "colab_type": "code",
        "colab": {}
      },
      "source": [
        "f = open(\"poem.txt\", \"r\")\n",
        "out_lines = f.readlines()\n",
        "print(out_lines)"
      ],
      "execution_count": 0,
      "outputs": []
    },
    {
      "cell_type": "code",
      "metadata": {
        "id": "srMGVS67nS9g",
        "colab_type": "code",
        "colab": {}
      },
      "source": [
        "f.close()"
      ],
      "execution_count": 0,
      "outputs": []
    },
    {
      "cell_type": "code",
      "metadata": {
        "id": "n3ecHqLDncHw",
        "colab_type": "code",
        "colab": {}
      },
      "source": [
        "out_line = f.readline()"
      ],
      "execution_count": 0,
      "outputs": []
    },
    {
      "cell_type": "code",
      "metadata": {
        "id": "RpbQQl2XnegA",
        "colab_type": "code",
        "colab": {}
      },
      "source": [
        "with open(\"poem.txt\", \"r\") as f:\n",
        "    out_lines = f.readlines()\n",
        "    print(out_lines) "
      ],
      "execution_count": 0,
      "outputs": []
    },
    {
      "cell_type": "code",
      "metadata": {
        "colab_type": "code",
        "id": "raNR8TPMqXtS",
        "colab": {}
      },
      "source": [
        "f.readlines()"
      ],
      "execution_count": 0,
      "outputs": []
    },
    {
      "cell_type": "code",
      "metadata": {
        "id": "brA2ghgfqawf",
        "colab_type": "code",
        "colab": {}
      },
      "source": [
        "f = open(\"poem.txt\", \"r\")\n",
        "out_lines = f.readlines()\n",
        "print(out_lines)\n",
        "f.close()"
      ],
      "execution_count": 0,
      "outputs": []
    },
    {
      "cell_type": "code",
      "metadata": {
        "id": "yfybbwLuq8Ss",
        "colab_type": "code",
        "colab": {}
      },
      "source": [
        "i = 0\n",
        "for line in out_lines:\n",
        "    print(i, '\\t', line.strip())\n",
        "    i += 1"
      ],
      "execution_count": 0,
      "outputs": []
    },
    {
      "cell_type": "code",
      "metadata": {
        "id": "01zYZPzXrDvo",
        "colab_type": "code",
        "colab": {}
      },
      "source": [
        "f_out = open(\"fav.txt\", \"w\")"
      ],
      "execution_count": 0,
      "outputs": []
    },
    {
      "cell_type": "code",
      "metadata": {
        "id": "hZCTo6I-reJL",
        "colab_type": "code",
        "colab": {}
      },
      "source": [
        "f_out.writelines(out_lines[2])"
      ],
      "execution_count": 0,
      "outputs": []
    },
    {
      "cell_type": "code",
      "metadata": {
        "id": "L_PTj0Srrjq-",
        "colab_type": "code",
        "colab": {}
      },
      "source": [
        "f_out.close()"
      ],
      "execution_count": 0,
      "outputs": []
    },
    {
      "cell_type": "code",
      "metadata": {
        "id": "hVBBnZXBrv3Y",
        "colab_type": "code",
        "colab": {}
      },
      "source": [
        "fav_lines = [2, 22]"
      ],
      "execution_count": 0,
      "outputs": []
    },
    {
      "cell_type": "code",
      "metadata": {
        "id": "t8owFzztr35X",
        "colab_type": "code",
        "colab": {}
      },
      "source": [
        "with open(\"fav.txt\", \"w\") as f_out:\n",
        "    for fav_line in fav_lines:\n",
        "        f_out.writelines(out_lines[fav_line])"
      ],
      "execution_count": 0,
      "outputs": []
    },
    {
      "cell_type": "markdown",
      "metadata": {
        "id": "edmIJ9KUsRsU",
        "colab_type": "text"
      },
      "source": [
        "# Exercise\n",
        "\n",
        "1.   Create a dictionary whose keys correspond to unique words in a given file and whose values correspond to the number of times each word appears in the file.\n",
        "2.   To an output file, write the 10 most frequent words in separate lines.\n",
        "3.   To an output file, write the 5 most frequenct 2-grams in separate lines.\n",
        "\n",
        "\n"
      ]
    },
    {
      "cell_type": "markdown",
      "metadata": {
        "id": "-OuV1y82BUYV",
        "colab_type": "text"
      },
      "source": [
        "# Problem 1, 2"
      ]
    },
    {
      "cell_type": "code",
      "metadata": {
        "id": "RqhwDYTpBVac",
        "colab_type": "code",
        "outputId": "0a2b145e-7e7c-439a-f715-d275c472e67b",
        "colab": {
          "base_uri": "https://localhost:8080/",
          "height": 54
        }
      },
      "source": [
        "f = open(\"/content/sample_data/poem.txt\", \"r\")\n",
        "lines = f.readlines()\n",
        "print(lines)\n",
        "f.close()"
      ],
      "execution_count": 101,
      "outputs": [
        {
          "output_type": "stream",
          "text": [
            "['Unending Love by Rabindranath Tagore\\n', '\\n', 'I seem to have loved you in numberless forms, numberless times\\n', 'In life after life, in age after age, forever.\\n', 'My spellbound heart has made and remade the necklace of songs,\\n', 'That you take as a gift, wear round your neck in your many forms,\\n', 'In life after life, in age after age, forever.\\n', '\\n', 'Whenever I hear old chronicles of love, its age-old pain,\\n', 'Its ancient tale of being apart or together.\\n', 'As I stare on and on into the past, in the end you emerge,\\n', 'Clad in the light of a pole-star piercing the darkness of time:\\n', 'You become an image of what is remembered forever.\\n', '\\n', 'You and I have floated here on the stream that brings from the fount.\\n', 'At the heart of time, love of one for another.\\n', 'We have played along side millions of lovers, shared in the same\\n', 'Shy sweetness of meeting, the same distressful tears of farewell-\\n', 'Old love but in shapes that renew and renew forever.\\n', '\\n', 'Today it is heaped at your feet, it has found its end in you\\n', 'The love of all man’s days both past and forever:\\n', 'Universal joy, universal sorrow, universal life.\\n', 'The memories of all loves merging with this one love of ours –\\n', 'And the songs of every poet past and forever.']\n"
          ],
          "name": "stdout"
        }
      ]
    },
    {
      "cell_type": "code",
      "metadata": {
        "id": "k2o2s4jJBYSs",
        "colab_type": "code",
        "colab": {}
      },
      "source": [
        "for item in lines:\n",
        "    item = item.lower()"
      ],
      "execution_count": 0,
      "outputs": []
    },
    {
      "cell_type": "code",
      "metadata": {
        "id": "9wNMoBAwBoOU",
        "colab_type": "code",
        "outputId": "0a116ab9-7253-4206-8842-4b180d16a768",
        "colab": {
          "base_uri": "https://localhost:8080/",
          "height": 51
        }
      },
      "source": [
        "print(lines[0])"
      ],
      "execution_count": 103,
      "outputs": [
        {
          "output_type": "stream",
          "text": [
            "Unending Love by Rabindranath Tagore\n",
            "\n"
          ],
          "name": "stdout"
        }
      ]
    },
    {
      "cell_type": "code",
      "metadata": {
        "id": "TFF31Cz1Bpya",
        "colab_type": "code",
        "colab": {}
      },
      "source": [
        "length = len(lines)\n",
        "for i in range(length):\n",
        "    lines[i] = lines[i].lower()"
      ],
      "execution_count": 0,
      "outputs": []
    },
    {
      "cell_type": "code",
      "metadata": {
        "id": "nPD1C8UmB6RG",
        "colab_type": "code",
        "outputId": "468599ad-a8fa-491e-d946-d2f9bf53ea57",
        "colab": {
          "base_uri": "https://localhost:8080/",
          "height": 51
        }
      },
      "source": [
        "print(lines[0])"
      ],
      "execution_count": 105,
      "outputs": [
        {
          "output_type": "stream",
          "text": [
            "unending love by rabindranath tagore\n",
            "\n"
          ],
          "name": "stdout"
        }
      ]
    },
    {
      "cell_type": "code",
      "metadata": {
        "id": "K5Zu5a0BB8e5",
        "colab_type": "code",
        "outputId": "00bbfe1b-2e29-49c4-aaa5-137b209202c5",
        "colab": {
          "base_uri": "https://localhost:8080/",
          "height": 54
        }
      },
      "source": [
        "print(lines)"
      ],
      "execution_count": 106,
      "outputs": [
        {
          "output_type": "stream",
          "text": [
            "['unending love by rabindranath tagore\\n', '\\n', 'i seem to have loved you in numberless forms, numberless times\\n', 'in life after life, in age after age, forever.\\n', 'my spellbound heart has made and remade the necklace of songs,\\n', 'that you take as a gift, wear round your neck in your many forms,\\n', 'in life after life, in age after age, forever.\\n', '\\n', 'whenever i hear old chronicles of love, its age-old pain,\\n', 'its ancient tale of being apart or together.\\n', 'as i stare on and on into the past, in the end you emerge,\\n', 'clad in the light of a pole-star piercing the darkness of time:\\n', 'you become an image of what is remembered forever.\\n', '\\n', 'you and i have floated here on the stream that brings from the fount.\\n', 'at the heart of time, love of one for another.\\n', 'we have played along side millions of lovers, shared in the same\\n', 'shy sweetness of meeting, the same distressful tears of farewell-\\n', 'old love but in shapes that renew and renew forever.\\n', '\\n', 'today it is heaped at your feet, it has found its end in you\\n', 'the love of all man’s days both past and forever:\\n', 'universal joy, universal sorrow, universal life.\\n', 'the memories of all loves merging with this one love of ours –\\n', 'and the songs of every poet past and forever.']\n"
          ],
          "name": "stdout"
        }
      ]
    },
    {
      "cell_type": "code",
      "metadata": {
        "id": "6p68KD7_B9zj",
        "colab_type": "code",
        "colab": {}
      },
      "source": [
        "for i in range(length):\n",
        "    lines[i] = lines[i].replace('\\n', ' ')"
      ],
      "execution_count": 0,
      "outputs": []
    },
    {
      "cell_type": "code",
      "metadata": {
        "id": "cieU63uDCLlW",
        "colab_type": "code",
        "outputId": "8d476e53-d53a-4d33-ba6f-bc64ecc6c0c2",
        "colab": {
          "base_uri": "https://localhost:8080/",
          "height": 54
        }
      },
      "source": [
        "print(lines)"
      ],
      "execution_count": 108,
      "outputs": [
        {
          "output_type": "stream",
          "text": [
            "['unending love by rabindranath tagore ', ' ', 'i seem to have loved you in numberless forms, numberless times ', 'in life after life, in age after age, forever. ', 'my spellbound heart has made and remade the necklace of songs, ', 'that you take as a gift, wear round your neck in your many forms, ', 'in life after life, in age after age, forever. ', ' ', 'whenever i hear old chronicles of love, its age-old pain, ', 'its ancient tale of being apart or together. ', 'as i stare on and on into the past, in the end you emerge, ', 'clad in the light of a pole-star piercing the darkness of time: ', 'you become an image of what is remembered forever. ', ' ', 'you and i have floated here on the stream that brings from the fount. ', 'at the heart of time, love of one for another. ', 'we have played along side millions of lovers, shared in the same ', 'shy sweetness of meeting, the same distressful tears of farewell- ', 'old love but in shapes that renew and renew forever. ', ' ', 'today it is heaped at your feet, it has found its end in you ', 'the love of all man’s days both past and forever: ', 'universal joy, universal sorrow, universal life. ', 'the memories of all loves merging with this one love of ours – ', 'and the songs of every poet past and forever.']\n"
          ],
          "name": "stdout"
        }
      ]
    },
    {
      "cell_type": "code",
      "metadata": {
        "id": "5ScoSoYQCMur",
        "colab_type": "code",
        "colab": {}
      },
      "source": [
        "chars_to_replace = ['\\n', ',', '-', '\"', '(', ')', '.']\n",
        "for i in range(length):\n",
        "    for s in chars_to_replace:\n",
        "        lines[i] = lines[i].replace(s, ' ')"
      ],
      "execution_count": 0,
      "outputs": []
    },
    {
      "cell_type": "code",
      "metadata": {
        "id": "aSa-Yuu8Cjk6",
        "colab_type": "code",
        "outputId": "95c4cfe8-581d-476b-8a08-cb7e8e206d62",
        "colab": {
          "base_uri": "https://localhost:8080/",
          "height": 54
        }
      },
      "source": [
        "print(lines)"
      ],
      "execution_count": 110,
      "outputs": [
        {
          "output_type": "stream",
          "text": [
            "['unending love by rabindranath tagore ', ' ', 'i seem to have loved you in numberless forms  numberless times ', 'in life after life  in age after age  forever  ', 'my spellbound heart has made and remade the necklace of songs  ', 'that you take as a gift  wear round your neck in your many forms  ', 'in life after life  in age after age  forever  ', ' ', 'whenever i hear old chronicles of love  its age old pain  ', 'its ancient tale of being apart or together  ', 'as i stare on and on into the past  in the end you emerge  ', 'clad in the light of a pole star piercing the darkness of time: ', 'you become an image of what is remembered forever  ', ' ', 'you and i have floated here on the stream that brings from the fount  ', 'at the heart of time  love of one for another  ', 'we have played along side millions of lovers  shared in the same ', 'shy sweetness of meeting  the same distressful tears of farewell  ', 'old love but in shapes that renew and renew forever  ', ' ', 'today it is heaped at your feet  it has found its end in you ', 'the love of all man’s days both past and forever: ', 'universal joy  universal sorrow  universal life  ', 'the memories of all loves merging with this one love of ours – ', 'and the songs of every poet past and forever ']\n"
          ],
          "name": "stdout"
        }
      ]
    },
    {
      "cell_type": "code",
      "metadata": {
        "id": "Fdpi4spmClKS",
        "colab_type": "code",
        "colab": {}
      },
      "source": [
        "text = \"\"\n",
        "for line in lines:\n",
        "    text += line + \" \" "
      ],
      "execution_count": 0,
      "outputs": []
    },
    {
      "cell_type": "code",
      "metadata": {
        "id": "YE8i94NLC7ep",
        "colab_type": "code",
        "outputId": "c552c1e8-7339-4c50-f7ef-ccb53fa29365",
        "colab": {
          "base_uri": "https://localhost:8080/",
          "height": 54
        }
      },
      "source": [
        "print(text)"
      ],
      "execution_count": 112,
      "outputs": [
        {
          "output_type": "stream",
          "text": [
            "unending love by rabindranath tagore    i seem to have loved you in numberless forms  numberless times  in life after life  in age after age  forever   my spellbound heart has made and remade the necklace of songs   that you take as a gift  wear round your neck in your many forms   in life after life  in age after age  forever     whenever i hear old chronicles of love  its age old pain   its ancient tale of being apart or together   as i stare on and on into the past  in the end you emerge   clad in the light of a pole star piercing the darkness of time:  you become an image of what is remembered forever     you and i have floated here on the stream that brings from the fount   at the heart of time  love of one for another   we have played along side millions of lovers  shared in the same  shy sweetness of meeting  the same distressful tears of farewell   old love but in shapes that renew and renew forever     today it is heaped at your feet  it has found its end in you  the love of all man’s days both past and forever:  universal joy  universal sorrow  universal life   the memories of all loves merging with this one love of ours –  and the songs of every poet past and forever  \n"
          ],
          "name": "stdout"
        }
      ]
    },
    {
      "cell_type": "code",
      "metadata": {
        "id": "vGmiAZh2C-VN",
        "colab_type": "code",
        "colab": {}
      },
      "source": [
        "text = \" \".join(lines)"
      ],
      "execution_count": 0,
      "outputs": []
    },
    {
      "cell_type": "code",
      "metadata": {
        "id": "2guM_qx8DNy1",
        "colab_type": "code",
        "outputId": "16dd3cc5-dffa-4237-c0e4-2e4b2d1ec1d7",
        "colab": {
          "base_uri": "https://localhost:8080/",
          "height": 54
        }
      },
      "source": [
        "print(text)"
      ],
      "execution_count": 115,
      "outputs": [
        {
          "output_type": "stream",
          "text": [
            "unending love by rabindranath tagore    i seem to have loved you in numberless forms  numberless times  in life after life  in age after age  forever   my spellbound heart has made and remade the necklace of songs   that you take as a gift  wear round your neck in your many forms   in life after life  in age after age  forever     whenever i hear old chronicles of love  its age old pain   its ancient tale of being apart or together   as i stare on and on into the past  in the end you emerge   clad in the light of a pole star piercing the darkness of time:  you become an image of what is remembered forever     you and i have floated here on the stream that brings from the fount   at the heart of time  love of one for another   we have played along side millions of lovers  shared in the same  shy sweetness of meeting  the same distressful tears of farewell   old love but in shapes that renew and renew forever     today it is heaped at your feet  it has found its end in you  the love of all man’s days both past and forever:  universal joy  universal sorrow  universal life   the memories of all loves merging with this one love of ours –  and the songs of every poet past and forever \n"
          ],
          "name": "stdout"
        }
      ]
    },
    {
      "cell_type": "code",
      "metadata": {
        "id": "h9wLviwZDOor",
        "colab_type": "code",
        "colab": {}
      },
      "source": [
        "words = text.split()"
      ],
      "execution_count": 0,
      "outputs": []
    },
    {
      "cell_type": "code",
      "metadata": {
        "id": "Xb-VC2VaDUYW",
        "colab_type": "code",
        "outputId": "588d3290-13fa-4594-a702-3bce13b4b29d",
        "colab": {
          "base_uri": "https://localhost:8080/",
          "height": 54
        }
      },
      "source": [
        "print(len(words), words)"
      ],
      "execution_count": 118,
      "outputs": [
        {
          "output_type": "stream",
          "text": [
            "222 ['unending', 'love', 'by', 'rabindranath', 'tagore', 'i', 'seem', 'to', 'have', 'loved', 'you', 'in', 'numberless', 'forms', 'numberless', 'times', 'in', 'life', 'after', 'life', 'in', 'age', 'after', 'age', 'forever', 'my', 'spellbound', 'heart', 'has', 'made', 'and', 'remade', 'the', 'necklace', 'of', 'songs', 'that', 'you', 'take', 'as', 'a', 'gift', 'wear', 'round', 'your', 'neck', 'in', 'your', 'many', 'forms', 'in', 'life', 'after', 'life', 'in', 'age', 'after', 'age', 'forever', 'whenever', 'i', 'hear', 'old', 'chronicles', 'of', 'love', 'its', 'age', 'old', 'pain', 'its', 'ancient', 'tale', 'of', 'being', 'apart', 'or', 'together', 'as', 'i', 'stare', 'on', 'and', 'on', 'into', 'the', 'past', 'in', 'the', 'end', 'you', 'emerge', 'clad', 'in', 'the', 'light', 'of', 'a', 'pole', 'star', 'piercing', 'the', 'darkness', 'of', 'time:', 'you', 'become', 'an', 'image', 'of', 'what', 'is', 'remembered', 'forever', 'you', 'and', 'i', 'have', 'floated', 'here', 'on', 'the', 'stream', 'that', 'brings', 'from', 'the', 'fount', 'at', 'the', 'heart', 'of', 'time', 'love', 'of', 'one', 'for', 'another', 'we', 'have', 'played', 'along', 'side', 'millions', 'of', 'lovers', 'shared', 'in', 'the', 'same', 'shy', 'sweetness', 'of', 'meeting', 'the', 'same', 'distressful', 'tears', 'of', 'farewell', 'old', 'love', 'but', 'in', 'shapes', 'that', 'renew', 'and', 'renew', 'forever', 'today', 'it', 'is', 'heaped', 'at', 'your', 'feet', 'it', 'has', 'found', 'its', 'end', 'in', 'you', 'the', 'love', 'of', 'all', 'man’s', 'days', 'both', 'past', 'and', 'forever:', 'universal', 'joy', 'universal', 'sorrow', 'universal', 'life', 'the', 'memories', 'of', 'all', 'loves', 'merging', 'with', 'this', 'one', 'love', 'of', 'ours', '–', 'and', 'the', 'songs', 'of', 'every', 'poet', 'past', 'and', 'forever']\n"
          ],
          "name": "stdout"
        }
      ]
    },
    {
      "cell_type": "code",
      "metadata": {
        "id": "PLDKWzRDDWsr",
        "colab_type": "code",
        "colab": {}
      },
      "source": [
        "word_freq = {}"
      ],
      "execution_count": 0,
      "outputs": []
    },
    {
      "cell_type": "code",
      "metadata": {
        "id": "gMQY9pysDkhQ",
        "colab_type": "code",
        "colab": {}
      },
      "source": [
        "for word in words:\n",
        "    if word in word_freq:\n",
        "        word_freq[word] += 1\n",
        "    else:\n",
        "        word_freq[word] = 1"
      ],
      "execution_count": 0,
      "outputs": []
    },
    {
      "cell_type": "code",
      "metadata": {
        "id": "9wzLXk_eJTCM",
        "colab_type": "code",
        "colab": {}
      },
      "source": [
        "word_freq = iterable_counter(words)"
      ],
      "execution_count": 0,
      "outputs": []
    },
    {
      "cell_type": "code",
      "metadata": {
        "id": "Qq5y1bvyD2Pg",
        "colab_type": "code",
        "outputId": "a06c09fb-24cb-4185-c05a-f38535461608",
        "colab": {
          "base_uri": "https://localhost:8080/",
          "height": 54
        }
      },
      "source": [
        "print(word_freq)"
      ],
      "execution_count": 123,
      "outputs": [
        {
          "output_type": "stream",
          "text": [
            "{'unending': 1, 'love': 6, 'by': 1, 'rabindranath': 1, 'tagore': 1, 'i': 4, 'seem': 1, 'to': 1, 'have': 3, 'loved': 1, 'you': 6, 'in': 11, 'numberless': 2, 'forms': 2, 'times': 1, 'life': 5, 'after': 4, 'age': 5, 'forever': 5, 'my': 1, 'spellbound': 1, 'heart': 2, 'has': 2, 'made': 1, 'and': 7, 'remade': 1, 'the': 13, 'necklace': 1, 'of': 15, 'songs': 2, 'that': 3, 'take': 1, 'as': 2, 'a': 2, 'gift': 1, 'wear': 1, 'round': 1, 'your': 3, 'neck': 1, 'many': 1, 'whenever': 1, 'hear': 1, 'old': 3, 'chronicles': 1, 'its': 3, 'pain': 1, 'ancient': 1, 'tale': 1, 'being': 1, 'apart': 1, 'or': 1, 'together': 1, 'stare': 1, 'on': 3, 'into': 1, 'past': 3, 'end': 2, 'emerge': 1, 'clad': 1, 'light': 1, 'pole': 1, 'star': 1, 'piercing': 1, 'darkness': 1, 'time:': 1, 'become': 1, 'an': 1, 'image': 1, 'what': 1, 'is': 2, 'remembered': 1, 'floated': 1, 'here': 1, 'stream': 1, 'brings': 1, 'from': 1, 'fount': 1, 'at': 2, 'time': 1, 'one': 2, 'for': 1, 'another': 1, 'we': 1, 'played': 1, 'along': 1, 'side': 1, 'millions': 1, 'lovers': 1, 'shared': 1, 'same': 2, 'shy': 1, 'sweetness': 1, 'meeting': 1, 'distressful': 1, 'tears': 1, 'farewell': 1, 'but': 1, 'shapes': 1, 'renew': 2, 'today': 1, 'it': 2, 'heaped': 1, 'feet': 1, 'found': 1, 'all': 2, 'man’s': 1, 'days': 1, 'both': 1, 'forever:': 1, 'universal': 3, 'joy': 1, 'sorrow': 1, 'memories': 1, 'loves': 1, 'merging': 1, 'with': 1, 'this': 1, 'ours': 1, '–': 1, 'every': 1, 'poet': 1}\n"
          ],
          "name": "stdout"
        }
      ]
    },
    {
      "cell_type": "code",
      "metadata": {
        "id": "D9JRadaND4Pk",
        "colab_type": "code",
        "colab": {}
      },
      "source": [
        "# sorted(x.items(), key=lambda item: item[1])"
      ],
      "execution_count": 0,
      "outputs": []
    },
    {
      "cell_type": "code",
      "metadata": {
        "id": "PktncF2nEjU5",
        "colab_type": "code",
        "outputId": "6f645142-0068-4e1b-ddac-a5b0532edeb1",
        "colab": {
          "base_uri": "https://localhost:8080/",
          "height": 54
        }
      },
      "source": [
        "print(sorted(word_freq.items()))"
      ],
      "execution_count": 127,
      "outputs": [
        {
          "output_type": "stream",
          "text": [
            "[('a', 2), ('after', 4), ('age', 5), ('all', 2), ('along', 1), ('an', 1), ('ancient', 1), ('and', 7), ('another', 1), ('apart', 1), ('as', 2), ('at', 2), ('become', 1), ('being', 1), ('both', 1), ('brings', 1), ('but', 1), ('by', 1), ('chronicles', 1), ('clad', 1), ('darkness', 1), ('days', 1), ('distressful', 1), ('emerge', 1), ('end', 2), ('every', 1), ('farewell', 1), ('feet', 1), ('floated', 1), ('for', 1), ('forever', 5), ('forever:', 1), ('forms', 2), ('found', 1), ('fount', 1), ('from', 1), ('gift', 1), ('has', 2), ('have', 3), ('heaped', 1), ('hear', 1), ('heart', 2), ('here', 1), ('i', 4), ('image', 1), ('in', 11), ('into', 1), ('is', 2), ('it', 2), ('its', 3), ('joy', 1), ('life', 5), ('light', 1), ('love', 6), ('loved', 1), ('lovers', 1), ('loves', 1), ('made', 1), ('many', 1), ('man’s', 1), ('meeting', 1), ('memories', 1), ('merging', 1), ('millions', 1), ('my', 1), ('neck', 1), ('necklace', 1), ('numberless', 2), ('of', 15), ('old', 3), ('on', 3), ('one', 2), ('or', 1), ('ours', 1), ('pain', 1), ('past', 3), ('piercing', 1), ('played', 1), ('poet', 1), ('pole', 1), ('rabindranath', 1), ('remade', 1), ('remembered', 1), ('renew', 2), ('round', 1), ('same', 2), ('seem', 1), ('shapes', 1), ('shared', 1), ('shy', 1), ('side', 1), ('songs', 2), ('sorrow', 1), ('spellbound', 1), ('star', 1), ('stare', 1), ('stream', 1), ('sweetness', 1), ('tagore', 1), ('take', 1), ('tale', 1), ('tears', 1), ('that', 3), ('the', 13), ('this', 1), ('time', 1), ('time:', 1), ('times', 1), ('to', 1), ('today', 1), ('together', 1), ('unending', 1), ('universal', 3), ('we', 1), ('wear', 1), ('what', 1), ('whenever', 1), ('with', 1), ('you', 6), ('your', 3), ('–', 1)]\n"
          ],
          "name": "stdout"
        }
      ]
    },
    {
      "cell_type": "code",
      "metadata": {
        "id": "HaAhYulMEpYZ",
        "colab_type": "code",
        "colab": {}
      },
      "source": [
        "sorted?"
      ],
      "execution_count": 0,
      "outputs": []
    },
    {
      "cell_type": "code",
      "metadata": {
        "id": "kuiv3F2-FANR",
        "colab_type": "code",
        "outputId": "d8da4da1-a00e-40d2-c414-47d71fbd253d",
        "colab": {
          "base_uri": "https://localhost:8080/",
          "height": 54
        }
      },
      "source": [
        "print(sorted(word_freq.items(), key=lambda item: item[0]))"
      ],
      "execution_count": 129,
      "outputs": [
        {
          "output_type": "stream",
          "text": [
            "[('a', 2), ('after', 4), ('age', 5), ('all', 2), ('along', 1), ('an', 1), ('ancient', 1), ('and', 7), ('another', 1), ('apart', 1), ('as', 2), ('at', 2), ('become', 1), ('being', 1), ('both', 1), ('brings', 1), ('but', 1), ('by', 1), ('chronicles', 1), ('clad', 1), ('darkness', 1), ('days', 1), ('distressful', 1), ('emerge', 1), ('end', 2), ('every', 1), ('farewell', 1), ('feet', 1), ('floated', 1), ('for', 1), ('forever', 5), ('forever:', 1), ('forms', 2), ('found', 1), ('fount', 1), ('from', 1), ('gift', 1), ('has', 2), ('have', 3), ('heaped', 1), ('hear', 1), ('heart', 2), ('here', 1), ('i', 4), ('image', 1), ('in', 11), ('into', 1), ('is', 2), ('it', 2), ('its', 3), ('joy', 1), ('life', 5), ('light', 1), ('love', 6), ('loved', 1), ('lovers', 1), ('loves', 1), ('made', 1), ('many', 1), ('man’s', 1), ('meeting', 1), ('memories', 1), ('merging', 1), ('millions', 1), ('my', 1), ('neck', 1), ('necklace', 1), ('numberless', 2), ('of', 15), ('old', 3), ('on', 3), ('one', 2), ('or', 1), ('ours', 1), ('pain', 1), ('past', 3), ('piercing', 1), ('played', 1), ('poet', 1), ('pole', 1), ('rabindranath', 1), ('remade', 1), ('remembered', 1), ('renew', 2), ('round', 1), ('same', 2), ('seem', 1), ('shapes', 1), ('shared', 1), ('shy', 1), ('side', 1), ('songs', 2), ('sorrow', 1), ('spellbound', 1), ('star', 1), ('stare', 1), ('stream', 1), ('sweetness', 1), ('tagore', 1), ('take', 1), ('tale', 1), ('tears', 1), ('that', 3), ('the', 13), ('this', 1), ('time', 1), ('time:', 1), ('times', 1), ('to', 1), ('today', 1), ('together', 1), ('unending', 1), ('universal', 3), ('we', 1), ('wear', 1), ('what', 1), ('whenever', 1), ('with', 1), ('you', 6), ('your', 3), ('–', 1)]\n"
          ],
          "name": "stdout"
        }
      ]
    },
    {
      "cell_type": "code",
      "metadata": {
        "id": "7aw9UhRHFojy",
        "colab_type": "code",
        "outputId": "50fce28e-f8c9-4acc-fc5e-3df689f234ca",
        "colab": {
          "base_uri": "https://localhost:8080/",
          "height": 54
        }
      },
      "source": [
        "print(sorted(word_freq.items(), key=lambda item: item[1]))"
      ],
      "execution_count": 130,
      "outputs": [
        {
          "output_type": "stream",
          "text": [
            "[('unending', 1), ('by', 1), ('rabindranath', 1), ('tagore', 1), ('seem', 1), ('to', 1), ('loved', 1), ('times', 1), ('my', 1), ('spellbound', 1), ('made', 1), ('remade', 1), ('necklace', 1), ('take', 1), ('gift', 1), ('wear', 1), ('round', 1), ('neck', 1), ('many', 1), ('whenever', 1), ('hear', 1), ('chronicles', 1), ('pain', 1), ('ancient', 1), ('tale', 1), ('being', 1), ('apart', 1), ('or', 1), ('together', 1), ('stare', 1), ('into', 1), ('emerge', 1), ('clad', 1), ('light', 1), ('pole', 1), ('star', 1), ('piercing', 1), ('darkness', 1), ('time:', 1), ('become', 1), ('an', 1), ('image', 1), ('what', 1), ('remembered', 1), ('floated', 1), ('here', 1), ('stream', 1), ('brings', 1), ('from', 1), ('fount', 1), ('time', 1), ('for', 1), ('another', 1), ('we', 1), ('played', 1), ('along', 1), ('side', 1), ('millions', 1), ('lovers', 1), ('shared', 1), ('shy', 1), ('sweetness', 1), ('meeting', 1), ('distressful', 1), ('tears', 1), ('farewell', 1), ('but', 1), ('shapes', 1), ('today', 1), ('heaped', 1), ('feet', 1), ('found', 1), ('man’s', 1), ('days', 1), ('both', 1), ('forever:', 1), ('joy', 1), ('sorrow', 1), ('memories', 1), ('loves', 1), ('merging', 1), ('with', 1), ('this', 1), ('ours', 1), ('–', 1), ('every', 1), ('poet', 1), ('numberless', 2), ('forms', 2), ('heart', 2), ('has', 2), ('songs', 2), ('as', 2), ('a', 2), ('end', 2), ('is', 2), ('at', 2), ('one', 2), ('same', 2), ('renew', 2), ('it', 2), ('all', 2), ('have', 3), ('that', 3), ('your', 3), ('old', 3), ('its', 3), ('on', 3), ('past', 3), ('universal', 3), ('i', 4), ('after', 4), ('life', 5), ('age', 5), ('forever', 5), ('love', 6), ('you', 6), ('and', 7), ('in', 11), ('the', 13), ('of', 15)]\n"
          ],
          "name": "stdout"
        }
      ]
    },
    {
      "cell_type": "code",
      "metadata": {
        "id": "foImE_VrFsta",
        "colab_type": "code",
        "colab": {}
      },
      "source": [
        "sorted_list = sorted(word_freq.items(), key=lambda item: item[1])"
      ],
      "execution_count": 0,
      "outputs": []
    },
    {
      "cell_type": "code",
      "metadata": {
        "id": "7oqy63rvGAke",
        "colab_type": "code",
        "outputId": "753f587e-d078-42f6-eab7-841183ef33ff",
        "colab": {
          "base_uri": "https://localhost:8080/",
          "height": 187
        }
      },
      "source": [
        "sorted_list[-10:]"
      ],
      "execution_count": 132,
      "outputs": [
        {
          "output_type": "execute_result",
          "data": {
            "text/plain": [
              "[('after', 4),\n",
              " ('life', 5),\n",
              " ('age', 5),\n",
              " ('forever', 5),\n",
              " ('love', 6),\n",
              " ('you', 6),\n",
              " ('and', 7),\n",
              " ('in', 11),\n",
              " ('the', 13),\n",
              " ('of', 15)]"
            ]
          },
          "metadata": {
            "tags": []
          },
          "execution_count": 132
        }
      ]
    },
    {
      "cell_type": "code",
      "metadata": {
        "id": "4z4WulHjGFwf",
        "colab_type": "code",
        "colab": {}
      },
      "source": [
        "with open('most_common_words.txt', 'w') as f_out:\n",
        "    for item in sorted_list[-10:]:\n",
        "        f_out.write(item[0] + \"\\n\")"
      ],
      "execution_count": 0,
      "outputs": []
    },
    {
      "cell_type": "markdown",
      "metadata": {
        "id": "S2kJONpeHgVP",
        "colab_type": "text"
      },
      "source": [
        "# Problem 3"
      ]
    },
    {
      "cell_type": "markdown",
      "metadata": {
        "id": "71iwXvGrHhml",
        "colab_type": "text"
      },
      "source": [
        "unending love by rabindranath tagore -> (unending, love), (love, by), (by, rabindranath), (rabindranath, tagore)"
      ]
    },
    {
      "cell_type": "code",
      "metadata": {
        "id": "pf85UCnsGgYT",
        "colab_type": "code",
        "outputId": "c37b2a12-f5d0-439e-f131-e0d23e1b69da",
        "colab": {
          "base_uri": "https://localhost:8080/",
          "height": 34
        }
      },
      "source": [
        "print(words)"
      ],
      "execution_count": 84,
      "outputs": [
        {
          "output_type": "stream",
          "text": [
            "['Foundations', 'of', 'Data', 'Science']\n"
          ],
          "name": "stdout"
        }
      ]
    },
    {
      "cell_type": "code",
      "metadata": {
        "id": "3wX3SCHdH_-7",
        "colab_type": "code",
        "colab": {}
      },
      "source": [
        "two_grams_zip = zip(words, words[1:])"
      ],
      "execution_count": 0,
      "outputs": []
    },
    {
      "cell_type": "code",
      "metadata": {
        "id": "6100-JspIODM",
        "colab_type": "code",
        "colab": {
          "base_uri": "https://localhost:8080/",
          "height": 68
        },
        "outputId": "8c8f3ca7-0959-4889-d9e9-79d432e1261c"
      },
      "source": [
        "for item in two_grams_zip:\n",
        "    print(item)"
      ],
      "execution_count": 86,
      "outputs": [
        {
          "output_type": "stream",
          "text": [
            "('Foundations', 'of')\n",
            "('of', 'Data')\n",
            "('Data', 'Science')\n"
          ],
          "name": "stdout"
        }
      ]
    },
    {
      "cell_type": "code",
      "metadata": {
        "id": "H9aCg9meIQmv",
        "colab_type": "code",
        "colab": {}
      },
      "source": [
        "two_grams = [item for item in two_grams_zip]"
      ],
      "execution_count": 0,
      "outputs": []
    },
    {
      "cell_type": "code",
      "metadata": {
        "id": "qOrPHvltIqNs",
        "colab_type": "code",
        "outputId": "bca10cc9-471b-4955-93e0-3c7a8b102870",
        "colab": {
          "base_uri": "https://localhost:8080/",
          "height": 54
        }
      },
      "source": [
        "print(two_grams)"
      ],
      "execution_count": 139,
      "outputs": [
        {
          "output_type": "stream",
          "text": [
            "[('unending', 'love'), ('love', 'by'), ('by', 'rabindranath'), ('rabindranath', 'tagore'), ('tagore', 'i'), ('i', 'seem'), ('seem', 'to'), ('to', 'have'), ('have', 'loved'), ('loved', 'you'), ('you', 'in'), ('in', 'numberless'), ('numberless', 'forms'), ('forms', 'numberless'), ('numberless', 'times'), ('times', 'in'), ('in', 'life'), ('life', 'after'), ('after', 'life'), ('life', 'in'), ('in', 'age'), ('age', 'after'), ('after', 'age'), ('age', 'forever'), ('forever', 'my'), ('my', 'spellbound'), ('spellbound', 'heart'), ('heart', 'has'), ('has', 'made'), ('made', 'and'), ('and', 'remade'), ('remade', 'the'), ('the', 'necklace'), ('necklace', 'of'), ('of', 'songs'), ('songs', 'that'), ('that', 'you'), ('you', 'take'), ('take', 'as'), ('as', 'a'), ('a', 'gift'), ('gift', 'wear'), ('wear', 'round'), ('round', 'your'), ('your', 'neck'), ('neck', 'in'), ('in', 'your'), ('your', 'many'), ('many', 'forms'), ('forms', 'in'), ('in', 'life'), ('life', 'after'), ('after', 'life'), ('life', 'in'), ('in', 'age'), ('age', 'after'), ('after', 'age'), ('age', 'forever'), ('forever', 'whenever'), ('whenever', 'i'), ('i', 'hear'), ('hear', 'old'), ('old', 'chronicles'), ('chronicles', 'of'), ('of', 'love'), ('love', 'its'), ('its', 'age'), ('age', 'old'), ('old', 'pain'), ('pain', 'its'), ('its', 'ancient'), ('ancient', 'tale'), ('tale', 'of'), ('of', 'being'), ('being', 'apart'), ('apart', 'or'), ('or', 'together'), ('together', 'as'), ('as', 'i'), ('i', 'stare'), ('stare', 'on'), ('on', 'and'), ('and', 'on'), ('on', 'into'), ('into', 'the'), ('the', 'past'), ('past', 'in'), ('in', 'the'), ('the', 'end'), ('end', 'you'), ('you', 'emerge'), ('emerge', 'clad'), ('clad', 'in'), ('in', 'the'), ('the', 'light'), ('light', 'of'), ('of', 'a'), ('a', 'pole'), ('pole', 'star'), ('star', 'piercing'), ('piercing', 'the'), ('the', 'darkness'), ('darkness', 'of'), ('of', 'time:'), ('time:', 'you'), ('you', 'become'), ('become', 'an'), ('an', 'image'), ('image', 'of'), ('of', 'what'), ('what', 'is'), ('is', 'remembered'), ('remembered', 'forever'), ('forever', 'you'), ('you', 'and'), ('and', 'i'), ('i', 'have'), ('have', 'floated'), ('floated', 'here'), ('here', 'on'), ('on', 'the'), ('the', 'stream'), ('stream', 'that'), ('that', 'brings'), ('brings', 'from'), ('from', 'the'), ('the', 'fount'), ('fount', 'at'), ('at', 'the'), ('the', 'heart'), ('heart', 'of'), ('of', 'time'), ('time', 'love'), ('love', 'of'), ('of', 'one'), ('one', 'for'), ('for', 'another'), ('another', 'we'), ('we', 'have'), ('have', 'played'), ('played', 'along'), ('along', 'side'), ('side', 'millions'), ('millions', 'of'), ('of', 'lovers'), ('lovers', 'shared'), ('shared', 'in'), ('in', 'the'), ('the', 'same'), ('same', 'shy'), ('shy', 'sweetness'), ('sweetness', 'of'), ('of', 'meeting'), ('meeting', 'the'), ('the', 'same'), ('same', 'distressful'), ('distressful', 'tears'), ('tears', 'of'), ('of', 'farewell'), ('farewell', 'old'), ('old', 'love'), ('love', 'but'), ('but', 'in'), ('in', 'shapes'), ('shapes', 'that'), ('that', 'renew'), ('renew', 'and'), ('and', 'renew'), ('renew', 'forever'), ('forever', 'today'), ('today', 'it'), ('it', 'is'), ('is', 'heaped'), ('heaped', 'at'), ('at', 'your'), ('your', 'feet'), ('feet', 'it'), ('it', 'has'), ('has', 'found'), ('found', 'its'), ('its', 'end'), ('end', 'in'), ('in', 'you'), ('you', 'the'), ('the', 'love'), ('love', 'of'), ('of', 'all'), ('all', 'man’s'), ('man’s', 'days'), ('days', 'both'), ('both', 'past'), ('past', 'and'), ('and', 'forever:'), ('forever:', 'universal'), ('universal', 'joy'), ('joy', 'universal'), ('universal', 'sorrow'), ('sorrow', 'universal'), ('universal', 'life'), ('life', 'the'), ('the', 'memories'), ('memories', 'of'), ('of', 'all'), ('all', 'loves'), ('loves', 'merging'), ('merging', 'with'), ('with', 'this'), ('this', 'one'), ('one', 'love'), ('love', 'of'), ('of', 'ours'), ('ours', '–'), ('–', 'and'), ('and', 'the'), ('the', 'songs'), ('songs', 'of'), ('of', 'every'), ('every', 'poet'), ('poet', 'past'), ('past', 'and'), ('and', 'forever')]\n"
          ],
          "name": "stdout"
        }
      ]
    },
    {
      "cell_type": "code",
      "metadata": {
        "id": "7Z0i6abtIr4q",
        "colab_type": "code",
        "colab": {}
      },
      "source": [
        "def iterable_counter (iter_obj):\n",
        "    count_dict = {}\n",
        "    for item in iter_obj:\n",
        "        if item in count_dict:\n",
        "            count_dict[item] += 1\n",
        "        else:\n",
        "            count_dict[item] = 1\n",
        "    return count_dict"
      ],
      "execution_count": 0,
      "outputs": []
    },
    {
      "cell_type": "code",
      "metadata": {
        "id": "35ja23D4JLb6",
        "colab_type": "code",
        "colab": {}
      },
      "source": [
        "two_grams_freq = iterable_counter(two_grams)"
      ],
      "execution_count": 0,
      "outputs": []
    },
    {
      "cell_type": "code",
      "metadata": {
        "id": "-kSbhrxbJddB",
        "colab_type": "code",
        "outputId": "dced30fc-9b2b-4b7e-e487-348b90338d0d",
        "colab": {
          "base_uri": "https://localhost:8080/",
          "height": 54
        }
      },
      "source": [
        "print(two_grams_freq)"
      ],
      "execution_count": 142,
      "outputs": [
        {
          "output_type": "stream",
          "text": [
            "{('unending', 'love'): 1, ('love', 'by'): 1, ('by', 'rabindranath'): 1, ('rabindranath', 'tagore'): 1, ('tagore', 'i'): 1, ('i', 'seem'): 1, ('seem', 'to'): 1, ('to', 'have'): 1, ('have', 'loved'): 1, ('loved', 'you'): 1, ('you', 'in'): 1, ('in', 'numberless'): 1, ('numberless', 'forms'): 1, ('forms', 'numberless'): 1, ('numberless', 'times'): 1, ('times', 'in'): 1, ('in', 'life'): 2, ('life', 'after'): 2, ('after', 'life'): 2, ('life', 'in'): 2, ('in', 'age'): 2, ('age', 'after'): 2, ('after', 'age'): 2, ('age', 'forever'): 2, ('forever', 'my'): 1, ('my', 'spellbound'): 1, ('spellbound', 'heart'): 1, ('heart', 'has'): 1, ('has', 'made'): 1, ('made', 'and'): 1, ('and', 'remade'): 1, ('remade', 'the'): 1, ('the', 'necklace'): 1, ('necklace', 'of'): 1, ('of', 'songs'): 1, ('songs', 'that'): 1, ('that', 'you'): 1, ('you', 'take'): 1, ('take', 'as'): 1, ('as', 'a'): 1, ('a', 'gift'): 1, ('gift', 'wear'): 1, ('wear', 'round'): 1, ('round', 'your'): 1, ('your', 'neck'): 1, ('neck', 'in'): 1, ('in', 'your'): 1, ('your', 'many'): 1, ('many', 'forms'): 1, ('forms', 'in'): 1, ('forever', 'whenever'): 1, ('whenever', 'i'): 1, ('i', 'hear'): 1, ('hear', 'old'): 1, ('old', 'chronicles'): 1, ('chronicles', 'of'): 1, ('of', 'love'): 1, ('love', 'its'): 1, ('its', 'age'): 1, ('age', 'old'): 1, ('old', 'pain'): 1, ('pain', 'its'): 1, ('its', 'ancient'): 1, ('ancient', 'tale'): 1, ('tale', 'of'): 1, ('of', 'being'): 1, ('being', 'apart'): 1, ('apart', 'or'): 1, ('or', 'together'): 1, ('together', 'as'): 1, ('as', 'i'): 1, ('i', 'stare'): 1, ('stare', 'on'): 1, ('on', 'and'): 1, ('and', 'on'): 1, ('on', 'into'): 1, ('into', 'the'): 1, ('the', 'past'): 1, ('past', 'in'): 1, ('in', 'the'): 3, ('the', 'end'): 1, ('end', 'you'): 1, ('you', 'emerge'): 1, ('emerge', 'clad'): 1, ('clad', 'in'): 1, ('the', 'light'): 1, ('light', 'of'): 1, ('of', 'a'): 1, ('a', 'pole'): 1, ('pole', 'star'): 1, ('star', 'piercing'): 1, ('piercing', 'the'): 1, ('the', 'darkness'): 1, ('darkness', 'of'): 1, ('of', 'time:'): 1, ('time:', 'you'): 1, ('you', 'become'): 1, ('become', 'an'): 1, ('an', 'image'): 1, ('image', 'of'): 1, ('of', 'what'): 1, ('what', 'is'): 1, ('is', 'remembered'): 1, ('remembered', 'forever'): 1, ('forever', 'you'): 1, ('you', 'and'): 1, ('and', 'i'): 1, ('i', 'have'): 1, ('have', 'floated'): 1, ('floated', 'here'): 1, ('here', 'on'): 1, ('on', 'the'): 1, ('the', 'stream'): 1, ('stream', 'that'): 1, ('that', 'brings'): 1, ('brings', 'from'): 1, ('from', 'the'): 1, ('the', 'fount'): 1, ('fount', 'at'): 1, ('at', 'the'): 1, ('the', 'heart'): 1, ('heart', 'of'): 1, ('of', 'time'): 1, ('time', 'love'): 1, ('love', 'of'): 3, ('of', 'one'): 1, ('one', 'for'): 1, ('for', 'another'): 1, ('another', 'we'): 1, ('we', 'have'): 1, ('have', 'played'): 1, ('played', 'along'): 1, ('along', 'side'): 1, ('side', 'millions'): 1, ('millions', 'of'): 1, ('of', 'lovers'): 1, ('lovers', 'shared'): 1, ('shared', 'in'): 1, ('the', 'same'): 2, ('same', 'shy'): 1, ('shy', 'sweetness'): 1, ('sweetness', 'of'): 1, ('of', 'meeting'): 1, ('meeting', 'the'): 1, ('same', 'distressful'): 1, ('distressful', 'tears'): 1, ('tears', 'of'): 1, ('of', 'farewell'): 1, ('farewell', 'old'): 1, ('old', 'love'): 1, ('love', 'but'): 1, ('but', 'in'): 1, ('in', 'shapes'): 1, ('shapes', 'that'): 1, ('that', 'renew'): 1, ('renew', 'and'): 1, ('and', 'renew'): 1, ('renew', 'forever'): 1, ('forever', 'today'): 1, ('today', 'it'): 1, ('it', 'is'): 1, ('is', 'heaped'): 1, ('heaped', 'at'): 1, ('at', 'your'): 1, ('your', 'feet'): 1, ('feet', 'it'): 1, ('it', 'has'): 1, ('has', 'found'): 1, ('found', 'its'): 1, ('its', 'end'): 1, ('end', 'in'): 1, ('in', 'you'): 1, ('you', 'the'): 1, ('the', 'love'): 1, ('of', 'all'): 2, ('all', 'man’s'): 1, ('man’s', 'days'): 1, ('days', 'both'): 1, ('both', 'past'): 1, ('past', 'and'): 2, ('and', 'forever:'): 1, ('forever:', 'universal'): 1, ('universal', 'joy'): 1, ('joy', 'universal'): 1, ('universal', 'sorrow'): 1, ('sorrow', 'universal'): 1, ('universal', 'life'): 1, ('life', 'the'): 1, ('the', 'memories'): 1, ('memories', 'of'): 1, ('all', 'loves'): 1, ('loves', 'merging'): 1, ('merging', 'with'): 1, ('with', 'this'): 1, ('this', 'one'): 1, ('one', 'love'): 1, ('of', 'ours'): 1, ('ours', '–'): 1, ('–', 'and'): 1, ('and', 'the'): 1, ('the', 'songs'): 1, ('songs', 'of'): 1, ('of', 'every'): 1, ('every', 'poet'): 1, ('poet', 'past'): 1, ('and', 'forever'): 1}\n"
          ],
          "name": "stdout"
        }
      ]
    },
    {
      "cell_type": "code",
      "metadata": {
        "id": "dV8v889pJepV",
        "colab_type": "code",
        "colab": {}
      },
      "source": [
        "sorted_list = sorted(two_grams_freq.items(), key=lambda item: item[1])"
      ],
      "execution_count": 0,
      "outputs": []
    },
    {
      "cell_type": "code",
      "metadata": {
        "id": "V9yiPzC6JuOd",
        "colab_type": "code",
        "outputId": "2b1c4f71-fadc-45b1-b545-c4b698e3d027",
        "colab": {
          "base_uri": "https://localhost:8080/",
          "height": 54
        }
      },
      "source": [
        "print(two_grams_freq.items())"
      ],
      "execution_count": 145,
      "outputs": [
        {
          "output_type": "stream",
          "text": [
            "dict_items([(('unending', 'love'), 1), (('love', 'by'), 1), (('by', 'rabindranath'), 1), (('rabindranath', 'tagore'), 1), (('tagore', 'i'), 1), (('i', 'seem'), 1), (('seem', 'to'), 1), (('to', 'have'), 1), (('have', 'loved'), 1), (('loved', 'you'), 1), (('you', 'in'), 1), (('in', 'numberless'), 1), (('numberless', 'forms'), 1), (('forms', 'numberless'), 1), (('numberless', 'times'), 1), (('times', 'in'), 1), (('in', 'life'), 2), (('life', 'after'), 2), (('after', 'life'), 2), (('life', 'in'), 2), (('in', 'age'), 2), (('age', 'after'), 2), (('after', 'age'), 2), (('age', 'forever'), 2), (('forever', 'my'), 1), (('my', 'spellbound'), 1), (('spellbound', 'heart'), 1), (('heart', 'has'), 1), (('has', 'made'), 1), (('made', 'and'), 1), (('and', 'remade'), 1), (('remade', 'the'), 1), (('the', 'necklace'), 1), (('necklace', 'of'), 1), (('of', 'songs'), 1), (('songs', 'that'), 1), (('that', 'you'), 1), (('you', 'take'), 1), (('take', 'as'), 1), (('as', 'a'), 1), (('a', 'gift'), 1), (('gift', 'wear'), 1), (('wear', 'round'), 1), (('round', 'your'), 1), (('your', 'neck'), 1), (('neck', 'in'), 1), (('in', 'your'), 1), (('your', 'many'), 1), (('many', 'forms'), 1), (('forms', 'in'), 1), (('forever', 'whenever'), 1), (('whenever', 'i'), 1), (('i', 'hear'), 1), (('hear', 'old'), 1), (('old', 'chronicles'), 1), (('chronicles', 'of'), 1), (('of', 'love'), 1), (('love', 'its'), 1), (('its', 'age'), 1), (('age', 'old'), 1), (('old', 'pain'), 1), (('pain', 'its'), 1), (('its', 'ancient'), 1), (('ancient', 'tale'), 1), (('tale', 'of'), 1), (('of', 'being'), 1), (('being', 'apart'), 1), (('apart', 'or'), 1), (('or', 'together'), 1), (('together', 'as'), 1), (('as', 'i'), 1), (('i', 'stare'), 1), (('stare', 'on'), 1), (('on', 'and'), 1), (('and', 'on'), 1), (('on', 'into'), 1), (('into', 'the'), 1), (('the', 'past'), 1), (('past', 'in'), 1), (('in', 'the'), 3), (('the', 'end'), 1), (('end', 'you'), 1), (('you', 'emerge'), 1), (('emerge', 'clad'), 1), (('clad', 'in'), 1), (('the', 'light'), 1), (('light', 'of'), 1), (('of', 'a'), 1), (('a', 'pole'), 1), (('pole', 'star'), 1), (('star', 'piercing'), 1), (('piercing', 'the'), 1), (('the', 'darkness'), 1), (('darkness', 'of'), 1), (('of', 'time:'), 1), (('time:', 'you'), 1), (('you', 'become'), 1), (('become', 'an'), 1), (('an', 'image'), 1), (('image', 'of'), 1), (('of', 'what'), 1), (('what', 'is'), 1), (('is', 'remembered'), 1), (('remembered', 'forever'), 1), (('forever', 'you'), 1), (('you', 'and'), 1), (('and', 'i'), 1), (('i', 'have'), 1), (('have', 'floated'), 1), (('floated', 'here'), 1), (('here', 'on'), 1), (('on', 'the'), 1), (('the', 'stream'), 1), (('stream', 'that'), 1), (('that', 'brings'), 1), (('brings', 'from'), 1), (('from', 'the'), 1), (('the', 'fount'), 1), (('fount', 'at'), 1), (('at', 'the'), 1), (('the', 'heart'), 1), (('heart', 'of'), 1), (('of', 'time'), 1), (('time', 'love'), 1), (('love', 'of'), 3), (('of', 'one'), 1), (('one', 'for'), 1), (('for', 'another'), 1), (('another', 'we'), 1), (('we', 'have'), 1), (('have', 'played'), 1), (('played', 'along'), 1), (('along', 'side'), 1), (('side', 'millions'), 1), (('millions', 'of'), 1), (('of', 'lovers'), 1), (('lovers', 'shared'), 1), (('shared', 'in'), 1), (('the', 'same'), 2), (('same', 'shy'), 1), (('shy', 'sweetness'), 1), (('sweetness', 'of'), 1), (('of', 'meeting'), 1), (('meeting', 'the'), 1), (('same', 'distressful'), 1), (('distressful', 'tears'), 1), (('tears', 'of'), 1), (('of', 'farewell'), 1), (('farewell', 'old'), 1), (('old', 'love'), 1), (('love', 'but'), 1), (('but', 'in'), 1), (('in', 'shapes'), 1), (('shapes', 'that'), 1), (('that', 'renew'), 1), (('renew', 'and'), 1), (('and', 'renew'), 1), (('renew', 'forever'), 1), (('forever', 'today'), 1), (('today', 'it'), 1), (('it', 'is'), 1), (('is', 'heaped'), 1), (('heaped', 'at'), 1), (('at', 'your'), 1), (('your', 'feet'), 1), (('feet', 'it'), 1), (('it', 'has'), 1), (('has', 'found'), 1), (('found', 'its'), 1), (('its', 'end'), 1), (('end', 'in'), 1), (('in', 'you'), 1), (('you', 'the'), 1), (('the', 'love'), 1), (('of', 'all'), 2), (('all', 'man’s'), 1), (('man’s', 'days'), 1), (('days', 'both'), 1), (('both', 'past'), 1), (('past', 'and'), 2), (('and', 'forever:'), 1), (('forever:', 'universal'), 1), (('universal', 'joy'), 1), (('joy', 'universal'), 1), (('universal', 'sorrow'), 1), (('sorrow', 'universal'), 1), (('universal', 'life'), 1), (('life', 'the'), 1), (('the', 'memories'), 1), (('memories', 'of'), 1), (('all', 'loves'), 1), (('loves', 'merging'), 1), (('merging', 'with'), 1), (('with', 'this'), 1), (('this', 'one'), 1), (('one', 'love'), 1), (('of', 'ours'), 1), (('ours', '–'), 1), (('–', 'and'), 1), (('and', 'the'), 1), (('the', 'songs'), 1), (('songs', 'of'), 1), (('of', 'every'), 1), (('every', 'poet'), 1), (('poet', 'past'), 1), (('and', 'forever'), 1)])\n"
          ],
          "name": "stdout"
        }
      ]
    },
    {
      "cell_type": "code",
      "metadata": {
        "id": "scZllfa6JwIL",
        "colab_type": "code",
        "colab": {}
      },
      "source": [
        "sorted_list = sorted(two_grams_freq.items(), key=lambda item: item[1])"
      ],
      "execution_count": 0,
      "outputs": []
    },
    {
      "cell_type": "code",
      "metadata": {
        "id": "aYRFgGtFJ9E2",
        "colab_type": "code",
        "outputId": "3a1c85b9-3fba-4ac0-e100-45f5b39abd70",
        "colab": {
          "base_uri": "https://localhost:8080/",
          "height": 54
        }
      },
      "source": [
        "print(sorted_list)"
      ],
      "execution_count": 147,
      "outputs": [
        {
          "output_type": "stream",
          "text": [
            "[(('unending', 'love'), 1), (('love', 'by'), 1), (('by', 'rabindranath'), 1), (('rabindranath', 'tagore'), 1), (('tagore', 'i'), 1), (('i', 'seem'), 1), (('seem', 'to'), 1), (('to', 'have'), 1), (('have', 'loved'), 1), (('loved', 'you'), 1), (('you', 'in'), 1), (('in', 'numberless'), 1), (('numberless', 'forms'), 1), (('forms', 'numberless'), 1), (('numberless', 'times'), 1), (('times', 'in'), 1), (('forever', 'my'), 1), (('my', 'spellbound'), 1), (('spellbound', 'heart'), 1), (('heart', 'has'), 1), (('has', 'made'), 1), (('made', 'and'), 1), (('and', 'remade'), 1), (('remade', 'the'), 1), (('the', 'necklace'), 1), (('necklace', 'of'), 1), (('of', 'songs'), 1), (('songs', 'that'), 1), (('that', 'you'), 1), (('you', 'take'), 1), (('take', 'as'), 1), (('as', 'a'), 1), (('a', 'gift'), 1), (('gift', 'wear'), 1), (('wear', 'round'), 1), (('round', 'your'), 1), (('your', 'neck'), 1), (('neck', 'in'), 1), (('in', 'your'), 1), (('your', 'many'), 1), (('many', 'forms'), 1), (('forms', 'in'), 1), (('forever', 'whenever'), 1), (('whenever', 'i'), 1), (('i', 'hear'), 1), (('hear', 'old'), 1), (('old', 'chronicles'), 1), (('chronicles', 'of'), 1), (('of', 'love'), 1), (('love', 'its'), 1), (('its', 'age'), 1), (('age', 'old'), 1), (('old', 'pain'), 1), (('pain', 'its'), 1), (('its', 'ancient'), 1), (('ancient', 'tale'), 1), (('tale', 'of'), 1), (('of', 'being'), 1), (('being', 'apart'), 1), (('apart', 'or'), 1), (('or', 'together'), 1), (('together', 'as'), 1), (('as', 'i'), 1), (('i', 'stare'), 1), (('stare', 'on'), 1), (('on', 'and'), 1), (('and', 'on'), 1), (('on', 'into'), 1), (('into', 'the'), 1), (('the', 'past'), 1), (('past', 'in'), 1), (('the', 'end'), 1), (('end', 'you'), 1), (('you', 'emerge'), 1), (('emerge', 'clad'), 1), (('clad', 'in'), 1), (('the', 'light'), 1), (('light', 'of'), 1), (('of', 'a'), 1), (('a', 'pole'), 1), (('pole', 'star'), 1), (('star', 'piercing'), 1), (('piercing', 'the'), 1), (('the', 'darkness'), 1), (('darkness', 'of'), 1), (('of', 'time:'), 1), (('time:', 'you'), 1), (('you', 'become'), 1), (('become', 'an'), 1), (('an', 'image'), 1), (('image', 'of'), 1), (('of', 'what'), 1), (('what', 'is'), 1), (('is', 'remembered'), 1), (('remembered', 'forever'), 1), (('forever', 'you'), 1), (('you', 'and'), 1), (('and', 'i'), 1), (('i', 'have'), 1), (('have', 'floated'), 1), (('floated', 'here'), 1), (('here', 'on'), 1), (('on', 'the'), 1), (('the', 'stream'), 1), (('stream', 'that'), 1), (('that', 'brings'), 1), (('brings', 'from'), 1), (('from', 'the'), 1), (('the', 'fount'), 1), (('fount', 'at'), 1), (('at', 'the'), 1), (('the', 'heart'), 1), (('heart', 'of'), 1), (('of', 'time'), 1), (('time', 'love'), 1), (('of', 'one'), 1), (('one', 'for'), 1), (('for', 'another'), 1), (('another', 'we'), 1), (('we', 'have'), 1), (('have', 'played'), 1), (('played', 'along'), 1), (('along', 'side'), 1), (('side', 'millions'), 1), (('millions', 'of'), 1), (('of', 'lovers'), 1), (('lovers', 'shared'), 1), (('shared', 'in'), 1), (('same', 'shy'), 1), (('shy', 'sweetness'), 1), (('sweetness', 'of'), 1), (('of', 'meeting'), 1), (('meeting', 'the'), 1), (('same', 'distressful'), 1), (('distressful', 'tears'), 1), (('tears', 'of'), 1), (('of', 'farewell'), 1), (('farewell', 'old'), 1), (('old', 'love'), 1), (('love', 'but'), 1), (('but', 'in'), 1), (('in', 'shapes'), 1), (('shapes', 'that'), 1), (('that', 'renew'), 1), (('renew', 'and'), 1), (('and', 'renew'), 1), (('renew', 'forever'), 1), (('forever', 'today'), 1), (('today', 'it'), 1), (('it', 'is'), 1), (('is', 'heaped'), 1), (('heaped', 'at'), 1), (('at', 'your'), 1), (('your', 'feet'), 1), (('feet', 'it'), 1), (('it', 'has'), 1), (('has', 'found'), 1), (('found', 'its'), 1), (('its', 'end'), 1), (('end', 'in'), 1), (('in', 'you'), 1), (('you', 'the'), 1), (('the', 'love'), 1), (('all', 'man’s'), 1), (('man’s', 'days'), 1), (('days', 'both'), 1), (('both', 'past'), 1), (('and', 'forever:'), 1), (('forever:', 'universal'), 1), (('universal', 'joy'), 1), (('joy', 'universal'), 1), (('universal', 'sorrow'), 1), (('sorrow', 'universal'), 1), (('universal', 'life'), 1), (('life', 'the'), 1), (('the', 'memories'), 1), (('memories', 'of'), 1), (('all', 'loves'), 1), (('loves', 'merging'), 1), (('merging', 'with'), 1), (('with', 'this'), 1), (('this', 'one'), 1), (('one', 'love'), 1), (('of', 'ours'), 1), (('ours', '–'), 1), (('–', 'and'), 1), (('and', 'the'), 1), (('the', 'songs'), 1), (('songs', 'of'), 1), (('of', 'every'), 1), (('every', 'poet'), 1), (('poet', 'past'), 1), (('and', 'forever'), 1), (('in', 'life'), 2), (('life', 'after'), 2), (('after', 'life'), 2), (('life', 'in'), 2), (('in', 'age'), 2), (('age', 'after'), 2), (('after', 'age'), 2), (('age', 'forever'), 2), (('the', 'same'), 2), (('of', 'all'), 2), (('past', 'and'), 2), (('in', 'the'), 3), (('love', 'of'), 3)]\n"
          ],
          "name": "stdout"
        }
      ]
    },
    {
      "cell_type": "code",
      "metadata": {
        "id": "KS1ZLULlJ_nz",
        "colab_type": "code",
        "outputId": "01258aa2-8ae6-4512-9c75-08adbfe2a750",
        "colab": {
          "base_uri": "https://localhost:8080/",
          "height": 102
        }
      },
      "source": [
        "sorted_list[-5:]"
      ],
      "execution_count": 148,
      "outputs": [
        {
          "output_type": "execute_result",
          "data": {
            "text/plain": [
              "[(('the', 'same'), 2),\n",
              " (('of', 'all'), 2),\n",
              " (('past', 'and'), 2),\n",
              " (('in', 'the'), 3),\n",
              " (('love', 'of'), 3)]"
            ]
          },
          "metadata": {
            "tags": []
          },
          "execution_count": 148
        }
      ]
    },
    {
      "cell_type": "code",
      "metadata": {
        "id": "uDiuzTGQKO0o",
        "colab_type": "code",
        "colab": {}
      },
      "source": [
        "with open(\"common_two_grams.txt\", \"w\") as f_out:\n",
        "    for item in sorted_list[-5:]:\n",
        "        # print(item[0][0] + \" \" + item[0][1] + \"\\n\")\n",
        "        f_out.write(item[0][0] + \" \" + item[0][1] + \"\\n\")"
      ],
      "execution_count": 0,
      "outputs": []
    },
    {
      "cell_type": "code",
      "metadata": {
        "id": "LnEqUlKlKeEn",
        "colab_type": "code",
        "colab": {}
      },
      "source": [
        ""
      ],
      "execution_count": 0,
      "outputs": []
    }
  ]
}