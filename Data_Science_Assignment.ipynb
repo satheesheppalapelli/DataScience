{
  "nbformat": 4,
  "nbformat_minor": 0,
  "metadata": {
    "colab": {
      "name": "Data_Science_Assignment.ipynb",
      "provenance": [],
      "include_colab_link": true
    },
    "kernelspec": {
      "display_name": "Python 3",
      "language": "python",
      "name": "python3"
    },
    "language_info": {
      "codemirror_mode": {
        "name": "ipython",
        "version": 3
      },
      "file_extension": ".py",
      "mimetype": "text/x-python",
      "name": "python",
      "nbconvert_exporter": "python",
      "pygments_lexer": "ipython3",
      "version": "3.7.4"
    }
  },
  "cells": [
    {
      "cell_type": "markdown",
      "metadata": {
        "id": "view-in-github",
        "colab_type": "text"
      },
      "source": [
        "<a href=\"https://colab.research.google.com/github/satheesheppalapelli/DataScience/blob/master/Data_Science_Assignment.ipynb\" target=\"_parent\"><img src=\"https://colab.research.google.com/assets/colab-badge.svg\" alt=\"Open In Colab\"/></a>"
      ]
    },
    {
      "cell_type": "markdown",
      "metadata": {
        "id": "8yiMKF3P7UVZ",
        "colab_type": "text"
      },
      "source": [
        "# Assignment 1 Problem 1"
      ]
    },
    {
      "cell_type": "markdown",
      "metadata": {
        "id": "e1ptjwAk7GKb",
        "colab_type": "text"
      },
      "source": [
        "Exercise 1: \n",
        "\n",
        "\n",
        "---\n",
        "\n",
        "\n",
        "1.   Prompt the user \"Enter your weight (in kgs)\" and record weight\n",
        "2.   Prompt the user \"What is your preferred unit of height? Type \"F\" for feet and \"M\" for meters\" and record the preference\n",
        "3.   If user says \"F\" then prompt user \"You will enter your height given as feet and inches. First enter feet\" and record feet and then prompt user \"Now enter inches\" and record inches\n",
        "4.   If user says \"M\" then prompt user \"What is your height in meters\" and record height in meters\n",
        "5.   If user had chosen \"F\" then convert height into meters\n",
        "6.   Compute BMI using the following formula $$\\mbox{BMI} = \\dfrac{\\mbox{Weight (in kgs)}}{\\mbox{Height }^2\\mbox{(in m)}}$$\n",
        "7.   Depending on the value of BMI, report the user's type given by the following table: \n",
        "> *   $\\mbox{BMI} < 18.5$: UNDERWEIGHT\n",
        "> *   $18.5 \\leq \\mbox{BMI} < 25$: NORMAL\n",
        "> *   $25 \\leq \\mbox{BMI} < 30$: OVERWEIGHT\n",
        "> *   $\\mbox{BMI} \\geq 30$: VERY-OVERWEIGHT\n"
      ]
    },
    {
      "cell_type": "markdown",
      "metadata": {
        "id": "xaryM8E17uIc",
        "colab_type": "text"
      },
      "source": [
        "# Solution to Problem 1"
      ]
    },
    {
      "cell_type": "code",
      "metadata": {
        "colab_type": "code",
        "id": "RMs-QqK3LubH",
        "colab": {
          "base_uri": "https://localhost:8080/",
          "height": 68
        },
        "outputId": "48aa2e0f-afe1-4166-e8b4-3eb522b8b14a"
      },
      "source": [
        "weight = input(\"Enter your weight in kgs \")\n",
        "height_unit = input('What is your preferred unit of height \"F\" of feet and \"M\" for meters ')\n",
        "\n",
        "if height_unit == \"F\":\n",
        "    print(\"I am in the F block. TODO\")\n",
        "else:\n",
        "    print(\"I am in the M block. TODO\")"
      ],
      "execution_count": 1,
      "outputs": [
        {
          "output_type": "stream",
          "text": [
            "Enter your weight in kgs 72\n",
            "What is your preferred unit of height \"F\" of feet and \"M\" for meters F\n",
            "I am in the F block. TODO\n"
          ],
          "name": "stdout"
        }
      ]
    },
    {
      "cell_type": "code",
      "metadata": {
        "colab_type": "code",
        "id": "2kvKEJ4yPicA",
        "colab": {
          "base_uri": "https://localhost:8080/",
          "height": 85
        },
        "outputId": "4de5b09b-a1de-47ba-cdbe-08ba5d54cb23"
      },
      "source": [
        "weight = input(\"Enter your weight in kgs \")\n",
        "height_unit = input('What is your preferred unit of height \"F\" of feet and \"M\" for meters ')\n",
        "\n",
        "if height_unit == \"F\":\n",
        "    feet = input(\"Please enter both feet and inches. Now enter feet \")\n",
        "    inches = input(\"Now enter inches \")\n",
        "else:\n",
        "    meters = input(\"Please enter your height in meters \")"
      ],
      "execution_count": 2,
      "outputs": [
        {
          "output_type": "stream",
          "text": [
            "Enter your weight in kgs 72\n",
            "What is your preferred unit of height \"F\" of feet and \"M\" for meters F\n",
            "Please enter both feet and inches. Now enter feet 6\n",
            "Now enter inches 0\n"
          ],
          "name": "stdout"
        }
      ]
    },
    {
      "cell_type": "code",
      "metadata": {
        "colab_type": "code",
        "id": "SDw6ZdiaP47t",
        "colab": {
          "base_uri": "https://localhost:8080/",
          "height": 299
        },
        "outputId": "4c7f0d18-62e9-47fb-926d-3fc5f0ab9c0a"
      },
      "source": [
        "weight = input(\"Enter your weight in kgs \")\n",
        "height_unit = input('What is your preferred unit of height \"F\" of feet and \"M\" for meters ')\n",
        "\n",
        "if height_unit == \"F\":\n",
        "    feet = input(\"Please enter both feet and inches. Now enter feet \")\n",
        "    inches = input(\"Now enter inches \")\n",
        "    meters = (feet + inches/12) * 0.3048\n",
        "else:\n",
        "    meters = input(\"Please enter your height in meters \")\n",
        "\n",
        "height = meters"
      ],
      "execution_count": 3,
      "outputs": [
        {
          "output_type": "stream",
          "text": [
            "Enter your weight in kgs 72\n",
            "What is your preferred unit of height \"F\" of feet and \"M\" for meters F\n",
            "Please enter both feet and inches. Now enter feet 6\n",
            "Now enter inches 0\n"
          ],
          "name": "stdout"
        },
        {
          "output_type": "error",
          "ename": "TypeError",
          "evalue": "ignored",
          "traceback": [
            "\u001b[0;31m---------------------------------------------------------------------------\u001b[0m",
            "\u001b[0;31mTypeError\u001b[0m                                 Traceback (most recent call last)",
            "\u001b[0;32m<ipython-input-3-db9415d28b5c>\u001b[0m in \u001b[0;36m<module>\u001b[0;34m()\u001b[0m\n\u001b[1;32m      5\u001b[0m     \u001b[0mfeet\u001b[0m \u001b[0;34m=\u001b[0m \u001b[0minput\u001b[0m\u001b[0;34m(\u001b[0m\u001b[0;34m\"Please enter both feet and inches. Now enter feet \"\u001b[0m\u001b[0;34m)\u001b[0m\u001b[0;34m\u001b[0m\u001b[0;34m\u001b[0m\u001b[0m\n\u001b[1;32m      6\u001b[0m     \u001b[0minches\u001b[0m \u001b[0;34m=\u001b[0m \u001b[0minput\u001b[0m\u001b[0;34m(\u001b[0m\u001b[0;34m\"Now enter inches \"\u001b[0m\u001b[0;34m)\u001b[0m\u001b[0;34m\u001b[0m\u001b[0;34m\u001b[0m\u001b[0m\n\u001b[0;32m----> 7\u001b[0;31m     \u001b[0mmeters\u001b[0m \u001b[0;34m=\u001b[0m \u001b[0;34m(\u001b[0m\u001b[0mfeet\u001b[0m \u001b[0;34m+\u001b[0m \u001b[0minches\u001b[0m\u001b[0;34m/\u001b[0m\u001b[0;36m12\u001b[0m\u001b[0;34m)\u001b[0m \u001b[0;34m*\u001b[0m \u001b[0;36m0.3048\u001b[0m\u001b[0;34m\u001b[0m\u001b[0;34m\u001b[0m\u001b[0m\n\u001b[0m\u001b[1;32m      8\u001b[0m \u001b[0;32melse\u001b[0m\u001b[0;34m:\u001b[0m\u001b[0;34m\u001b[0m\u001b[0;34m\u001b[0m\u001b[0m\n\u001b[1;32m      9\u001b[0m     \u001b[0mmeters\u001b[0m \u001b[0;34m=\u001b[0m \u001b[0minput\u001b[0m\u001b[0;34m(\u001b[0m\u001b[0;34m\"Please enter your height in meters \"\u001b[0m\u001b[0;34m)\u001b[0m\u001b[0;34m\u001b[0m\u001b[0;34m\u001b[0m\u001b[0m\n",
            "\u001b[0;31mTypeError\u001b[0m: unsupported operand type(s) for /: 'str' and 'int'"
          ]
        }
      ]
    },
    {
      "cell_type": "code",
      "metadata": {
        "colab_type": "code",
        "id": "FkFG3ffRQfT1",
        "colab": {}
      },
      "source": [
        "def input_single_integer(prompt):\n",
        "    ret = int(input(prompt))\n",
        "    return ret"
      ],
      "execution_count": 0,
      "outputs": []
    },
    {
      "cell_type": "code",
      "metadata": {
        "colab_type": "code",
        "id": "o0ISXy6ORGSK",
        "colab": {
          "base_uri": "https://localhost:8080/",
          "height": 85
        },
        "outputId": "78f8e12d-eb9d-4d76-9fae-90c664e95e29"
      },
      "source": [
        "weight = input(\"Enter your weight in kgs \")\n",
        "height_unit = input('What is your preferred unit of height \"F\" of feet and \"M\" for meters ')\n",
        "\n",
        "if height_unit == \"F\":\n",
        "    feet = input_single_integer(\"Please enter both feet and inches. Now enter feet \")\n",
        "    inches = input_single_integer(\"Now enter inches \")\n",
        "    meters = (feet + inches/12) * 0.3048\n",
        "else:\n",
        "    meters = input(\"Please enter your height in meters \")\n",
        "\n",
        "height = meters"
      ],
      "execution_count": 5,
      "outputs": [
        {
          "output_type": "stream",
          "text": [
            "Enter your weight in kgs 72\n",
            "What is your preferred unit of height \"F\" of feet and \"M\" for meters F\n",
            "Please enter both feet and inches. Now enter feet 6\n",
            "Now enter inches 0\n"
          ],
          "name": "stdout"
        }
      ]
    },
    {
      "cell_type": "code",
      "metadata": {
        "colab_type": "code",
        "id": "9q9T8EoZRKgd",
        "colab": {
          "base_uri": "https://localhost:8080/",
          "height": 34
        },
        "outputId": "6b87a4fe-c927-4b94-ab60-31cf7ef2e7d4"
      },
      "source": [
        "print(meters)"
      ],
      "execution_count": 6,
      "outputs": [
        {
          "output_type": "stream",
          "text": [
            "1.8288000000000002\n"
          ],
          "name": "stdout"
        }
      ]
    },
    {
      "cell_type": "code",
      "metadata": {
        "colab_type": "code",
        "id": "rY-seMCoSEcz",
        "colab": {}
      },
      "source": [
        "def input_single_float(prompt):\n",
        "    ret = float(input(prompt))\n",
        "    return ret"
      ],
      "execution_count": 0,
      "outputs": []
    },
    {
      "cell_type": "code",
      "metadata": {
        "colab_type": "code",
        "id": "T3mwwzV6RSg0",
        "colab": {
          "base_uri": "https://localhost:8080/",
          "height": 102
        },
        "outputId": "34860495-0fd3-480e-c8c2-65042acdae3a"
      },
      "source": [
        "weight = input_single_float(\"Enter your weight in kgs \")\n",
        "height_unit = input('What is your preferred unit of height \"F\" of feet and \"M\" for meters ')\n",
        "\n",
        "if height_unit == \"F\":\n",
        "    feet = input_single_integer(\"Please enter both feet and inches. Now enter feet \")\n",
        "    inches = input_single_integer(\"Now enter inches \")\n",
        "    meters = (feet + inches/12) * 0.3048\n",
        "else:\n",
        "    meters = input_single_float(\"Please enter your height in meters \")\n",
        "\n",
        "height = meters\n",
        "\n",
        "bmi = weight / height**2\n",
        "\n",
        "print(\"Your BMI is\", bmi)"
      ],
      "execution_count": 8,
      "outputs": [
        {
          "output_type": "stream",
          "text": [
            "Enter your weight in kgs 72\n",
            "What is your preferred unit of height \"F\" of feet and \"M\" for meters F\n",
            "Please enter both feet and inches. Now enter feet 6\n",
            "Now enter inches 0\n",
            "Your BMI is 21.52782083341944\n"
          ],
          "name": "stdout"
        }
      ]
    },
    {
      "cell_type": "code",
      "metadata": {
        "colab_type": "code",
        "id": "1C1TqWB0RzoX",
        "colab": {
          "base_uri": "https://localhost:8080/",
          "height": 119
        },
        "outputId": "3cb97921-ffdf-4663-b39e-5c5ed230a980"
      },
      "source": [
        "weight = input_single_float(\"Enter your weight in kgs \")\n",
        "height_unit = input('What is your preferred unit of height \"F\" of feet and \"M\" for meters ')\n",
        "\n",
        "if height_unit == \"F\":\n",
        "    feet = input_single_integer(\"Please enter both feet and inches. Now enter feet \")\n",
        "    inches = input_single_integer(\"Now enter inches \")\n",
        "    meters = (feet + inches/12) * 0.3048\n",
        "else:\n",
        "    meters = input_single_float(\"Please enter your height in meters \")\n",
        "\n",
        "height = meters\n",
        "\n",
        "bmi = weight / height**2\n",
        "\n",
        "print(\"Your BMI is\", bmi)\n",
        "\n",
        "if bmi < 18.5:\n",
        "    print(\"You are UNDERWEIGHT. Please consult doctor\")\n",
        "elif bmi < 25:\n",
        "    print(\"You are NORMAL. Great going.\")\n",
        "elif bmi < 30:\n",
        "    print(\"You are OVERWEIGHT. Watch out.\")\n",
        "else:\n",
        "    print(\"You are VERY OVERWEIGHT. Please consult doctor\")"
      ],
      "execution_count": 9,
      "outputs": [
        {
          "output_type": "stream",
          "text": [
            "Enter your weight in kgs 52\n",
            "What is your preferred unit of height \"F\" of feet and \"M\" for meters F\n",
            "Please enter both feet and inches. Now enter feet 5\n",
            "Now enter inches 7\n",
            "Your BMI is 17.955037023907863\n",
            "You are UNDERWEIGHT. Please consult doctor\n"
          ],
          "name": "stdout"
        }
      ]
    },
    {
      "cell_type": "markdown",
      "metadata": {
        "colab_type": "text",
        "id": "FlFh0Ez7MGKT"
      },
      "source": [
        "# Assignment 1 Problem 2 "
      ]
    },
    {
      "cell_type": "markdown",
      "metadata": {
        "colab_type": "text",
        "id": "eEUeibGLMOwg"
      },
      "source": [
        "Exercise 2\n",
        "\n",
        "---\n",
        "\n",
        "1.   Write an iterative function to compute the factorial of a natural number\n",
        "2.   Write a recursive function to compute the factorial of a natural number.\n",
        "3.   Write a function to compute $\\frac{x^n}{n!}$ given a float $x$ and natural number $n$ as arguments\n",
        "4.   Write a function to iteratively sum up the value $\\frac{x^n}{n!}$ from $n = 1$ to a given $N$ for a given $x$, i.e., \n",
        "$$ F(x, N) = 1 + \\sum_{i = 1}^N \\dfrac{x^n}{n!}$$\n",
        "5.   Write a function to iteratively sum up the value $\\frac{x^n}{n!}$ from $n = 1$ to a chosen value of $N'$ such that $$F(x, N') - F(x, N' - 1) < \\epsilon$$ for given real number $x$ and positive small number $\\epsilon$\n",
        "6.   Choose two real numbers $p$ and $q$ and compute the following two values\n",
        "$$ v_1 = F(p, 100) * F(q, 100) $$\n",
        "$$ v_2 = F(p + q, 100) $$\n",
        "Compute the difference $v_1 - v_2$ and comment on what you see."
      ]
    },
    {
      "cell_type": "markdown",
      "metadata": {
        "colab_type": "text",
        "id": "JNBGx27FTr0w"
      },
      "source": [
        "# Solution to Problem 2"
      ]
    },
    {
      "cell_type": "code",
      "metadata": {
        "colab_type": "code",
        "id": "L0iE_xfQTFQM",
        "colab": {}
      },
      "source": [
        "def factorial(n):\n",
        "    product = 1\n",
        "    for i in range(n):\n",
        "        # print(i, product)\n",
        "        product *= (i + 1)\n",
        "    return product"
      ],
      "execution_count": 0,
      "outputs": []
    },
    {
      "cell_type": "code",
      "metadata": {
        "colab_type": "code",
        "id": "qqX7sEaqUAH7",
        "outputId": "d36a6d37-41e0-485f-be21-0e2664dd6079",
        "colab": {
          "base_uri": "https://localhost:8080/",
          "height": 34
        }
      },
      "source": [
        "print(factorial(3))"
      ],
      "execution_count": 11,
      "outputs": [
        {
          "output_type": "stream",
          "text": [
            "6\n"
          ],
          "name": "stdout"
        }
      ]
    },
    {
      "cell_type": "code",
      "metadata": {
        "colab_type": "code",
        "id": "Sg2n5kdmUE2g",
        "colab": {}
      },
      "source": [
        "def factorial_recursive(n):\n",
        "    if n > 1:\n",
        "        return n * factorial_recursive(n - 1)\n",
        "    else:\n",
        "        return 1"
      ],
      "execution_count": 0,
      "outputs": []
    },
    {
      "cell_type": "code",
      "metadata": {
        "colab_type": "code",
        "id": "aWoweujRUuNj",
        "outputId": "1667a863-471f-4648-d18c-6a6d5b1e4416",
        "colab": {
          "base_uri": "https://localhost:8080/",
          "height": 34
        }
      },
      "source": [
        "print(factorial_recursive(3))"
      ],
      "execution_count": 13,
      "outputs": [
        {
          "output_type": "stream",
          "text": [
            "6\n"
          ],
          "name": "stdout"
        }
      ]
    },
    {
      "cell_type": "code",
      "metadata": {
        "colab_type": "code",
        "id": "ToNrqyI2U1Lk",
        "colab": {}
      },
      "source": [
        "def compute_ratio(x, n):\n",
        "    ratio = x**n / factorial(n)\n",
        "    return ratio"
      ],
      "execution_count": 0,
      "outputs": []
    },
    {
      "cell_type": "code",
      "metadata": {
        "colab_type": "code",
        "id": "b8Uy6f38VFrA",
        "outputId": "fcaac189-cfab-4478-cd57-7b1b40d0318d",
        "colab": {
          "base_uri": "https://localhost:8080/",
          "height": 34
        }
      },
      "source": [
        "compute_ratio(2, 3)"
      ],
      "execution_count": 15,
      "outputs": [
        {
          "output_type": "execute_result",
          "data": {
            "text/plain": [
              "1.3333333333333333"
            ]
          },
          "metadata": {
            "tags": []
          },
          "execution_count": 15
        }
      ]
    },
    {
      "cell_type": "code",
      "metadata": {
        "colab_type": "code",
        "id": "vxlEocSAVKKV",
        "colab": {}
      },
      "source": [
        "def compute_sum(x, N):\n",
        "    sum = 1\n",
        "    for i in range(N):\n",
        "        sum += compute_ratio(x, i + 1)\n",
        "    return sum"
      ],
      "execution_count": 0,
      "outputs": []
    },
    {
      "cell_type": "code",
      "metadata": {
        "colab_type": "code",
        "id": "GfLj3W_LVnEP",
        "outputId": "b9618493-1669-4d4b-c073-9219afddde9c",
        "colab": {
          "base_uri": "https://localhost:8080/",
          "height": 34
        }
      },
      "source": [
        "print(compute_sum(2, 3))"
      ],
      "execution_count": 17,
      "outputs": [
        {
          "output_type": "stream",
          "text": [
            "6.333333333333333\n"
          ],
          "name": "stdout"
        }
      ]
    },
    {
      "cell_type": "code",
      "metadata": {
        "colab_type": "code",
        "id": "X9xeyyQgXPeK",
        "colab": {}
      },
      "source": [
        "def compute_sum_epsilon(x, epsilon):\n",
        "    sum = 1\n",
        "    var = epsilon\n",
        "    i = 1\n",
        "    while var >= epsilon:\n",
        "        var = compute_ratio(x, i)\n",
        "        sum += var\n",
        "        i += 1\n",
        "    return sum"
      ],
      "execution_count": 0,
      "outputs": []
    },
    {
      "cell_type": "code",
      "metadata": {
        "colab_type": "code",
        "id": "p9LWX9AzYMHV",
        "outputId": "12b5f85a-a8fb-458d-9251-03effbecba95",
        "colab": {
          "base_uri": "https://localhost:8080/",
          "height": 34
        }
      },
      "source": [
        "print(compute_sum_epsilon(2, 0.01))"
      ],
      "execution_count": 19,
      "outputs": [
        {
          "output_type": "stream",
          "text": [
            "7.387301587301587\n"
          ],
          "name": "stdout"
        }
      ]
    },
    {
      "cell_type": "code",
      "metadata": {
        "colab_type": "code",
        "id": "P3vJGNDtYSqb",
        "outputId": "b446bb48-0f17-4417-b227-02dfb0a00fcc",
        "colab": {
          "base_uri": "https://localhost:8080/",
          "height": 34
        }
      },
      "source": [
        "print(compute_sum(2, 100))"
      ],
      "execution_count": 20,
      "outputs": [
        {
          "output_type": "stream",
          "text": [
            "7.389056098930649\n"
          ],
          "name": "stdout"
        }
      ]
    },
    {
      "cell_type": "code",
      "metadata": {
        "colab_type": "code",
        "id": "ij3QCexDYWSN",
        "colab": {}
      },
      "source": [
        "def compute_sum_epsilon(x, epsilon):\n",
        "    sum = 1\n",
        "    i = 1\n",
        "    while True: \n",
        "        var = compute_ratio(x, i)\n",
        "        sum += var\n",
        "        i += 1\n",
        "        if var < epsilon:\n",
        "            break\n",
        "    return sum"
      ],
      "execution_count": 0,
      "outputs": []
    },
    {
      "cell_type": "code",
      "metadata": {
        "colab_type": "code",
        "id": "mBU-t0MEYtyV",
        "outputId": "aa9aeb34-da3f-4fff-e3c1-9a09fc57b085",
        "colab": {
          "base_uri": "https://localhost:8080/",
          "height": 34
        }
      },
      "source": [
        "print(compute_sum_epsilon(2, 0.01))"
      ],
      "execution_count": 22,
      "outputs": [
        {
          "output_type": "stream",
          "text": [
            "7.387301587301587\n"
          ],
          "name": "stdout"
        }
      ]
    },
    {
      "cell_type": "code",
      "metadata": {
        "colab_type": "code",
        "id": "m49f0Oz_YvBt",
        "outputId": "cd19beca-1810-43ee-8a24-dbef3170203f",
        "colab": {
          "base_uri": "https://localhost:8080/",
          "height": 34
        }
      },
      "source": [
        "p = -1.5\n",
        "q = 7.1\n",
        "\n",
        "v1 = compute_sum(p, 100) * compute_sum(q, 100)\n",
        "v2 = compute_sum(p + q, 100)\n",
        "\n",
        "print(v1, v2, v2 - v1)"
      ],
      "execution_count": 24,
      "outputs": [
        {
          "output_type": "stream",
          "text": [
            "270.4264074261525 270.4264074261526 1.1368683772161603e-13\n"
          ],
          "name": "stdout"
        }
      ]
    },
    {
      "cell_type": "code",
      "metadata": {
        "colab_type": "code",
        "id": "ephxfwVeZBF4",
        "outputId": "f3b43141-5036-4108-f176-212d70a2cf5f",
        "colab": {
          "base_uri": "https://localhost:8080/",
          "height": 187
        }
      },
      "source": [
        "for i in range(10):\n",
        "    print(i, compute_sum(i, 100))"
      ],
      "execution_count": 25,
      "outputs": [
        {
          "output_type": "stream",
          "text": [
            "0 1.0\n",
            "1 2.7182818284590455\n",
            "2 7.389056098930649\n",
            "3 20.08553692318766\n",
            "4 54.598150033144265\n",
            "5 148.41315910257657\n",
            "6 403.4287934927351\n",
            "7 1096.6331584284578\n",
            "8 2980.957987041728\n",
            "9 8103.083927575384\n"
          ],
          "name": "stdout"
        }
      ]
    },
    {
      "cell_type": "code",
      "metadata": {
        "colab_type": "code",
        "id": "Oa1ECdM4ZZmm",
        "colab": {}
      },
      "source": [
        ""
      ],
      "execution_count": 0,
      "outputs": []
    }
  ]
}